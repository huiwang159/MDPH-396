{
 "cells": [
  {
   "cell_type": "code",
   "execution_count": 1,
   "metadata": {},
   "outputs": [],
   "source": [
    "from py4j.java_gateway import JavaGateway\n",
    "gateway = JavaGateway()\n",
    "metamap = gateway.entry_point"
   ]
  },
  {
   "cell_type": "code",
   "execution_count": 23,
   "metadata": {},
   "outputs": [
    {
     "name": "stdout",
     "output_type": "stream",
     "text": [
      "1\t0\tneop\tC0242379\tmalignant neoplasm of lung|lung, cancer\n",
      "1\t0\tneop\tC0684249\tcarcinoma of lung|lung, cancer\n",
      "1\t0\tneop\tC1306460\tprimary malignant neoplasm of lung|lung, cancer\n"
     ]
    }
   ],
   "source": [
    "print(metamap.all('lung cancer'))"
   ]
  }
 ],
 "metadata": {
  "kernelspec": {
   "display_name": "Python 3",
   "language": "python",
   "name": "python3"
  },
  "language_info": {
   "codemirror_mode": {
    "name": "ipython",
    "version": 3
   },
   "file_extension": ".py",
   "mimetype": "text/x-python",
   "name": "python",
   "nbconvert_exporter": "python",
   "pygments_lexer": "ipython3",
   "version": "3.6.4"
  }
 },
 "nbformat": 4,
 "nbformat_minor": 2
}

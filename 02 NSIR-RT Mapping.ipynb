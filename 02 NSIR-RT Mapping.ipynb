{
 "cells": [
  {
   "cell_type": "markdown",
   "metadata": {},
   "source": [
    "# NSIR-RT Mapping\n",
    "The MUHC data uses the 2016 version of the NSIR-RT, while the CIHI data uses the 2017 version. Here, we map the MUHC data to the CIHI data."
   ]
  },
  {
   "cell_type": "code",
   "execution_count": 1,
   "metadata": {},
   "outputs": [],
   "source": [
    "import csv\n",
    "import pandas"
   ]
  },
  {
   "cell_type": "code",
   "execution_count": 2,
   "metadata": {},
   "outputs": [],
   "source": [
    "muhc = pandas.read_csv('01 MUHC Relevant.csv', delimiter=',', encoding='latin-1').fillna('')\n",
    "cihi = pandas.read_csv('01 CIHI Relevant.csv', delimiter=',', encoding='latin-1').fillna('')"
   ]
  },
  {
   "cell_type": "markdown",
   "metadata": {},
   "source": [
    "### Process Step"
   ]
  },
  {
   "cell_type": "code",
   "execution_count": 3,
   "metadata": {},
   "outputs": [
    {
     "data": {
      "text/plain": [
       "{'',\n",
       " 'Imaging for radiotherapy planning',\n",
       " 'On-treatment quality management',\n",
       " 'Other',\n",
       " 'Patient assessment or consultation',\n",
       " 'Post-treatment completion',\n",
       " 'Pre-treatment review and verification',\n",
       " 'Treatment delivery',\n",
       " 'Treatment planning'}"
      ]
     },
     "execution_count": 3,
     "metadata": {},
     "output_type": "execute_result"
    }
   ],
   "source": [
    "set(muhc['Process Step'])"
   ]
  },
  {
   "cell_type": "code",
   "execution_count": 4,
   "metadata": {},
   "outputs": [
    {
     "data": {
      "text/plain": [
       "{'Contouring and planning',\n",
       " 'Imaging for treatment planning',\n",
       " 'Interventional procedure for planning and/or delivery',\n",
       " 'Not Applicable',\n",
       " 'On-treatment quality assurance',\n",
       " 'Other',\n",
       " 'Patient assessment/consultation (Retired Value)',\n",
       " 'Patient medical consultation and physician assessment',\n",
       " 'Post-treatment completion ',\n",
       " 'Pre-treatment quality assurance',\n",
       " 'Radiation treatment prescription scheduling',\n",
       " 'Treatment delivery'}"
      ]
     },
     "execution_count": 4,
     "metadata": {},
     "output_type": "execute_result"
    }
   ],
   "source": [
    "set(cihi['Process Step'])"
   ]
  },
  {
   "cell_type": "code",
   "execution_count": 5,
   "metadata": {},
   "outputs": [],
   "source": [
    "ps_mapping = {}\n",
    "\n",
    "# From MUHC to CIHI\n",
    "ps_mapping['Imaging for radiotherapy planning'] = 'Imaging for treatment planning'\n",
    "ps_mapping['On-treatment quality management'] = 'On-treatment quality assurance'\n",
    "ps_mapping['Patient assessment or consultation'] = 'Patient medical consultation and physician assessment'\n",
    "ps_mapping['Pre-treatment review and verification'] = 'Pre-treatment quality assurance'\n",
    "ps_mapping['Treatment planning'] = 'Contouring and planning'\n",
    "\n",
    "# From CIHI to CIHI\n",
    "ps_mapping['Not Applicable'] = ''\n",
    "ps_mapping['Patient assessment/consultation (Retired Value)'] = 'Patient medical consultation and physician assessment'\n",
    "ps_mapping['Post-treatment completion '] = 'Post-treatment completion'\n",
    "ps_mapping['Other'] = ''"
   ]
  },
  {
   "cell_type": "code",
   "execution_count": 6,
   "metadata": {},
   "outputs": [],
   "source": [
    "def map_value(mapping, old_value):\n",
    "    try:\n",
    "        return mapping[old_value]\n",
    "    except Exception:\n",
    "        return old_value"
   ]
  },
  {
   "cell_type": "code",
   "execution_count": 7,
   "metadata": {},
   "outputs": [],
   "source": [
    "muhc['Process Step'] = muhc['Process Step'].apply(lambda x:map_value(ps_mapping, x))\n",
    "cihi['Process Step'] = cihi['Process Step'].apply(lambda x:map_value(ps_mapping, x))"
   ]
  },
  {
   "cell_type": "markdown",
   "metadata": {},
   "source": [
    "### Problem Type"
   ]
  },
  {
   "cell_type": "code",
   "execution_count": 8,
   "metadata": {},
   "outputs": [
    {
     "data": {
      "text/plain": [
       "{'',\n",
       " 'Calculation error',\n",
       " 'Combined modality treatment scheduling error',\n",
       " 'Fall or other accident',\n",
       " 'Hardware/Software',\n",
       " 'Interventional procedure error',\n",
       " 'Other',\n",
       " 'Radiation treatment scheduling error',\n",
       " 'Wrong anatomical site',\n",
       " 'Wrong patient',\n",
       " 'Wrong patient position',\n",
       " 'Wrong prescription dose',\n",
       " 'Wrong shift from setup point',\n",
       " 'Wrong target or OAR contours, or wrong planning margins',\n",
       " 'Wrong treatment accessories'}"
      ]
     },
     "execution_count": 8,
     "metadata": {},
     "output_type": "execute_result"
    }
   ],
   "source": [
    "set(muhc['Problem Type'])"
   ]
  },
  {
   "cell_type": "code",
   "execution_count": 9,
   "metadata": {},
   "outputs": [
    {
     "data": {
      "text/plain": [
       "{'Allergic reaction',\n",
       " 'Excess imaging dose ',\n",
       " 'Failure to perform on-treatment imaging as per instructions',\n",
       " 'Fall or other patient injury or medical condition',\n",
       " 'Inadequate coordination of combined modality care',\n",
       " 'Inappropriate or poorly informed decision to treat or plan',\n",
       " 'Infection',\n",
       " 'Interventional procedure error (Retired value)',\n",
       " 'Other',\n",
       " 'Radiation therapy scheduling error',\n",
       " 'Systematic hardware/software (including dose-volume) error',\n",
       " 'Treatment not delivered - personnel/hardware/software failure',\n",
       " 'Treatment plan (isodose distribution) unacceptable',\n",
       " 'Treatment plan acceptable but not physically deliverable',\n",
       " 'Untimely access to medical care or radiotherapy',\n",
       " 'Wrong anatomical site (excluding laterality)',\n",
       " 'Wrong patient',\n",
       " 'Wrong patient position, setup point, or shift',\n",
       " 'Wrong plan dose (Retired value)',\n",
       " 'Wrong planning margins',\n",
       " 'Wrong prescription dose-fractionation or calculation error',\n",
       " 'Wrong side (laterality)',\n",
       " 'Wrong target or OAR contours',\n",
       " 'Wrong target or OAR contours or wrong planning (Retired Value)',\n",
       " 'Wrong, missing, mislabeled, or damaged treatment accessories'}"
      ]
     },
     "execution_count": 9,
     "metadata": {},
     "output_type": "execute_result"
    }
   ],
   "source": [
    "set(cihi['Problem Type'])"
   ]
  },
  {
   "cell_type": "code",
   "execution_count": 10,
   "metadata": {},
   "outputs": [],
   "source": [
    "pt_mapping = {}\n",
    "\n",
    "# From MUHC to CIHI\n",
    "pt_mapping['Calculation error'] = 'Wrong prescription dose-fractionation or calculation error'\n",
    "pt_mapping['Combined modality treatment scheduling error'] = 'Radiation therapy scheduling error'\n",
    "pt_mapping['Fall or other accident'] = 'Fall or other patient injury or medical condition'\n",
    "pt_mapping['Hardware/Software'] = 'Systematic hardware/software (including dose-volume) error'\n",
    "pt_mapping['Interventional procedure error'] = 'Interventional procedure error (Retired value)'\n",
    "pt_mapping['Radiation treatment scheduling error'] = 'Radiation therapy scheduling error'\n",
    "pt_mapping['Wrong anatomical site'] = 'Wrong anatomical site (excluding laterality)'\n",
    "pt_mapping['Wrong patient position'] = 'Wrong patient position, setup point, or shift'\n",
    "pt_mapping['Wrong prescription dose'] = 'Wrong plan dose (Retired value)'\n",
    "pt_mapping['Wrong shift from setup point'] = 'Wrong patient position, setup point, or shift'\n",
    "pt_mapping['Wrong target or OAR contours, or wrong planning margins'] = 'Wrong target or OAR contours or wrong planning (Retired Value)'\n",
    "pt_mapping['Wrong treatment accessories'] = 'Wrong, missing, mislabeled, or damaged treatment accessories'\n",
    "pt_mapping['Other'] = ''\n",
    "pt_mapping[''] = ''"
   ]
  },
  {
   "cell_type": "code",
   "execution_count": 11,
   "metadata": {},
   "outputs": [],
   "source": [
    "muhc['Problem Type'] = muhc['Problem Type'].apply(lambda x:map_value(pt_mapping, x))\n",
    "cihi['Problem Type'] = cihi['Problem Type'].apply(lambda x:map_value(pt_mapping, x))"
   ]
  },
  {
   "cell_type": "markdown",
   "metadata": {},
   "source": [
    "### Contributing Factors"
   ]
  },
  {
   "cell_type": "code",
   "execution_count": 12,
   "metadata": {},
   "outputs": [],
   "source": [
    "muhc_cfs = []\n",
    "for cfs in set(muhc['Contributing Factors']):\n",
    "    for cf in cfs.split('&'):\n",
    "        muhc_cfs.append(cf.strip())"
   ]
  },
  {
   "cell_type": "code",
   "execution_count": 13,
   "metadata": {},
   "outputs": [
    {
     "data": {
      "text/plain": [
       "{'',\n",
       " 'Capital resources inadequate',\n",
       " 'Commissioning or acceptance testing inadequate',\n",
       " 'Communication inappropriate or misdirected',\n",
       " 'Communication not timely',\n",
       " 'Conflicted',\n",
       " 'Documentation poor, incomplete, unclear or missing',\n",
       " 'Education or training inadequate',\n",
       " 'Expectation bias',\n",
       " 'External factors beyond programmatic control',\n",
       " 'Failure to recognize a hazard',\n",
       " 'Failure to select the correct rule',\n",
       " 'Human behavior involving staff',\n",
       " 'Human resources inadequate',\n",
       " 'Inadequate needs or risk assessment',\n",
       " 'Loss of attention',\n",
       " 'Materials, tools or equipment inadequate or insufficient',\n",
       " 'Medical record poor, incomplete, unclear or missing',\n",
       " 'Non-existent',\n",
       " 'Not followed',\n",
       " 'Other',\n",
       " 'Patient related circumstances',\n",
       " 'Physical environment inadequate',\n",
       " 'Plan forgotten in progress',\n",
       " 'Software operational error'}"
      ]
     },
     "execution_count": 13,
     "metadata": {},
     "output_type": "execute_result"
    }
   ],
   "source": [
    "set(muhc_cfs)"
   ]
  },
  {
   "cell_type": "code",
   "execution_count": 14,
   "metadata": {},
   "outputs": [],
   "source": [
    "cihi_cfs = []\n",
    "for cfs in set(cihi['Contributing Factors']):\n",
    "    temp = cfs.replace(\"Equipment software or hardware design, including 'human factors' design, inadequate\", \"Equipment software or hardware design including 'human factors' design inadequate\")\n",
    "    temp = temp.replace(\"Equipment software or hardware commissioning, calibration or acceptance testing inadequate\", \"Equipment software or hardware commissioning calibration or acceptance testing inadequate\")\n",
    "    temp = temp.replace(\"Patient or family member medical condition, preference or behaviour \", \"Patient or family member medical condition preference or behaviour\")\n",
    "    for cf in temp.split(','):\n",
    "        cihi_cfs.append(cf.strip())"
   ]
  },
  {
   "cell_type": "code",
   "execution_count": 15,
   "metadata": {},
   "outputs": [
    {
     "data": {
      "text/plain": [
       "{'Change management',\n",
       " 'Communication or documentation inadequate (patient specific)',\n",
       " 'Distraction or diversions involving staff',\n",
       " 'Equipment quality assurance and/or maintenance inadequate',\n",
       " 'Equipment software or hardware commissioning calibration or acceptance testing inadequate',\n",
       " \"Equipment software or hardware design including 'human factors' design inadequate\",\n",
       " 'Expectation bias involving staff',\n",
       " 'External factors beyond programmatic control',\n",
       " 'Failure to identify potential risks',\n",
       " 'Handoffs inadequate',\n",
       " 'Human resources inadequate',\n",
       " 'Organizational and/or workspace resources inadequate (excluding human resources)',\n",
       " 'Other',\n",
       " 'Patient education inadequate',\n",
       " 'Patient or family member medical condition preference or behaviour',\n",
       " 'Policies and/or procedures non-existent or inadequate',\n",
       " 'Policies and/or procedures not followed',\n",
       " 'Staff behaviour',\n",
       " 'Staff education or training inadequate',\n",
       " 'Unfamiliar treatment approach or radiation treatment technique'}"
      ]
     },
     "execution_count": 15,
     "metadata": {},
     "output_type": "execute_result"
    }
   ],
   "source": [
    "set(cihi_cfs)"
   ]
  },
  {
   "cell_type": "code",
   "execution_count": 16,
   "metadata": {},
   "outputs": [],
   "source": [
    "cf_mapping = {}\n",
    "\n",
    "# From MUHC to CIHI\n",
    "cf_mapping['']= ''\n",
    "cf_mapping['Capital resources inadequate']= 'Organizational and/or workspace resources inadequate (excluding human resources)'\n",
    "cf_mapping['Commissioning or acceptance testing inadequate']= 'Equipment software or hardware commissioning, calibration or acceptance testing inadequate'\n",
    "cf_mapping['Communication inappropriate or misdirected']= 'Communication or documentation inadequate (patient specific)'\n",
    "cf_mapping['Communication not timely']= 'Communication or documentation inadequate (patient specific)'\n",
    "cf_mapping['Conflicted']= ''\n",
    "cf_mapping['Documentation poor, incomplete, unclear or missing']= 'Communication or documentation inadequate (patient specific)'\n",
    "cf_mapping['Education or training inadequate']= 'Staff education or training inadequate'\n",
    "cf_mapping['Expectation bias']= 'Expectation bias involving staff'\n",
    "cf_mapping['External factors beyond programmatic control']= 'External factors beyond programmatic control'\n",
    "cf_mapping['Failure to recognize a hazard']= 'Failure to identify potential risks'\n",
    "cf_mapping['Failure to select the correct rule']= 'Policies and/or procedures not followed'\n",
    "cf_mapping['Human behavior involving staff']= 'Staff behaviour'\n",
    "cf_mapping['Human resources inadequate']= 'Human resources inadequate'\n",
    "cf_mapping['Inadequate needs or risk assessment']= 'Failure to identify potential risks'\n",
    "cf_mapping['Loss of attention']= 'Distraction or diversions involving staff'\n",
    "cf_mapping['Materials, tools or equipment inadequate or insufficient']= 'Organizational and/or workspace resources inadequate (excluding human resources)'\n",
    "cf_mapping['Medical record poor, incomplete, unclear or missing']= 'Communication or documentation inadequate (patient specific)'\n",
    "cf_mapping['Non-existent']= ''\n",
    "cf_mapping['Not followed']= 'Policies and/or procedures not followed'\n",
    "cf_mapping['Other']= ''\n",
    "cf_mapping['Patient related circumstances']= 'Patient or family member medical condition preference or behaviour'\n",
    "cf_mapping['Physical environment inadequate']= 'Organizational and/or workspace resources inadequate (excluding human resources)'\n",
    "cf_mapping['Plan forgotten in progress']= 'Policies and/or procedures not followed'\n",
    "cf_mapping['Software operational error']= 'Policies and/or procedures not followed'\n",
    "\n",
    "# From CIHI to CIHI\n",
    "cf_mapping['Equipment software or hardware design including human factors design inadequate'] = 'Equipment software or hardware design, including \\'human factors\\' design, inadequate'\n",
    "cf_mapping['Equipment software or hardware commissioning calibration or acceptance testing inadequate'] = 'Equipment software or hardware commissioning, calibration or acceptance testing inadequate'\n",
    "cf_mapping['Patient or family member medical condition preference or behaviour'] = 'Patient or family member medical condition, preference or behaviour'"
   ]
  },
  {
   "cell_type": "code",
   "execution_count": 17,
   "metadata": {},
   "outputs": [],
   "source": [
    "def map_muhc_cfs(cfs):\n",
    "    mapped_values = []\n",
    "    for cf in cfs.split('&'):\n",
    "        try:\n",
    "            mapped_values.append(cf_mapping[cf.strip()])\n",
    "        except Exception:\n",
    "            mapped_values.append(cf.strip().replace(',', '').replace('\\'', ''))\n",
    "    return '|'.join(mapped_values)"
   ]
  },
  {
   "cell_type": "code",
   "execution_count": 18,
   "metadata": {},
   "outputs": [],
   "source": [
    "def map_cihi_cfs(cfs):\n",
    "    \n",
    "    cf_list = []\n",
    "    temp = cfs.replace('Equipment software or hardware design, including \\'human factors\\' design, inadequate', 'Equipment software or hardware design including human factors design inadequate')\n",
    "    temp = temp.replace('Equipment software or hardware commissioning, calibration or acceptance testing inadequate', 'Equipment software or hardware commissioning calibration or acceptance testing inadequate')\n",
    "    temp = temp.replace('Patient or family member medical condition, preference or behaviour', 'Patient or family member medical condition preference or behaviour')\n",
    "    for cf in temp.split(','):\n",
    "        cf_list.append(cf.strip())\n",
    "        \n",
    "    mapped_cfs = []\n",
    "    for cf in cf_list:\n",
    "        try:\n",
    "            mapped_cfs.append(cf_mapping[cf.strip()])\n",
    "        except Exception:\n",
    "            mapped_cfs.append(cf.strip())\n",
    "    return '|'.join(mapped_cfs)"
   ]
  },
  {
   "cell_type": "code",
   "execution_count": 19,
   "metadata": {},
   "outputs": [],
   "source": [
    "muhc['Contributing Factors'] = muhc['Contributing Factors'].apply(lambda x:map_muhc_cfs(x))\n",
    "cihi['Contributing Factors'] = cihi['Contributing Factors'].apply(lambda x:map_cihi_cfs(x))"
   ]
  },
  {
   "cell_type": "markdown",
   "metadata": {},
   "source": [
    "### Overall Severity"
   ]
  },
  {
   "cell_type": "code",
   "execution_count": 20,
   "metadata": {},
   "outputs": [
    {
     "data": {
      "text/plain": [
       "{'', 'Mild', 'None'}"
      ]
     },
     "execution_count": 20,
     "metadata": {},
     "output_type": "execute_result"
    }
   ],
   "source": [
    "set(muhc['Overall Severity'])"
   ]
  },
  {
   "cell_type": "code",
   "execution_count": 21,
   "metadata": {},
   "outputs": [
    {
     "data": {
      "text/plain": [
       "{'Mild', 'Moderate', 'None', 'Not Applicable', 'Severe'}"
      ]
     },
     "execution_count": 21,
     "metadata": {},
     "output_type": "execute_result"
    }
   ],
   "source": [
    "set(cihi['Overall Severity'])"
   ]
  },
  {
   "cell_type": "code",
   "execution_count": 22,
   "metadata": {},
   "outputs": [],
   "source": [
    "os_mapping = {}\n",
    "\n",
    "# From CIHI to CIHI\n",
    "os_mapping['Not Applicable'] = ''"
   ]
  },
  {
   "cell_type": "code",
   "execution_count": 23,
   "metadata": {},
   "outputs": [],
   "source": [
    "muhc['Overall Severity'] = muhc['Overall Severity'].apply(lambda x:map_value(os_mapping, x))\n",
    "cihi['Overall Severity'] = cihi['Overall Severity'].apply(lambda x:map_value(os_mapping, x))"
   ]
  },
  {
   "cell_type": "code",
   "execution_count": 24,
   "metadata": {},
   "outputs": [],
   "source": [
    "muhc.to_csv('02 MUHC Mapped.csv', encoding='utf-8', index=False, quoting=csv.QUOTE_NONNUMERIC)\n",
    "cihi.to_csv('02 CIHI Mapped.csv', encoding='utf-8', index=False, quoting=csv.QUOTE_NONNUMERIC)"
   ]
  }
 ],
 "metadata": {
  "kernelspec": {
   "display_name": "Python 3",
   "language": "python",
   "name": "python3"
  },
  "language_info": {
   "codemirror_mode": {
    "name": "ipython",
    "version": 3
   },
   "file_extension": ".py",
   "mimetype": "text/x-python",
   "name": "python",
   "nbconvert_exporter": "python",
   "pygments_lexer": "ipython3",
   "version": "3.6.4"
  }
 },
 "nbformat": 4,
 "nbformat_minor": 2
}

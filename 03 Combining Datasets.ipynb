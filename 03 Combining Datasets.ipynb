{
 "cells": [
  {
   "cell_type": "markdown",
   "metadata": {},
   "source": [
    "# Combining Datasets"
   ]
  },
  {
   "cell_type": "code",
   "execution_count": 1,
   "metadata": {},
   "outputs": [],
   "source": [
    "import csv\n",
    "import pandas\n",
    "pandas.set_option('display.max_colwidth', 0)"
   ]
  },
  {
   "cell_type": "code",
   "execution_count": 2,
   "metadata": {},
   "outputs": [
    {
     "data": {
      "text/html": [
       "<div>\n",
       "<style scoped>\n",
       "    .dataframe tbody tr th:only-of-type {\n",
       "        vertical-align: middle;\n",
       "    }\n",
       "\n",
       "    .dataframe tbody tr th {\n",
       "        vertical-align: top;\n",
       "    }\n",
       "\n",
       "    .dataframe thead th {\n",
       "        text-align: right;\n",
       "    }\n",
       "</style>\n",
       "<table border=\"1\" class=\"dataframe\">\n",
       "  <thead>\n",
       "    <tr style=\"text-align: right;\">\n",
       "      <th></th>\n",
       "      <th>ID</th>\n",
       "      <th>Process Step</th>\n",
       "      <th>Problem Type</th>\n",
       "      <th>Contributing Factors</th>\n",
       "      <th>Overall Severity</th>\n",
       "      <th>Incident Description</th>\n",
       "    </tr>\n",
       "  </thead>\n",
       "  <tbody>\n",
       "    <tr>\n",
       "      <th>0</th>\n",
       "      <td>2511</td>\n",
       "      <td>Treatment delivery</td>\n",
       "      <td>Wrong, missing, mislabeled, or damaged treatment accessories</td>\n",
       "      <td>Distraction or diversions involving staff</td>\n",
       "      <td>None</td>\n",
       "      <td>Non prescribed bolus . Bolus was not prescribed by MD. Pt received 2 treatments wothout bolus.</td>\n",
       "    </tr>\n",
       "  </tbody>\n",
       "</table>\n",
       "</div>"
      ],
      "text/plain": [
       "     ID        Process Step  \\\n",
       "0  2511  Treatment delivery   \n",
       "\n",
       "                                                   Problem Type  \\\n",
       "0  Wrong, missing, mislabeled, or damaged treatment accessories   \n",
       "\n",
       "                        Contributing Factors Overall Severity  \\\n",
       "0  Distraction or diversions involving staff  None              \n",
       "\n",
       "                                                                             Incident Description  \n",
       "0  Non prescribed bolus . Bolus was not prescribed by MD. Pt received 2 treatments wothout bolus.  "
      ]
     },
     "execution_count": 2,
     "metadata": {},
     "output_type": "execute_result"
    }
   ],
   "source": [
    "muhc = pandas.read_csv('02 MUHC Mapped.csv', delimiter=',', encoding='latin-1').fillna('')\n",
    "muhc[:1]"
   ]
  },
  {
   "cell_type": "code",
   "execution_count": 3,
   "metadata": {},
   "outputs": [
    {
     "data": {
      "text/html": [
       "<div>\n",
       "<style scoped>\n",
       "    .dataframe tbody tr th:only-of-type {\n",
       "        vertical-align: middle;\n",
       "    }\n",
       "\n",
       "    .dataframe tbody tr th {\n",
       "        vertical-align: top;\n",
       "    }\n",
       "\n",
       "    .dataframe thead th {\n",
       "        text-align: right;\n",
       "    }\n",
       "</style>\n",
       "<table border=\"1\" class=\"dataframe\">\n",
       "  <thead>\n",
       "    <tr style=\"text-align: right;\">\n",
       "      <th></th>\n",
       "      <th>ID</th>\n",
       "      <th>Process Step</th>\n",
       "      <th>Problem Type</th>\n",
       "      <th>Contributing Factors</th>\n",
       "      <th>Overall Severity</th>\n",
       "      <th>Incident Description</th>\n",
       "    </tr>\n",
       "  </thead>\n",
       "  <tbody>\n",
       "    <tr>\n",
       "      <th>0</th>\n",
       "      <td>100124165</td>\n",
       "      <td>Imaging for treatment planning</td>\n",
       "      <td></td>\n",
       "      <td>Policies and/or procedures non-existent or inadequate</td>\n",
       "      <td>None</td>\n",
       "      <td>Laser origin tattooed instead of isocentre.  Resulted in large shift on treatment.</td>\n",
       "    </tr>\n",
       "  </tbody>\n",
       "</table>\n",
       "</div>"
      ],
      "text/plain": [
       "          ID                    Process Step Problem Type  \\\n",
       "0  100124165  Imaging for treatment planning                \n",
       "\n",
       "                                    Contributing Factors Overall Severity  \\\n",
       "0  Policies and/or procedures non-existent or inadequate  None              \n",
       "\n",
       "                                                                 Incident Description  \n",
       "0  Laser origin tattooed instead of isocentre.  Resulted in large shift on treatment.  "
      ]
     },
     "execution_count": 3,
     "metadata": {},
     "output_type": "execute_result"
    }
   ],
   "source": [
    "cihi = pandas.read_csv('02 CIHI Mapped.csv', delimiter=',', encoding='latin-1').fillna('')\n",
    "cihi[:1]"
   ]
  },
  {
   "cell_type": "code",
   "execution_count": 6,
   "metadata": {},
   "outputs": [
    {
     "data": {
      "text/html": [
       "<div>\n",
       "<style scoped>\n",
       "    .dataframe tbody tr th:only-of-type {\n",
       "        vertical-align: middle;\n",
       "    }\n",
       "\n",
       "    .dataframe tbody tr th {\n",
       "        vertical-align: top;\n",
       "    }\n",
       "\n",
       "    .dataframe thead th {\n",
       "        text-align: right;\n",
       "    }\n",
       "</style>\n",
       "<table border=\"1\" class=\"dataframe\">\n",
       "  <thead>\n",
       "    <tr style=\"text-align: right;\">\n",
       "      <th></th>\n",
       "      <th>ID</th>\n",
       "      <th>Process Step</th>\n",
       "      <th>Problem Type</th>\n",
       "      <th>Contributing Factors</th>\n",
       "      <th>Overall Severity</th>\n",
       "      <th>Incident Description</th>\n",
       "    </tr>\n",
       "  </thead>\n",
       "  <tbody>\n",
       "    <tr>\n",
       "      <th>0</th>\n",
       "      <td>2511</td>\n",
       "      <td>Treatment delivery</td>\n",
       "      <td>Wrong, missing, mislabeled, or damaged treatment accessories</td>\n",
       "      <td>Distraction or diversions involving staff</td>\n",
       "      <td>None</td>\n",
       "      <td>Non prescribed bolus . Bolus was not prescribed by MD. Pt received 2 treatments wothout bolus.</td>\n",
       "    </tr>\n",
       "  </tbody>\n",
       "</table>\n",
       "</div>"
      ],
      "text/plain": [
       "     ID        Process Step  \\\n",
       "0  2511  Treatment delivery   \n",
       "\n",
       "                                                   Problem Type  \\\n",
       "0  Wrong, missing, mislabeled, or damaged treatment accessories   \n",
       "\n",
       "                        Contributing Factors Overall Severity  \\\n",
       "0  Distraction or diversions involving staff  None              \n",
       "\n",
       "                                                                             Incident Description  \n",
       "0  Non prescribed bolus . Bolus was not prescribed by MD. Pt received 2 treatments wothout bolus.  "
      ]
     },
     "execution_count": 6,
     "metadata": {},
     "output_type": "execute_result"
    }
   ],
   "source": [
    "combined = pandas.concat([muhc, cihi])\n",
    "combined[:1]"
   ]
  },
  {
   "cell_type": "code",
   "execution_count": 5,
   "metadata": {},
   "outputs": [],
   "source": [
    "combined.to_csv('03 Combined.csv', encoding='utf-8', index=False, quoting=csv.QUOTE_NONNUMERIC)"
   ]
  }
 ],
 "metadata": {
  "kernelspec": {
   "display_name": "Python 3",
   "language": "python",
   "name": "python3"
  },
  "language_info": {
   "codemirror_mode": {
    "name": "ipython",
    "version": 3
   },
   "file_extension": ".py",
   "mimetype": "text/x-python",
   "name": "python",
   "nbconvert_exporter": "python",
   "pygments_lexer": "ipython3",
   "version": "3.6.4"
  }
 },
 "nbformat": 4,
 "nbformat_minor": 2
}

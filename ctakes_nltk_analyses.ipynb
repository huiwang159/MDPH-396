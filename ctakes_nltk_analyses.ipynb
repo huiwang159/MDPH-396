{
 "cells": [
  {
   "cell_type": "code",
   "execution_count": 358,
   "metadata": {},
   "outputs": [],
   "source": [
    "import pandas\n",
    "import nltk\n",
    "import repportClass as rc\n",
    "import LinguisticClasses as lc\n",
    "import IOfonctions as io"
   ]
  },
  {
   "cell_type": "markdown",
   "metadata": {},
   "source": [
    "# Import Excel File"
   ]
  },
  {
   "cell_type": "code",
   "execution_count": 408,
   "metadata": {},
   "outputs": [],
   "source": [
    "data = pandas.read_csv('dump.csv', delimiter=',', encoding='latin-1')"
   ]
  },
  {
   "cell_type": "markdown",
   "metadata": {},
   "source": [
    "# Create Near Miss Column"
   ]
  },
  {
   "cell_type": "code",
   "execution_count": 409,
   "metadata": {},
   "outputs": [],
   "source": [
    "data['near_miss'] = data['event_type'].apply(lambda x: 1 if x=='Near miss' else 0)"
   ]
  },
  {
   "cell_type": "markdown",
   "metadata": {},
   "source": [
    "# Create Lists of NLTK Tags"
   ]
  },
  {
   "cell_type": "code",
   "execution_count": 361,
   "metadata": {},
   "outputs": [],
   "source": [
    "tags = ['CC', 'CD', 'DT', 'EX', 'FW', 'IN', 'JJ', 'JJR', 'JJS', 'LS', 'MD', 'NN', 'NNS', 'NNP', 'NNPS', 'PDT', 'POS', 'PRP', 'PRP$', 'RB', 'RBR', 'RBS', 'RP', 'TO', 'UH', 'VB', 'VBD', 'VBG', 'VBN', 'VBP', 'VBZ', 'WDT', 'WP', 'WP$', 'WRB']\n",
    "noun_tags = ['NN', 'NNS', 'NNP', 'NNPS']\n",
    "verb_tags = ['VB', 'VBD', 'VBG', 'VBN', 'VBP', 'VBZ']"
   ]
  },
  {
   "cell_type": "markdown",
   "metadata": {},
   "source": [
    "# Word Count Method"
   ]
  },
  {
   "cell_type": "code",
   "execution_count": 362,
   "metadata": {},
   "outputs": [
    {
     "data": {
      "text/plain": [
       "9"
      ]
     },
     "execution_count": 362,
     "metadata": {},
     "output_type": "execute_result"
    }
   ],
   "source": [
    "def wc(st):\n",
    "    return len(st.split(' '))\n",
    "wc ('During chart QA, it was noticed that a 0.3cm')"
   ]
  },
  {
   "cell_type": "markdown",
   "metadata": {},
   "source": [
    "# Tag Word by Category Method"
   ]
  },
  {
   "cell_type": "code",
   "execution_count": 363,
   "metadata": {
    "scrolled": true
   },
   "outputs": [
    {
     "data": {
      "text/plain": [
       "[('Missing', 'VBG'),\n",
       " ('info.', 'NN'),\n",
       " ('on', 'IN'),\n",
       " ('sim/ct', 'JJ'),\n",
       " ('sim', 'JJ'),\n",
       " ('sheet', 'NN')]"
      ]
     },
     "execution_count": 363,
     "metadata": {},
     "output_type": "execute_result"
    }
   ],
   "source": [
    "def tag(st):\n",
    "    return nltk.pos_tag(st.split())\n",
    "tag('Missing info. on sim/ct sim sheet')"
   ]
  },
  {
   "cell_type": "markdown",
   "metadata": {},
   "source": [
    "# Token Retrieval by NLTK Tags Method"
   ]
  },
  {
   "cell_type": "code",
   "execution_count": 400,
   "metadata": {},
   "outputs": [
    {
     "data": {
      "text/plain": [
       "['info.', 'sheet']"
      ]
     },
     "execution_count": 400,
     "metadata": {},
     "output_type": "execute_result"
    }
   ],
   "source": [
    "def this_tag(st, tl):\n",
    "    return [w for (w, t) in tag(st) if t in tl]\n",
    "this_tag('Missing info. on sim/ct sim sheet', ['NN'])"
   ]
  },
  {
   "cell_type": "markdown",
   "metadata": {},
   "source": [
    "# Token Retrieval by cTakes Annotation Methods"
   ]
  },
  {
   "cell_type": "code",
   "execution_count": 365,
   "metadata": {},
   "outputs": [
    {
     "data": {
      "text/plain": [
       "2"
      ]
     },
     "execution_count": 365,
     "metadata": {},
     "output_type": "execute_result"
    }
   ],
   "source": [
    "def ctakes_verbs(id):\n",
    "    fi = '/Users/erickvelazquez/Documents/RealDataSet/SeparatedRecords/output_Incident_description/'+str(id)+'.txt.xmi'\n",
    "    ob = rc.RecordCTakesProcessed(io.readXMIFile(fi), id)\n",
    "    return ob.getFrequencyPOS()[0]\n",
    "ctakes_verbs(2526)"
   ]
  },
  {
   "cell_type": "code",
   "execution_count": 366,
   "metadata": {},
   "outputs": [
    {
     "data": {
      "text/plain": [
       "6"
      ]
     },
     "execution_count": 366,
     "metadata": {},
     "output_type": "execute_result"
    }
   ],
   "source": [
    "def ctakes_nouns(id):\n",
    "    fi = '/Users/erickvelazquez/Documents/RealDataSet/SeparatedRecords/output_Incident_description/'+str(id)+'.txt.xmi'\n",
    "    ob = rc.RecordCTakesProcessed(io.readXMIFile(fi), id)\n",
    "    return ob.getFrequencyPOS()[1]\n",
    "ctakes_nouns(2526)"
   ]
  },
  {
   "cell_type": "code",
   "execution_count": 367,
   "metadata": {},
   "outputs": [
    {
     "data": {
      "text/plain": [
       "3"
      ]
     },
     "execution_count": 367,
     "metadata": {},
     "output_type": "execute_result"
    }
   ],
   "source": [
    "def ctakes_prepositions(id):\n",
    "    fi = '/Users/erickvelazquez/Documents/RealDataSet/SeparatedRecords/output_Incident_description/'+str(id)+'.txt.xmi'\n",
    "    ob = rc.RecordCTakesProcessed(io.readXMIFile(fi), id)\n",
    "    return ob.getFrequencyPOS()[2]\n",
    "ctakes_prepositions(2526)"
   ]
  },
  {
   "cell_type": "code",
   "execution_count": 368,
   "metadata": {},
   "outputs": [
    {
     "data": {
      "text/plain": [
       "1"
      ]
     },
     "execution_count": 368,
     "metadata": {},
     "output_type": "execute_result"
    }
   ],
   "source": [
    "def ctakes_pronouns(id):\n",
    "    fi = '/Users/erickvelazquez/Documents/RealDataSet/SeparatedRecords/output_Incident_description/'+str(id)+'.txt.xmi'\n",
    "    ob = rc.RecordCTakesProcessed(io.readXMIFile(fi), id)\n",
    "    return ob.getFrequencyPOS()[3]\n",
    "ctakes_pronouns(2526)"
   ]
  },
  {
   "cell_type": "code",
   "execution_count": 369,
   "metadata": {},
   "outputs": [
    {
     "data": {
      "text/plain": [
       "0"
      ]
     },
     "execution_count": 369,
     "metadata": {},
     "output_type": "execute_result"
    }
   ],
   "source": [
    "def ctakes_adverbs(id):\n",
    "    fi = '/Users/erickvelazquez/Documents/RealDataSet/SeparatedRecords/output_Incident_description/'+str(id)+'.txt.xmi'\n",
    "    ob = rc.RecordCTakesProcessed(io.readXMIFile(fi), id)\n",
    "    return ob.getFrequencyPOS()[4]\n",
    "ctakes_adverbs(2526)"
   ]
  },
  {
   "cell_type": "code",
   "execution_count": 370,
   "metadata": {},
   "outputs": [
    {
     "data": {
      "text/plain": [
       "0"
      ]
     },
     "execution_count": 370,
     "metadata": {},
     "output_type": "execute_result"
    }
   ],
   "source": [
    "def ctakes_adjectives(id):\n",
    "    fi = '/Users/erickvelazquez/Documents/RealDataSet/SeparatedRecords/output_Incident_description/'+str(id)+'.txt.xmi'\n",
    "    ob = rc.RecordCTakesProcessed(io.readXMIFile(fi), id)\n",
    "    return ob.getFrequencyPOS()[5]\n",
    "ctakes_adjectives(2526)"
   ]
  },
  {
   "cell_type": "code",
   "execution_count": 371,
   "metadata": {},
   "outputs": [
    {
     "data": {
      "text/plain": [
       "1"
      ]
     },
     "execution_count": 371,
     "metadata": {},
     "output_type": "execute_result"
    }
   ],
   "source": [
    "def ctakes_other(id):\n",
    "    fi = '/Users/erickvelazquez/Documents/RealDataSet/SeparatedRecords/output_Incident_description/'+str(id)+'.txt.xmi'\n",
    "    ob = rc.RecordCTakesProcessed(io.readXMIFile(fi), id)\n",
    "    return ob.getFrequencyPOS()[6]\n",
    "ctakes_other(2526)"
   ]
  },
  {
   "cell_type": "code",
   "execution_count": 372,
   "metadata": {},
   "outputs": [
    {
     "data": {
      "text/plain": [
       "[]"
      ]
     },
     "execution_count": 372,
     "metadata": {},
     "output_type": "execute_result"
    }
   ],
   "source": [
    "def ctakes_medical(id):\n",
    "    fi = '/Users/erickvelazquez/Documents/RealDataSet/SeparatedRecords/output_Incident_description/'+str(id)+'.txt.xmi'\n",
    "    ob = rc.RecordCTakesProcessed(io.readXMIFile(fi), id)\n",
    "    mentions = []\n",
    "    for it in ob.getMedicalTerms():\n",
    "        if it.typeOfMedicalTerm==1:\n",
    "            mentions.append(it.getText())\n",
    "    return mentions\n",
    "ctakes_medical(2511)"
   ]
  },
  {
   "cell_type": "code",
   "execution_count": 373,
   "metadata": {},
   "outputs": [
    {
     "data": {
      "text/plain": [
       "['treatments']"
      ]
     },
     "execution_count": 373,
     "metadata": {},
     "output_type": "execute_result"
    }
   ],
   "source": [
    "def ctakes_procedure(id):\n",
    "    fi = '/Users/erickvelazquez/Documents/RealDataSet/SeparatedRecords/output_Incident_description/'+str(id)+'.txt.xmi'\n",
    "    ob = rc.RecordCTakesProcessed(io.readXMIFile(fi), id)\n",
    "    mentions = []\n",
    "    for it in ob.getMedicalTerms():\n",
    "        if it.typeOfMedicalTerm==2:\n",
    "            mentions.append(it.getText())\n",
    "    return mentions\n",
    "ctakes_procedure(2511)"
   ]
  },
  {
   "cell_type": "code",
   "execution_count": 374,
   "metadata": {},
   "outputs": [
    {
     "data": {
      "text/plain": [
       "[]"
      ]
     },
     "execution_count": 374,
     "metadata": {},
     "output_type": "execute_result"
    }
   ],
   "source": [
    "def ctakes_symptom(id):\n",
    "    fi = '/Users/erickvelazquez/Documents/RealDataSet/SeparatedRecords/output_Incident_description/'+str(id)+'.txt.xmi'\n",
    "    ob = rc.RecordCTakesProcessed(io.readXMIFile(fi), id)\n",
    "    mentions = []\n",
    "    for it in ob.getMedicalTerms():\n",
    "        if it.typeOfMedicalTerm==3:\n",
    "            mentions.append(it.getText())\n",
    "    return mentions\n",
    "ctakes_symptom(2511)"
   ]
  },
  {
   "cell_type": "code",
   "execution_count": 375,
   "metadata": {},
   "outputs": [
    {
     "data": {
      "text/plain": [
       "[]"
      ]
     },
     "execution_count": 375,
     "metadata": {},
     "output_type": "execute_result"
    }
   ],
   "source": [
    "def ctakes_disease(id):\n",
    "    fi = '/Users/erickvelazquez/Documents/RealDataSet/SeparatedRecords/output_Incident_description/'+str(id)+'.txt.xmi'\n",
    "    ob = rc.RecordCTakesProcessed(io.readXMIFile(fi), id)\n",
    "    mentions = []\n",
    "    for it in ob.getMedicalTerms():\n",
    "        if it.typeOfMedicalTerm==4:\n",
    "            mentions.append(it.getText())\n",
    "    return mentions\n",
    "ctakes_disease(2511)"
   ]
  },
  {
   "cell_type": "code",
   "execution_count": 376,
   "metadata": {},
   "outputs": [
    {
     "data": {
      "text/plain": [
       "['skin', 'skin']"
      ]
     },
     "execution_count": 376,
     "metadata": {},
     "output_type": "execute_result"
    }
   ],
   "source": [
    "def ctakes_anatomy(id):\n",
    "    fi = '/Users/erickvelazquez/Documents/RealDataSet/SeparatedRecords/output_Incident_description/'+str(id)+'.txt.xmi'\n",
    "    ob = rc.RecordCTakesProcessed(io.readXMIFile(fi), id)\n",
    "    mentions = []\n",
    "    for it in ob.getMedicalTerms():\n",
    "        if it.typeOfMedicalTerm==5:\n",
    "            mentions.append(it.getPreferedText())\n",
    "    return mentions\n",
    "ctakes_anatomy(2521)"
   ]
  },
  {
   "cell_type": "code",
   "execution_count": 377,
   "metadata": {},
   "outputs": [
    {
     "data": {
      "text/plain": [
       "['support', 'treatment', 'treatments', 'rad', 'skin', 'skin']"
      ]
     },
     "execution_count": 377,
     "metadata": {},
     "output_type": "execute_result"
    }
   ],
   "source": [
    "def ctakes_all(id):\n",
    "    fi = '/Users/erickvelazquez/Documents/RealDataSet/SeparatedRecords/output_Incident_description/'+str(id)+'.txt.xmi'\n",
    "    ob = rc.RecordCTakesProcessed(io.readXMIFile(fi), id)\n",
    "    mentions = []\n",
    "    for it in ob.getMedicalTerms():\n",
    "        mentions.append(it.getText())\n",
    "    return mentions\n",
    "ctakes_all(2521)"
   ]
  },
  {
   "cell_type": "code",
   "execution_count": 378,
   "metadata": {},
   "outputs": [
    {
     "data": {
      "text/plain": [
       "8.156964513413685"
      ]
     },
     "execution_count": 378,
     "metadata": {},
     "output_type": "execute_result"
    }
   ],
   "source": [
    "def brunet(id):\n",
    "    fi = '/Users/erickvelazquez/Documents/RealDataSet/SeparatedRecords/output_Incident_description/'+str(id)+'.txt.xmi'\n",
    "    ob = rc.RecordCTakesProcessed(io.readXMIFile(fi), id)\n",
    "    return ob.getBrunetIndex()\n",
    "brunet(2521)"
   ]
  },
  {
   "cell_type": "code",
   "execution_count": 379,
   "metadata": {},
   "outputs": [
    {
     "data": {
      "text/plain": [
       "0.7735849056603774"
      ]
     },
     "execution_count": 379,
     "metadata": {},
     "output_type": "execute_result"
    }
   ],
   "source": [
    "def ttr(id):\n",
    "    fi = '/Users/erickvelazquez/Documents/RealDataSet/SeparatedRecords/output_Incident_description/'+str(id)+'.txt.xmi'\n",
    "    ob = rc.RecordCTakesProcessed(io.readXMIFile(fi), id)\n",
    "    return ob.getTTR()\n",
    "ttr(2521)"
   ]
  },
  {
   "cell_type": "code",
   "execution_count": 380,
   "metadata": {},
   "outputs": [
    {
     "data": {
      "text/plain": [
       "41"
      ]
     },
     "execution_count": 380,
     "metadata": {},
     "output_type": "execute_result"
    }
   ],
   "source": [
    "def hapex_legomena(id):\n",
    "    fi = '/Users/erickvelazquez/Documents/RealDataSet/SeparatedRecords/output_Incident_description/'+str(id)+'.txt.xmi'\n",
    "    ob = rc.RecordCTakesProcessed(io.readXMIFile(fi), id)\n",
    "    return ob.getHapaxLegomena()\n",
    "hapex_legomena(2521)"
   ]
  },
  {
   "cell_type": "code",
   "execution_count": 381,
   "metadata": {},
   "outputs": [
    {
     "data": {
      "text/plain": [
       "10"
      ]
     },
     "execution_count": 381,
     "metadata": {},
     "output_type": "execute_result"
    }
   ],
   "source": [
    "def hapex_dislegomena(id):\n",
    "    fi = '/Users/erickvelazquez/Documents/RealDataSet/SeparatedRecords/output_Incident_description/'+str(id)+'.txt.xmi'\n",
    "    ob = rc.RecordCTakesProcessed(io.readXMIFile(fi), id)\n",
    "    return ob.getHapaxDislegomena()\n",
    "hapex_dislegomena(2521)"
   ]
  },
  {
   "cell_type": "code",
   "execution_count": 401,
   "metadata": {},
   "outputs": [
    {
     "data": {
      "text/plain": [
       "0.18867924528301888"
      ]
     },
     "execution_count": 401,
     "metadata": {},
     "output_type": "execute_result"
    }
   ],
   "source": [
    "def sichel(id):\n",
    "    fi = '/Users/erickvelazquez/Documents/RealDataSet/SeparatedRecords/output_Incident_description/'+str(id)+'.txt.xmi'\n",
    "    ob = rc.RecordCTakesProcessed(io.readXMIFile(fi), id)\n",
    "    return ob.getSichel()\n",
    "sichel(2521)"
   ]
  },
  {
   "cell_type": "markdown",
   "metadata": {},
   "source": [
    "# cTakes Analyses"
   ]
  },
  {
   "cell_type": "code",
   "execution_count": 390,
   "metadata": {},
   "outputs": [],
   "source": [
    "def ctakes_analyze(df):\n",
    "    df['incident_description_ctakes_verbs'] = df['incident_id'].apply(ctakes_verbs)\n",
    "    df['incident_description_ctakes_nouns'] = df['incident_id'].apply(ctakes_nouns)\n",
    "    df['incident_description_ctakes_prepositions'] = df['incident_id'].apply(ctakes_prepositions)\n",
    "    df['incident_description_ctakes_pronouns'] = df['incident_id'].apply(ctakes_pronouns)\n",
    "    df['incident_description_ctakes_adverbs'] = df['incident_id'].apply(ctakes_adverbs)\n",
    "    df['incident_description_ctakes_adjectives'] = df['incident_id'].apply(ctakes_adjectives)\n",
    "    df['incident_description_ctakes_other'] = df['incident_id'].apply(ctakes_other)\n",
    "    df['incident_description_ctakes_medical'] = df['incident_id'].apply(lambda x: len(ctakes_medical(x)))\n",
    "    df['incident_description_ctakes_procedure'] = df['incident_id'].apply(lambda x: len(ctakes_procedure(x)))\n",
    "    df['incident_description_ctakes_symptom'] = df['incident_id'].apply(lambda x: len(ctakes_symptom(x)))\n",
    "    df['incident_description_ctakes_disease'] = df['incident_id'].apply(lambda x: len(ctakes_disease(x)))\n",
    "    df['incident_description_ctakes_anatomy'] = df['incident_id'].apply(lambda x: len(ctakes_anatomy(x)))\n",
    "    df['incident_description_ctakes_all'] = df['incident_id'].apply(lambda x: len(ctakes_all(x)))\n",
    "    df['incident_description_brunet'] = df['incident_id'].apply(brunet)\n",
    "    df['incident_description_ttr'] = df['incident_id'].apply(ttr)\n",
    "    df['incident_description_hapex_legomena'] = df['incident_id'].apply(hapex_legomena)\n",
    "    df['incident_description_hapex_dislegomena'] = df['incident_id'].apply(hapex_dislegomena)\n",
    "    df['incident_description_sichel'] = df['incident_id'].apply(sichel)\n",
    "    return df"
   ]
  },
  {
   "cell_type": "code",
   "execution_count": null,
   "metadata": {},
   "outputs": [],
   "source": [
    "ctakes_analyzed = ctakes_analyze(data)"
   ]
  },
  {
   "cell_type": "code",
   "execution_count": 393,
   "metadata": {},
   "outputs": [],
   "source": [
    "ctakes_analyzed.to_csv('ctakes_analyzed.csv')"
   ]
  },
  {
   "cell_type": "markdown",
   "metadata": {},
   "source": [
    "# NLTK Analysis"
   ]
  },
  {
   "cell_type": "code",
   "execution_count": 395,
   "metadata": {},
   "outputs": [],
   "source": [
    "def nltk_analyze(df, cls):\n",
    "    for cl in cls:\n",
    "        # NLTK Analyses\n",
    "        df[cl+'nltk_wc'] = df[cl].apply(wc) # Word Count\n",
    "        df[cl+'nltk_n'] = df[cl].apply(lambda x: len(this_tag(x, noun_tags))) # Noun Count\n",
    "        df[cl+'nltk_v'] = df[cl].apply(lambda x: len(this_tag(x, verb_tags))) # Verb Count\n",
    "        for tag in tags: # Counts of All 35 Tags\n",
    "            df[cl+'_nltk_'+tag] = df[cl].apply(lambda st: len(this_tag(st, [tag])))\n",
    "    return df"
   ]
  },
  {
   "cell_type": "code",
   "execution_count": null,
   "metadata": {},
   "outputs": [],
   "source": [
    "analyzed = nltk_analyze(ctakes_analyzed, ['incident_description', 'descriptor'])"
   ]
  },
  {
   "cell_type": "code",
   "execution_count": 402,
   "metadata": {},
   "outputs": [],
   "source": [
    "analyzed.to_csv('analyzed_both.csv')"
   ]
  }
 ],
 "metadata": {
  "kernelspec": {
   "display_name": "Python 3",
   "language": "python",
   "name": "python3"
  },
  "language_info": {
   "codemirror_mode": {
    "name": "ipython",
    "version": 3
   },
   "file_extension": ".py",
   "mimetype": "text/x-python",
   "name": "python",
   "nbconvert_exporter": "python",
   "pygments_lexer": "ipython3",
   "version": "3.6.2"
  }
 },
 "nbformat": 4,
 "nbformat_minor": 2
}

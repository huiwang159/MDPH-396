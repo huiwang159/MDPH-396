{
 "cells": [
  {
   "cell_type": "markdown",
   "metadata": {},
   "source": [
    "# Tuning RandomForestRegressor"
   ]
  },
  {
   "cell_type": "code",
   "execution_count": 2,
   "metadata": {},
   "outputs": [],
   "source": [
    "import numpy\n",
    "import csv\n",
    "import time\n",
    "import pandas\n",
    "import signal\n",
    "import warnings\n",
    "warnings.filterwarnings(\"ignore\")"
   ]
  },
  {
   "cell_type": "code",
   "execution_count": 3,
   "metadata": {},
   "outputs": [],
   "source": [
    "from sklearn.metrics import make_scorer\n",
    "from sklearn.model_selection import GridSearchCV\n",
    "from sklearn.model_selection import cross_validate\n",
    "from sklearn.pipeline import Pipeline"
   ]
  },
  {
   "cell_type": "code",
   "execution_count": 4,
   "metadata": {},
   "outputs": [],
   "source": [
    "from sklearn.multioutput import ClassifierChain\n",
    "from sklearn.multioutput import MultiOutputRegressor\n",
    "from sklearn.multioutput import MultiOutputClassifier\n",
    "\n",
    "from sklearn.ensemble.weight_boosting import AdaBoostClassifier\n",
    "from sklearn.ensemble.weight_boosting import AdaBoostRegressor\n",
    "from sklearn.ensemble.bagging import BaggingClassifier\n",
    "from sklearn.ensemble.bagging import BaggingRegressor\n",
    "from sklearn.ensemble.forest import ExtraTreesClassifier\n",
    "from sklearn.ensemble.forest import ExtraTreesRegressor\n",
    "from sklearn.ensemble.gradient_boosting import GradientBoostingClassifier\n",
    "from sklearn.ensemble.gradient_boosting import GradientBoostingRegressor\n",
    "from sklearn.ensemble.forest import RandomForestClassifier\n",
    "from sklearn.ensemble.forest import RandomForestRegressor\n",
    "\n",
    "from sklearn.linear_model.bayes import ARDRegression\n",
    "from sklearn.linear_model.bayes import BayesianRidge\n",
    "from sklearn.naive_bayes import BernoulliNB\n",
    "from sklearn.cross_decomposition.cca_ import CCA\n",
    "from sklearn.tree.tree import DecisionTreeClassifier\n",
    "from sklearn.tree.tree import DecisionTreeRegressor\n",
    "from sklearn.linear_model.coordinate_descent import ElasticNet\n",
    "from sklearn.tree.tree import ExtraTreeClassifier\n",
    "from sklearn.tree.tree import ExtraTreeRegressor\n",
    "from sklearn.naive_bayes import GaussianNB\n",
    "from sklearn.gaussian_process.gpc import GaussianProcessClassifier\n",
    "from sklearn.gaussian_process.gpr import GaussianProcessRegressor\n",
    "from sklearn.linear_model.huber import HuberRegressor\n",
    "from sklearn.neighbors.classification import KNeighborsClassifier\n",
    "from sklearn.neighbors.regression import KNeighborsRegressor\n",
    "from sklearn.kernel_ridge import KernelRidge\n",
    "from sklearn.semi_supervised.label_propagation import LabelPropagation\n",
    "from sklearn.semi_supervised.label_propagation import LabelSpreading\n",
    "from sklearn.linear_model.least_angle import Lars\n",
    "from sklearn.linear_model.coordinate_descent import Lasso\n",
    "from sklearn.linear_model.least_angle import LassoLars\n",
    "from sklearn.linear_model.least_angle import LassoLarsIC\n",
    "from sklearn.discriminant_analysis import LinearDiscriminantAnalysis\n",
    "from sklearn.linear_model.base import LinearRegression\n",
    "from sklearn.svm.classes import LinearSVC\n",
    "from sklearn.svm.classes import LinearSVR\n",
    "from sklearn.linear_model.logistic import LogisticRegression\n",
    "from sklearn.neural_network.multilayer_perceptron import MLPClassifier\n",
    "from sklearn.neural_network.multilayer_perceptron import MLPRegressor\n",
    "from sklearn.linear_model.coordinate_descent import MultiTaskElasticNet\n",
    "from sklearn.linear_model.coordinate_descent import MultiTaskLasso\n",
    "from sklearn.naive_bayes import MultinomialNB\n",
    "from sklearn.neighbors.nearest_centroid import NearestCentroid\n",
    "from sklearn.svm.classes import NuSVC\n",
    "from sklearn.svm.classes import NuSVR\n",
    "from sklearn.linear_model.omp import OrthogonalMatchingPursuit\n",
    "from sklearn.cross_decomposition.pls_ import PLSCanonical\n",
    "from sklearn.cross_decomposition.pls_ import PLSRegression\n",
    "from sklearn.linear_model.passive_aggressive import PassiveAggressiveClassifier\n",
    "from sklearn.linear_model.passive_aggressive import PassiveAggressiveRegressor\n",
    "from sklearn.linear_model.perceptron import Perceptron\n",
    "from sklearn.discriminant_analysis import QuadraticDiscriminantAnalysis\n",
    "from sklearn.linear_model.ransac import RANSACRegressor\n",
    "from sklearn.neighbors.classification import RadiusNeighborsClassifier\n",
    "from sklearn.neighbors.regression import RadiusNeighborsRegressor\n",
    "from sklearn.linear_model.ridge import Ridge\n",
    "from sklearn.linear_model.ridge import RidgeClassifier\n",
    "from sklearn.linear_model.stochastic_gradient import SGDClassifier\n",
    "from sklearn.linear_model.stochastic_gradient import SGDRegressor\n",
    "from sklearn.svm.classes import SVC\n",
    "from sklearn.svm.classes import SVR\n",
    "from sklearn.linear_model.theil_sen import TheilSenRegressor"
   ]
  },
  {
   "cell_type": "code",
   "execution_count": 5,
   "metadata": {},
   "outputs": [],
   "source": [
    "mlts = [MultiOutputRegressor, ClassifierChain]\n",
    "bss = [Ridge, LinearSVR, GaussianProcessRegressor, PassiveAggressiveRegressor, KNeighborsRegressor, MLPRegressor, HuberRegressor, SGDRegressor, LassoLarsIC, ExtraTreeRegressor, ElasticNet, DecisionTreeRegressor, Perceptron, OrthogonalMatchingPursuit, BernoulliNB]"
   ]
  },
  {
   "cell_type": "code",
   "execution_count": 6,
   "metadata": {},
   "outputs": [
    {
     "data": {
      "text/html": [
       "<div>\n",
       "<style scoped>\n",
       "    .dataframe tbody tr th:only-of-type {\n",
       "        vertical-align: middle;\n",
       "    }\n",
       "\n",
       "    .dataframe tbody tr th {\n",
       "        vertical-align: top;\n",
       "    }\n",
       "\n",
       "    .dataframe thead th {\n",
       "        text-align: right;\n",
       "    }\n",
       "</style>\n",
       "<table border=\"1\" class=\"dataframe\">\n",
       "  <thead>\n",
       "    <tr style=\"text-align: right;\">\n",
       "      <th></th>\n",
       "      <th>____________________</th>\n",
       "      <th>_____________________</th>\n",
       "      <th>_____________________ follow</th>\n",
       "      <th>able</th>\n",
       "      <th>acceptable</th>\n",
       "      <th>accessory</th>\n",
       "      <th>accessory require</th>\n",
       "      <th>accidentally</th>\n",
       "      <th>accommodate</th>\n",
       "      <th>accompany</th>\n",
       "      <th>...</th>\n",
       "      <th>work</th>\n",
       "      <th>would</th>\n",
       "      <th>write</th>\n",
       "      <th>writer</th>\n",
       "      <th>wrong</th>\n",
       "      <th>wrong patient</th>\n",
       "      <th>wrong tattoo</th>\n",
       "      <th>xrt</th>\n",
       "      <th>xrt date</th>\n",
       "      <th>xrt pt</th>\n",
       "    </tr>\n",
       "  </thead>\n",
       "  <tbody>\n",
       "    <tr>\n",
       "      <th>0</th>\n",
       "      <td>0.0</td>\n",
       "      <td>0.0</td>\n",
       "      <td>0.0</td>\n",
       "      <td>0.0</td>\n",
       "      <td>0.0</td>\n",
       "      <td>0.0</td>\n",
       "      <td>0.0</td>\n",
       "      <td>0.0</td>\n",
       "      <td>0.0</td>\n",
       "      <td>0.0</td>\n",
       "      <td>...</td>\n",
       "      <td>0.0</td>\n",
       "      <td>0.0</td>\n",
       "      <td>0.0</td>\n",
       "      <td>0.0</td>\n",
       "      <td>0.0</td>\n",
       "      <td>0.0</td>\n",
       "      <td>0.0</td>\n",
       "      <td>0.0</td>\n",
       "      <td>0.0</td>\n",
       "      <td>0.0</td>\n",
       "    </tr>\n",
       "    <tr>\n",
       "      <th>1</th>\n",
       "      <td>0.0</td>\n",
       "      <td>0.0</td>\n",
       "      <td>0.0</td>\n",
       "      <td>0.0</td>\n",
       "      <td>0.0</td>\n",
       "      <td>0.0</td>\n",
       "      <td>0.0</td>\n",
       "      <td>0.0</td>\n",
       "      <td>0.0</td>\n",
       "      <td>0.0</td>\n",
       "      <td>...</td>\n",
       "      <td>0.0</td>\n",
       "      <td>0.0</td>\n",
       "      <td>0.0</td>\n",
       "      <td>0.0</td>\n",
       "      <td>0.0</td>\n",
       "      <td>0.0</td>\n",
       "      <td>0.0</td>\n",
       "      <td>0.0</td>\n",
       "      <td>0.0</td>\n",
       "      <td>0.0</td>\n",
       "    </tr>\n",
       "    <tr>\n",
       "      <th>2</th>\n",
       "      <td>0.0</td>\n",
       "      <td>0.0</td>\n",
       "      <td>0.0</td>\n",
       "      <td>0.0</td>\n",
       "      <td>0.0</td>\n",
       "      <td>0.0</td>\n",
       "      <td>0.0</td>\n",
       "      <td>0.0</td>\n",
       "      <td>0.0</td>\n",
       "      <td>0.0</td>\n",
       "      <td>...</td>\n",
       "      <td>0.0</td>\n",
       "      <td>0.0</td>\n",
       "      <td>0.0</td>\n",
       "      <td>0.0</td>\n",
       "      <td>0.0</td>\n",
       "      <td>0.0</td>\n",
       "      <td>0.0</td>\n",
       "      <td>0.0</td>\n",
       "      <td>0.0</td>\n",
       "      <td>0.0</td>\n",
       "    </tr>\n",
       "  </tbody>\n",
       "</table>\n",
       "<p>3 rows × 1891 columns</p>\n",
       "</div>"
      ],
      "text/plain": [
       "   ____________________  _____________________  _____________________ follow  \\\n",
       "0                   0.0                    0.0                           0.0   \n",
       "1                   0.0                    0.0                           0.0   \n",
       "2                   0.0                    0.0                           0.0   \n",
       "\n",
       "   able  acceptable  accessory  accessory require  accidentally  accommodate  \\\n",
       "0   0.0         0.0        0.0                0.0           0.0          0.0   \n",
       "1   0.0         0.0        0.0                0.0           0.0          0.0   \n",
       "2   0.0         0.0        0.0                0.0           0.0          0.0   \n",
       "\n",
       "   accompany   ...    work  would  write  writer  wrong  wrong patient  \\\n",
       "0        0.0   ...     0.0    0.0    0.0     0.0    0.0            0.0   \n",
       "1        0.0   ...     0.0    0.0    0.0     0.0    0.0            0.0   \n",
       "2        0.0   ...     0.0    0.0    0.0     0.0    0.0            0.0   \n",
       "\n",
       "   wrong tattoo  xrt  xrt date  xrt pt  \n",
       "0           0.0  0.0       0.0     0.0  \n",
       "1           0.0  0.0       0.0     0.0  \n",
       "2           0.0  0.0       0.0     0.0  \n",
       "\n",
       "[3 rows x 1891 columns]"
      ]
     },
     "execution_count": 6,
     "metadata": {},
     "output_type": "execute_result"
    }
   ],
   "source": [
    "tfidf = pandas.read_csv('07 NM PT TFIDF.csv', delimiter=',', encoding='latin-1').fillna('')\n",
    "tfidf[:3]"
   ]
  },
  {
   "cell_type": "code",
   "execution_count": 7,
   "metadata": {},
   "outputs": [
    {
     "data": {
      "text/html": [
       "<div>\n",
       "<style scoped>\n",
       "    .dataframe tbody tr th:only-of-type {\n",
       "        vertical-align: middle;\n",
       "    }\n",
       "\n",
       "    .dataframe tbody tr th {\n",
       "        vertical-align: top;\n",
       "    }\n",
       "\n",
       "    .dataframe thead th {\n",
       "        text-align: right;\n",
       "    }\n",
       "</style>\n",
       "<table border=\"1\" class=\"dataframe\">\n",
       "  <thead>\n",
       "    <tr style=\"text-align: right;\">\n",
       "      <th></th>\n",
       "      <th>Wrong target or OAR contours</th>\n",
       "      <th>Treatment plan acceptable but not physically deliverable</th>\n",
       "      <th>Excess imaging dose</th>\n",
       "      <th>Failure to perform on-treatment imaging as per instructions</th>\n",
       "      <th>Wrong patient</th>\n",
       "      <th>Fall or other patient injury or medical condition</th>\n",
       "      <th>Wrong anatomical site (excluding laterality)</th>\n",
       "      <th>Treatment plan (isodose distribution) unacceptable</th>\n",
       "      <th>Systematic hardware/software (including dose-volume) error</th>\n",
       "      <th>Interventional procedure error (Retired value)</th>\n",
       "      <th>...</th>\n",
       "      <th>Inappropriate or poorly informed decision to treat or plan</th>\n",
       "      <th>Inadequate coordination of combined modality care</th>\n",
       "      <th>Wrong, missing, mislabeled, or damaged treatment accessories</th>\n",
       "      <th>Wrong side (laterality)</th>\n",
       "      <th>Wrong prescription dose-fractionation or calculation error</th>\n",
       "      <th>Radiation therapy scheduling error</th>\n",
       "      <th>Treatment not delivered - personnel/hardware/software failure</th>\n",
       "      <th>Wrong patient position, setup point, or shift</th>\n",
       "      <th>Wrong planning margins</th>\n",
       "      <th>Allergic reaction</th>\n",
       "    </tr>\n",
       "  </thead>\n",
       "  <tbody>\n",
       "    <tr>\n",
       "      <th>0</th>\n",
       "      <td>0</td>\n",
       "      <td>0</td>\n",
       "      <td>0</td>\n",
       "      <td>0</td>\n",
       "      <td>0</td>\n",
       "      <td>0</td>\n",
       "      <td>0</td>\n",
       "      <td>0</td>\n",
       "      <td>0</td>\n",
       "      <td>0</td>\n",
       "      <td>...</td>\n",
       "      <td>0</td>\n",
       "      <td>0</td>\n",
       "      <td>1</td>\n",
       "      <td>0</td>\n",
       "      <td>0</td>\n",
       "      <td>0</td>\n",
       "      <td>0</td>\n",
       "      <td>0</td>\n",
       "      <td>0</td>\n",
       "      <td>0</td>\n",
       "    </tr>\n",
       "    <tr>\n",
       "      <th>1</th>\n",
       "      <td>0</td>\n",
       "      <td>0</td>\n",
       "      <td>0</td>\n",
       "      <td>0</td>\n",
       "      <td>0</td>\n",
       "      <td>0</td>\n",
       "      <td>0</td>\n",
       "      <td>0</td>\n",
       "      <td>0</td>\n",
       "      <td>0</td>\n",
       "      <td>...</td>\n",
       "      <td>0</td>\n",
       "      <td>0</td>\n",
       "      <td>0</td>\n",
       "      <td>0</td>\n",
       "      <td>0</td>\n",
       "      <td>1</td>\n",
       "      <td>0</td>\n",
       "      <td>0</td>\n",
       "      <td>0</td>\n",
       "      <td>0</td>\n",
       "    </tr>\n",
       "    <tr>\n",
       "      <th>2</th>\n",
       "      <td>0</td>\n",
       "      <td>0</td>\n",
       "      <td>0</td>\n",
       "      <td>0</td>\n",
       "      <td>0</td>\n",
       "      <td>0</td>\n",
       "      <td>0</td>\n",
       "      <td>0</td>\n",
       "      <td>0</td>\n",
       "      <td>0</td>\n",
       "      <td>...</td>\n",
       "      <td>0</td>\n",
       "      <td>0</td>\n",
       "      <td>0</td>\n",
       "      <td>0</td>\n",
       "      <td>0</td>\n",
       "      <td>1</td>\n",
       "      <td>0</td>\n",
       "      <td>0</td>\n",
       "      <td>0</td>\n",
       "      <td>0</td>\n",
       "    </tr>\n",
       "  </tbody>\n",
       "</table>\n",
       "<p>3 rows × 24 columns</p>\n",
       "</div>"
      ],
      "text/plain": [
       "   Wrong target or OAR contours  \\\n",
       "0                             0   \n",
       "1                             0   \n",
       "2                             0   \n",
       "\n",
       "   Treatment plan acceptable but not physically deliverable  \\\n",
       "0                                                  0          \n",
       "1                                                  0          \n",
       "2                                                  0          \n",
       "\n",
       "   Excess imaging dose   \\\n",
       "0                     0   \n",
       "1                     0   \n",
       "2                     0   \n",
       "\n",
       "   Failure to perform on-treatment imaging as per instructions  Wrong patient  \\\n",
       "0                                                  0                        0   \n",
       "1                                                  0                        0   \n",
       "2                                                  0                        0   \n",
       "\n",
       "   Fall or other patient injury or medical condition  \\\n",
       "0                                                  0   \n",
       "1                                                  0   \n",
       "2                                                  0   \n",
       "\n",
       "   Wrong anatomical site (excluding laterality)  \\\n",
       "0                                             0   \n",
       "1                                             0   \n",
       "2                                             0   \n",
       "\n",
       "   Treatment plan (isodose distribution) unacceptable  \\\n",
       "0                                                  0    \n",
       "1                                                  0    \n",
       "2                                                  0    \n",
       "\n",
       "   Systematic hardware/software (including dose-volume) error  \\\n",
       "0                                                  0            \n",
       "1                                                  0            \n",
       "2                                                  0            \n",
       "\n",
       "   Interventional procedure error (Retired value)        ...          \\\n",
       "0                                               0        ...           \n",
       "1                                               0        ...           \n",
       "2                                               0        ...           \n",
       "\n",
       "   Inappropriate or poorly informed decision to treat or plan  \\\n",
       "0                                                  0            \n",
       "1                                                  0            \n",
       "2                                                  0            \n",
       "\n",
       "   Inadequate coordination of combined modality care  \\\n",
       "0                                                  0   \n",
       "1                                                  0   \n",
       "2                                                  0   \n",
       "\n",
       "   Wrong, missing, mislabeled, or damaged treatment accessories  \\\n",
       "0                                                  1              \n",
       "1                                                  0              \n",
       "2                                                  0              \n",
       "\n",
       "   Wrong side (laterality)  \\\n",
       "0                        0   \n",
       "1                        0   \n",
       "2                        0   \n",
       "\n",
       "   Wrong prescription dose-fractionation or calculation error  \\\n",
       "0                                                  0            \n",
       "1                                                  0            \n",
       "2                                                  0            \n",
       "\n",
       "   Radiation therapy scheduling error  \\\n",
       "0                                   0   \n",
       "1                                   1   \n",
       "2                                   1   \n",
       "\n",
       "   Treatment not delivered - personnel/hardware/software failure  \\\n",
       "0                                                  0               \n",
       "1                                                  0               \n",
       "2                                                  0               \n",
       "\n",
       "   Wrong patient position, setup point, or shift  Wrong planning margins  \\\n",
       "0                                              0                       0   \n",
       "1                                              0                       0   \n",
       "2                                              0                       0   \n",
       "\n",
       "   Allergic reaction  \n",
       "0                  0  \n",
       "1                  0  \n",
       "2                  0  \n",
       "\n",
       "[3 rows x 24 columns]"
      ]
     },
     "execution_count": 7,
     "metadata": {},
     "output_type": "execute_result"
    }
   ],
   "source": [
    "ohe = pandas.read_csv('07 NM PT OHE.csv', delimiter=',', encoding='latin-1').fillna('')\n",
    "ohe[:3]"
   ]
  },
  {
   "cell_type": "code",
   "execution_count": 8,
   "metadata": {},
   "outputs": [],
   "source": [
    "def lowest_correct(trues, preds):\n",
    "    num_of_options = len(trues)\n",
    "    drop_down_options = list(reversed(numpy.argsort(preds)))\n",
    "    correct_options = [i for i in range(num_of_options) if trues[i]==1]\n",
    "    return max([drop_down_options.index(correct_option) for correct_option in correct_options]) + 1\n",
    "def average_lowest_correct(list_of_trues, list_of_preds):\n",
    "    length = len(list_of_trues)\n",
    "    return numpy.mean([lowest_correct(list(list_of_trues.iloc[i]), list(list_of_preds[i])) for i in range(length)])"
   ]
  },
  {
   "cell_type": "markdown",
   "metadata": {},
   "source": [
    "## Default"
   ]
  },
  {
   "cell_type": "code",
   "execution_count": 9,
   "metadata": {},
   "outputs": [],
   "source": [
    "def deadline(timeout, *args):\n",
    "    def decorate(f):\n",
    "        def handler(signum, frame):\n",
    "            raise Exception\n",
    "\n",
    "        def new_f(*args):\n",
    "            signal.signal(signal.SIGALRM, handler)\n",
    "            signal.alarm(timeout)\n",
    "            return f(*args)\n",
    "            signal.alarm(0)\n",
    "\n",
    "        new_f.__name__ = f.__name__\n",
    "        return new_f\n",
    "    return decorate"
   ]
  },
  {
   "cell_type": "code",
   "execution_count": 10,
   "metadata": {},
   "outputs": [],
   "source": [
    "@deadline(500)\n",
    "def cv_ensemble(model, xs, ys):\n",
    "    temp = cross_validate(model, xs, ys, return_train_score=True, scoring=make_scorer(average_lowest_correct), n_jobs=1, cv=2)\n",
    "    return numpy.mean(temp['test_score']).round(2)"
   ]
  },
  {
   "cell_type": "code",
   "execution_count": 10,
   "metadata": {},
   "outputs": [
    {
     "data": {
      "text/plain": [
       "4.86"
      ]
     },
     "execution_count": 10,
     "metadata": {},
     "output_type": "execute_result"
    }
   ],
   "source": [
    "cv_ensemble(MultiOutputRegressor(RandomForestRegressor()), tfidf, ohe)"
   ]
  },
  {
   "cell_type": "markdown",
   "metadata": {},
   "source": [
    "## Grid Search"
   ]
  },
  {
   "cell_type": "code",
   "execution_count": 11,
   "metadata": {},
   "outputs": [],
   "source": [
    "def prn_rsl(gsc):\n",
    "    prms = gsc.cv_results_['params']\n",
    "    tsts = (gsc.cv_results_['split0_test_score']+gsc.cv_results_['split1_test_score'])/2\n",
    "    for i in numpy.argsort(tsts):\n",
    "        print(prms[i], tsts[i])"
   ]
  },
  {
   "cell_type": "code",
   "execution_count": 12,
   "metadata": {},
   "outputs": [],
   "source": [
    "ppl = Pipeline([('mb', MultiOutputRegressor(RandomForestRegressor()))])"
   ]
  },
  {
   "cell_type": "code",
   "execution_count": 15,
   "metadata": {},
   "outputs": [
    {
     "name": "stdout",
     "output_type": "stream",
     "text": [
      "Fitting 2 folds for each of 4 candidates, totalling 8 fits\n",
      "[CV] mb__estimator__bootstrap=True, mb__estimator__oob_score=True ....\n",
      "[CV]  mb__estimator__bootstrap=True, mb__estimator__oob_score=True, total=  11.2s\n",
      "[CV] mb__estimator__bootstrap=True, mb__estimator__oob_score=True ....\n"
     ]
    },
    {
     "name": "stderr",
     "output_type": "stream",
     "text": [
      "[Parallel(n_jobs=1)]: Done   1 out of   1 | elapsed:   11.4s remaining:    0.0s\n"
     ]
    },
    {
     "name": "stdout",
     "output_type": "stream",
     "text": [
      "[CV]  mb__estimator__bootstrap=True, mb__estimator__oob_score=True, total=  10.6s\n",
      "[CV] mb__estimator__bootstrap=True, mb__estimator__oob_score=False ...\n",
      "[CV]  mb__estimator__bootstrap=True, mb__estimator__oob_score=False, total=   9.9s\n",
      "[CV] mb__estimator__bootstrap=True, mb__estimator__oob_score=False ...\n",
      "[CV]  mb__estimator__bootstrap=True, mb__estimator__oob_score=False, total=   8.5s\n",
      "[CV] mb__estimator__bootstrap=False, mb__estimator__oob_score=True ...\n",
      "[CV]  mb__estimator__bootstrap=False, mb__estimator__oob_score=True, total=   0.0s\n",
      "[CV] mb__estimator__bootstrap=False, mb__estimator__oob_score=True ...\n",
      "[CV]  mb__estimator__bootstrap=False, mb__estimator__oob_score=True, total=   0.0s\n",
      "[CV] mb__estimator__bootstrap=False, mb__estimator__oob_score=False ..\n",
      "[CV]  mb__estimator__bootstrap=False, mb__estimator__oob_score=False, total=  18.1s\n",
      "[CV] mb__estimator__bootstrap=False, mb__estimator__oob_score=False ..\n",
      "[CV]  mb__estimator__bootstrap=False, mb__estimator__oob_score=False, total=  18.3s\n"
     ]
    },
    {
     "name": "stderr",
     "output_type": "stream",
     "text": [
      "[Parallel(n_jobs=1)]: Done   8 out of   8 | elapsed:  1.3min finished\n"
     ]
    },
    {
     "name": "stdout",
     "output_type": "stream",
     "text": [
      "{'mb__estimator__bootstrap': False, 'mb__estimator__oob_score': True} 0.0\n",
      "{'mb__estimator__bootstrap': True, 'mb__estimator__oob_score': True} 4.867179215270413\n",
      "{'mb__estimator__bootstrap': True, 'mb__estimator__oob_score': False} 4.964803098657368\n",
      "{'mb__estimator__bootstrap': False, 'mb__estimator__oob_score': False} 7.259773172529073\n"
     ]
    }
   ],
   "source": [
    "grd = {\n",
    "#     'mb__estimator__criterion': ['mae', 'mse'],\n",
    "#     'mb__estimator__max_features': ['auto', 'sqrt', 'log2', None],\n",
    "    'mb__estimator__bootstrap': [True, False],\n",
    "    'mb__estimator__oob_score': [True, False],\n",
    "}\n",
    "gsc = GridSearchCV(estimator=ppl, param_grid=grd, scoring=make_scorer(average_lowest_correct), n_jobs=1, cv=2, verbose=2, error_score=0)\n",
    "gsc.fit(tfidf, ohe)\n",
    "prn_rsl(gsc)"
   ]
  },
  {
   "cell_type": "code",
   "execution_count": 15,
   "metadata": {},
   "outputs": [
    {
     "name": "stdout",
     "output_type": "stream",
     "text": [
      "Fitting 2 folds for each of 4 candidates, totalling 8 fits\n",
      "[CV] mb__estimator__bootstrap=True, mb__estimator__max_features=auto, mb__estimator__oob_score=True \n",
      "[CV] mb__estimator__bootstrap=True, mb__estimator__max_features=auto, mb__estimator__oob_score=True \n",
      "[CV] mb__estimator__bootstrap=True, mb__estimator__max_features=sqrt, mb__estimator__oob_score=True \n",
      "[CV] mb__estimator__bootstrap=True, mb__estimator__max_features=sqrt, mb__estimator__oob_score=True \n",
      "[CV]  mb__estimator__bootstrap=True, mb__estimator__max_features=sqrt, mb__estimator__oob_score=True, total=   5.5s\n",
      "[CV]  mb__estimator__bootstrap=True, mb__estimator__max_features=sqrt, mb__estimator__oob_score=True, total=   5.3s\n",
      "[CV] mb__estimator__bootstrap=True, mb__estimator__max_features=log2, mb__estimator__oob_score=True \n",
      "[CV] mb__estimator__bootstrap=True, mb__estimator__max_features=log2, mb__estimator__oob_score=True \n",
      "[CV]  mb__estimator__bootstrap=True, mb__estimator__max_features=log2, mb__estimator__oob_score=True, total=   5.2s\n",
      "[CV]  mb__estimator__bootstrap=True, mb__estimator__max_features=log2, mb__estimator__oob_score=True, total=   5.2s\n",
      "[CV] mb__estimator__bootstrap=True, mb__estimator__max_features=None, mb__estimator__oob_score=True \n",
      "[CV] mb__estimator__bootstrap=True, mb__estimator__max_features=None, mb__estimator__oob_score=True \n",
      "[CV]  mb__estimator__bootstrap=True, mb__estimator__max_features=auto, mb__estimator__oob_score=True, total=  27.4s\n",
      "[CV]  mb__estimator__bootstrap=True, mb__estimator__max_features=auto, mb__estimator__oob_score=True, total=  27.6s\n"
     ]
    },
    {
     "name": "stderr",
     "output_type": "stream",
     "text": [
      "[Parallel(n_jobs=-1)]: Done   6 out of   8 | elapsed:   28.3s remaining:    9.4s\n"
     ]
    },
    {
     "name": "stdout",
     "output_type": "stream",
     "text": [
      "[CV]  mb__estimator__bootstrap=True, mb__estimator__max_features=None, mb__estimator__oob_score=True, total=  22.5s\n",
      "[CV]  mb__estimator__bootstrap=True, mb__estimator__max_features=None, mb__estimator__oob_score=True, total=  22.5s\n"
     ]
    },
    {
     "name": "stderr",
     "output_type": "stream",
     "text": [
      "[Parallel(n_jobs=-1)]: Done   8 out of   8 | elapsed:   35.3s finished\n"
     ]
    },
    {
     "name": "stdout",
     "output_type": "stream",
     "text": [
      "{'mb__estimator__bootstrap': True, 'mb__estimator__max_features': 'log2', 'mb__estimator__oob_score': True} 4.441464313316677\n",
      "{'mb__estimator__bootstrap': True, 'mb__estimator__max_features': 'sqrt', 'mb__estimator__oob_score': True} 4.561513134245196\n",
      "{'mb__estimator__bootstrap': True, 'mb__estimator__max_features': None, 'mb__estimator__oob_score': True} 4.654243691248629\n",
      "{'mb__estimator__bootstrap': True, 'mb__estimator__max_features': 'auto', 'mb__estimator__oob_score': True} 4.73100072793285\n"
     ]
    }
   ],
   "source": [
    "grd = {\n",
    "    'mb__estimator__max_features': ['auto', 'sqrt', 'log2', None],\n",
    "    'mb__estimator__bootstrap': [True],\n",
    "    'mb__estimator__oob_score': [True],\n",
    "}\n",
    "gsc = GridSearchCV(estimator=ppl, param_grid=grd, scoring=make_scorer(average_lowest_correct), n_jobs=-1, cv=2, verbose=2, error_score=0)\n",
    "gsc.fit(tfidf, ohe)\n",
    "prn_rsl(gsc)"
   ]
  },
  {
   "cell_type": "code",
   "execution_count": 37,
   "metadata": {},
   "outputs": [
    {
     "name": "stdout",
     "output_type": "stream",
     "text": [
      "Fitting 2 folds for each of 4 candidates, totalling 8 fits\n",
      "[CV] mb__estimator__bootstrap=True, mb__estimator__max_features=log2, mb__estimator__min_samples_leaf=2, mb__estimator__oob_score=True \n",
      "[CV] mb__estimator__bootstrap=True, mb__estimator__max_features=log2, mb__estimator__min_samples_leaf=2, mb__estimator__oob_score=True \n",
      "[CV] mb__estimator__bootstrap=True, mb__estimator__max_features=log2, mb__estimator__min_samples_leaf=4, mb__estimator__oob_score=True \n",
      "[CV] mb__estimator__bootstrap=True, mb__estimator__max_features=log2, mb__estimator__min_samples_leaf=4, mb__estimator__oob_score=True \n",
      "[CV]  mb__estimator__bootstrap=True, mb__estimator__max_features=log2, mb__estimator__min_samples_leaf=4, mb__estimator__oob_score=True, total=   4.8s\n",
      "[CV] mb__estimator__bootstrap=True, mb__estimator__max_features=log2, mb__estimator__min_samples_leaf=6, mb__estimator__oob_score=True \n",
      "[CV]  mb__estimator__bootstrap=True, mb__estimator__max_features=log2, mb__estimator__min_samples_leaf=2, mb__estimator__oob_score=True, total=   5.0s\n",
      "[CV] mb__estimator__bootstrap=True, mb__estimator__max_features=log2, mb__estimator__min_samples_leaf=6, mb__estimator__oob_score=True \n",
      "[CV]  mb__estimator__bootstrap=True, mb__estimator__max_features=log2, mb__estimator__min_samples_leaf=4, mb__estimator__oob_score=True, total=   4.7s\n",
      "[CV] mb__estimator__bootstrap=True, mb__estimator__max_features=log2, mb__estimator__min_samples_leaf=8, mb__estimator__oob_score=True \n",
      "[CV]  mb__estimator__bootstrap=True, mb__estimator__max_features=log2, mb__estimator__min_samples_leaf=2, mb__estimator__oob_score=True, total=   5.2s\n",
      "[CV] mb__estimator__bootstrap=True, mb__estimator__max_features=log2, mb__estimator__min_samples_leaf=8, mb__estimator__oob_score=True \n",
      "[CV]  mb__estimator__bootstrap=True, mb__estimator__max_features=log2, mb__estimator__min_samples_leaf=6, mb__estimator__oob_score=True, total=   4.6s\n",
      "[CV]  mb__estimator__bootstrap=True, mb__estimator__max_features=log2, mb__estimator__min_samples_leaf=8, mb__estimator__oob_score=True, total=   4.4s\n",
      "[CV]  mb__estimator__bootstrap=True, mb__estimator__max_features=log2, mb__estimator__min_samples_leaf=8, mb__estimator__oob_score=True, total=   4.5s\n",
      "[CV]  mb__estimator__bootstrap=True, mb__estimator__max_features=log2, mb__estimator__min_samples_leaf=6, mb__estimator__oob_score=True, total=   4.6s\n"
     ]
    },
    {
     "name": "stderr",
     "output_type": "stream",
     "text": [
      "[Parallel(n_jobs=-1)]: Done   6 out of   8 | elapsed:   11.2s remaining:    3.7s\n",
      "[Parallel(n_jobs=-1)]: Done   8 out of   8 | elapsed:   11.2s finished\n"
     ]
    },
    {
     "name": "stdout",
     "output_type": "stream",
     "text": [
      "{'mb__estimator__bootstrap': True, 'mb__estimator__max_features': 'log2', 'mb__estimator__min_samples_leaf': 2, 'mb__estimator__oob_score': True} 3.5931383342020595\n",
      "{'mb__estimator__bootstrap': True, 'mb__estimator__max_features': 'log2', 'mb__estimator__min_samples_leaf': 4, 'mb__estimator__oob_score': True} 3.9508392571490196\n",
      "{'mb__estimator__bootstrap': True, 'mb__estimator__max_features': 'log2', 'mb__estimator__min_samples_leaf': 6, 'mb__estimator__oob_score': True} 4.516813788486079\n",
      "{'mb__estimator__bootstrap': True, 'mb__estimator__max_features': 'log2', 'mb__estimator__min_samples_leaf': 8, 'mb__estimator__oob_score': True} 4.745740806477704\n"
     ]
    }
   ],
   "source": [
    "grd = {\n",
    "    'mb__estimator__max_features': ['log2'],\n",
    "    'mb__estimator__bootstrap': [True],\n",
    "    'mb__estimator__oob_score': [True],\n",
    "    'mb__estimator__min_samples_leaf': [i for i in range(2, 10, 2)],\n",
    "    \n",
    "}\n",
    "gsc = GridSearchCV(estimator=ppl, param_grid=grd, scoring=make_scorer(average_lowest_correct), n_jobs=-1, cv=2, verbose=2, error_score=0)\n",
    "gsc.fit(tfidf, ohe)\n",
    "prn_rsl(gsc)"
   ]
  },
  {
   "cell_type": "code",
   "execution_count": 38,
   "metadata": {},
   "outputs": [
    {
     "name": "stdout",
     "output_type": "stream",
     "text": [
      "Fitting 2 folds for each of 4 candidates, totalling 8 fits\n",
      "[CV] mb__estimator__bootstrap=True, mb__estimator__max_features=log2, mb__estimator__min_samples_leaf=2, mb__estimator__min_samples_split=2, mb__estimator__oob_score=True \n",
      "[CV] mb__estimator__bootstrap=True, mb__estimator__max_features=log2, mb__estimator__min_samples_leaf=2, mb__estimator__min_samples_split=2, mb__estimator__oob_score=True \n",
      "[CV] mb__estimator__bootstrap=True, mb__estimator__max_features=log2, mb__estimator__min_samples_leaf=2, mb__estimator__min_samples_split=4, mb__estimator__oob_score=True \n",
      "[CV] mb__estimator__bootstrap=True, mb__estimator__max_features=log2, mb__estimator__min_samples_leaf=2, mb__estimator__min_samples_split=4, mb__estimator__oob_score=True \n",
      "[CV]  mb__estimator__bootstrap=True, mb__estimator__max_features=log2, mb__estimator__min_samples_leaf=2, mb__estimator__min_samples_split=2, mb__estimator__oob_score=True, total=   5.1s\n",
      "[CV]  mb__estimator__bootstrap=True, mb__estimator__max_features=log2, mb__estimator__min_samples_leaf=2, mb__estimator__min_samples_split=2, mb__estimator__oob_score=True, total=   5.2s\n",
      "[CV] mb__estimator__bootstrap=True, mb__estimator__max_features=log2, mb__estimator__min_samples_leaf=2, mb__estimator__min_samples_split=6, mb__estimator__oob_score=True \n",
      "[CV] mb__estimator__bootstrap=True, mb__estimator__max_features=log2, mb__estimator__min_samples_leaf=2, mb__estimator__min_samples_split=6, mb__estimator__oob_score=True \n",
      "[CV]  mb__estimator__bootstrap=True, mb__estimator__max_features=log2, mb__estimator__min_samples_leaf=2, mb__estimator__min_samples_split=4, mb__estimator__oob_score=True, total=   5.1s\n",
      "[CV] mb__estimator__bootstrap=True, mb__estimator__max_features=log2, mb__estimator__min_samples_leaf=2, mb__estimator__min_samples_split=8, mb__estimator__oob_score=True \n",
      "[CV]  mb__estimator__bootstrap=True, mb__estimator__max_features=log2, mb__estimator__min_samples_leaf=2, mb__estimator__min_samples_split=4, mb__estimator__oob_score=True, total=   5.0s\n",
      "[CV] mb__estimator__bootstrap=True, mb__estimator__max_features=log2, mb__estimator__min_samples_leaf=2, mb__estimator__min_samples_split=8, mb__estimator__oob_score=True \n",
      "[CV]  mb__estimator__bootstrap=True, mb__estimator__max_features=log2, mb__estimator__min_samples_leaf=2, mb__estimator__min_samples_split=6, mb__estimator__oob_score=True, total=   4.8s\n",
      "[CV]  mb__estimator__bootstrap=True, mb__estimator__max_features=log2, mb__estimator__min_samples_leaf=2, mb__estimator__min_samples_split=6, mb__estimator__oob_score=True, total=   4.9s\n",
      "[CV]  mb__estimator__bootstrap=True, mb__estimator__max_features=log2, mb__estimator__min_samples_leaf=2, mb__estimator__min_samples_split=8, mb__estimator__oob_score=True, total=   4.8s\n",
      "[CV]  mb__estimator__bootstrap=True, mb__estimator__max_features=log2, mb__estimator__min_samples_leaf=2, mb__estimator__min_samples_split=8, mb__estimator__oob_score=True, total=   4.8s\n"
     ]
    },
    {
     "name": "stderr",
     "output_type": "stream",
     "text": [
      "[Parallel(n_jobs=-1)]: Done   6 out of   8 | elapsed:   11.7s remaining:    3.9s\n",
      "[Parallel(n_jobs=-1)]: Done   8 out of   8 | elapsed:   11.7s finished\n"
     ]
    },
    {
     "name": "stdout",
     "output_type": "stream",
     "text": [
      "{'mb__estimator__bootstrap': True, 'mb__estimator__max_features': 'log2', 'mb__estimator__min_samples_leaf': 2, 'mb__estimator__min_samples_split': 2, 'mb__estimator__oob_score': True} 3.521607698114564\n",
      "{'mb__estimator__bootstrap': True, 'mb__estimator__max_features': 'log2', 'mb__estimator__min_samples_leaf': 2, 'mb__estimator__min_samples_split': 4, 'mb__estimator__oob_score': True} 3.521607698114564\n",
      "{'mb__estimator__bootstrap': True, 'mb__estimator__max_features': 'log2', 'mb__estimator__min_samples_leaf': 2, 'mb__estimator__min_samples_split': 6, 'mb__estimator__oob_score': True} 3.5835375963837013\n",
      "{'mb__estimator__bootstrap': True, 'mb__estimator__max_features': 'log2', 'mb__estimator__min_samples_leaf': 2, 'mb__estimator__min_samples_split': 8, 'mb__estimator__oob_score': True} 3.5904327381059367\n"
     ]
    }
   ],
   "source": [
    "grd = {\n",
    "    'mb__estimator__max_features': ['log2'],\n",
    "    'mb__estimator__bootstrap': [True],\n",
    "    'mb__estimator__oob_score': [True],\n",
    "    'mb__estimator__min_samples_leaf': [2],\n",
    "    'mb__estimator__min_samples_split': [i for i in range(2, 10, 2)],\n",
    "}\n",
    "gsc = GridSearchCV(estimator=ppl, param_grid=grd, scoring=make_scorer(average_lowest_correct), n_jobs=-1, cv=2, verbose=2, error_score=0)\n",
    "gsc.fit(tfidf, ohe)\n",
    "prn_rsl(gsc)"
   ]
  },
  {
   "cell_type": "code",
   "execution_count": 39,
   "metadata": {},
   "outputs": [
    {
     "name": "stdout",
     "output_type": "stream",
     "text": [
      "Fitting 2 folds for each of 5 candidates, totalling 10 fits\n",
      "[CV] mb__estimator__bootstrap=True, mb__estimator__max_features=log2, mb__estimator__min_samples_leaf=1, mb__estimator__min_samples_split=2, mb__estimator__oob_score=True \n",
      "[CV] mb__estimator__bootstrap=True, mb__estimator__max_features=log2, mb__estimator__min_samples_leaf=1, mb__estimator__min_samples_split=2, mb__estimator__oob_score=True \n",
      "[CV] mb__estimator__bootstrap=True, mb__estimator__max_features=log2, mb__estimator__min_samples_leaf=2, mb__estimator__min_samples_split=2, mb__estimator__oob_score=True \n",
      "[CV] mb__estimator__bootstrap=True, mb__estimator__max_features=log2, mb__estimator__min_samples_leaf=2, mb__estimator__min_samples_split=2, mb__estimator__oob_score=True \n",
      "[CV]  mb__estimator__bootstrap=True, mb__estimator__max_features=log2, mb__estimator__min_samples_leaf=2, mb__estimator__min_samples_split=2, mb__estimator__oob_score=True, total=   5.6s\n",
      "[CV] mb__estimator__bootstrap=True, mb__estimator__max_features=log2, mb__estimator__min_samples_leaf=3, mb__estimator__min_samples_split=2, mb__estimator__oob_score=True \n",
      "[CV]  mb__estimator__bootstrap=True, mb__estimator__max_features=log2, mb__estimator__min_samples_leaf=2, mb__estimator__min_samples_split=2, mb__estimator__oob_score=True, total=   5.5s\n",
      "[CV] mb__estimator__bootstrap=True, mb__estimator__max_features=log2, mb__estimator__min_samples_leaf=3, mb__estimator__min_samples_split=2, mb__estimator__oob_score=True \n",
      "[CV]  mb__estimator__bootstrap=True, mb__estimator__max_features=log2, mb__estimator__min_samples_leaf=1, mb__estimator__min_samples_split=2, mb__estimator__oob_score=True, total=   5.8s\n",
      "[CV]  mb__estimator__bootstrap=True, mb__estimator__max_features=log2, mb__estimator__min_samples_leaf=1, mb__estimator__min_samples_split=2, mb__estimator__oob_score=True, total=   5.8s\n",
      "[CV] mb__estimator__bootstrap=True, mb__estimator__max_features=log2, mb__estimator__min_samples_leaf=4, mb__estimator__min_samples_split=2, mb__estimator__oob_score=True \n",
      "[CV] mb__estimator__bootstrap=True, mb__estimator__max_features=log2, mb__estimator__min_samples_leaf=4, mb__estimator__min_samples_split=2, mb__estimator__oob_score=True \n",
      "[CV]  mb__estimator__bootstrap=True, mb__estimator__max_features=log2, mb__estimator__min_samples_leaf=4, mb__estimator__min_samples_split=2, mb__estimator__oob_score=True, total=   4.9s\n",
      "[CV]  mb__estimator__bootstrap=True, mb__estimator__max_features=log2, mb__estimator__min_samples_leaf=4, mb__estimator__min_samples_split=2, mb__estimator__oob_score=True, total=   4.8s\n",
      "[CV] mb__estimator__bootstrap=True, mb__estimator__max_features=log2, mb__estimator__min_samples_leaf=5, mb__estimator__min_samples_split=2, mb__estimator__oob_score=True \n",
      "[CV]  mb__estimator__bootstrap=True, mb__estimator__max_features=log2, mb__estimator__min_samples_leaf=3, mb__estimator__min_samples_split=2, mb__estimator__oob_score=True, total=   5.1s\n",
      "[CV] mb__estimator__bootstrap=True, mb__estimator__max_features=log2, mb__estimator__min_samples_leaf=5, mb__estimator__min_samples_split=2, mb__estimator__oob_score=True \n",
      "[CV]  mb__estimator__bootstrap=True, mb__estimator__max_features=log2, mb__estimator__min_samples_leaf=3, mb__estimator__min_samples_split=2, mb__estimator__oob_score=True, total=   5.1s\n",
      "[CV]  mb__estimator__bootstrap=True, mb__estimator__max_features=log2, mb__estimator__min_samples_leaf=5, mb__estimator__min_samples_split=2, mb__estimator__oob_score=True, total=   3.1s\n",
      "[CV]  mb__estimator__bootstrap=True, mb__estimator__max_features=log2, mb__estimator__min_samples_leaf=5, mb__estimator__min_samples_split=2, mb__estimator__oob_score=True, total=   3.0s\n"
     ]
    },
    {
     "name": "stderr",
     "output_type": "stream",
     "text": [
      "[Parallel(n_jobs=-1)]: Done  10 out of  10 | elapsed:   16.1s finished\n"
     ]
    },
    {
     "name": "stdout",
     "output_type": "stream",
     "text": [
      "{'mb__estimator__bootstrap': True, 'mb__estimator__max_features': 'log2', 'mb__estimator__min_samples_leaf': 2, 'mb__estimator__min_samples_split': 2, 'mb__estimator__oob_score': True} 3.604197184427629\n",
      "{'mb__estimator__bootstrap': True, 'mb__estimator__max_features': 'log2', 'mb__estimator__min_samples_leaf': 3, 'mb__estimator__min_samples_split': 2, 'mb__estimator__oob_score': True} 3.748951349821162\n",
      "{'mb__estimator__bootstrap': True, 'mb__estimator__max_features': 'log2', 'mb__estimator__min_samples_leaf': 4, 'mb__estimator__min_samples_split': 2, 'mb__estimator__oob_score': True} 4.081183609827992\n",
      "{'mb__estimator__bootstrap': True, 'mb__estimator__max_features': 'log2', 'mb__estimator__min_samples_leaf': 5, 'mb__estimator__min_samples_split': 2, 'mb__estimator__oob_score': True} 4.221643196074554\n",
      "{'mb__estimator__bootstrap': True, 'mb__estimator__max_features': 'log2', 'mb__estimator__min_samples_leaf': 1, 'mb__estimator__min_samples_split': 2, 'mb__estimator__oob_score': True} 4.712755787515502\n"
     ]
    }
   ],
   "source": [
    "grd = {\n",
    "    'mb__estimator__max_features': ['log2'],\n",
    "    'mb__estimator__bootstrap': [True],\n",
    "    'mb__estimator__oob_score': [True],\n",
    "    'mb__estimator__min_samples_leaf': [2],\n",
    "    'mb__estimator__min_samples_split': [2],\n",
    "    'mb__estimator__min_samples_leaf': [i for i in range(1,6)],\n",
    "    \n",
    "}\n",
    "gsc = GridSearchCV(estimator=ppl, param_grid=grd, scoring=make_scorer(average_lowest_correct), n_jobs=-1, cv=2, verbose=2, error_score=0)\n",
    "gsc.fit(tfidf, ohe)\n",
    "prn_rsl(gsc)"
   ]
  },
  {
   "cell_type": "code",
   "execution_count": 41,
   "metadata": {},
   "outputs": [
    {
     "name": "stdout",
     "output_type": "stream",
     "text": [
      "Fitting 2 folds for each of 6 candidates, totalling 12 fits\n",
      "[CV] mb__estimator__bootstrap=True, mb__estimator__max_features=log2, mb__estimator__min_samples_leaf=2, mb__estimator__min_samples_split=2, mb__estimator__min_weight_fraction_leaf=0.0, mb__estimator__oob_score=True \n",
      "[CV] mb__estimator__bootstrap=True, mb__estimator__max_features=log2, mb__estimator__min_samples_leaf=2, mb__estimator__min_samples_split=2, mb__estimator__min_weight_fraction_leaf=0.0, mb__estimator__oob_score=True \n",
      "[CV] mb__estimator__bootstrap=True, mb__estimator__max_features=log2, mb__estimator__min_samples_leaf=2, mb__estimator__min_samples_split=2, mb__estimator__min_weight_fraction_leaf=0.2, mb__estimator__oob_score=True \n",
      "[CV] mb__estimator__bootstrap=True, mb__estimator__max_features=log2, mb__estimator__min_samples_leaf=2, mb__estimator__min_samples_split=2, mb__estimator__min_weight_fraction_leaf=0.2, mb__estimator__oob_score=True \n",
      "[CV]  mb__estimator__bootstrap=True, mb__estimator__max_features=log2, mb__estimator__min_samples_leaf=2, mb__estimator__min_samples_split=2, mb__estimator__min_weight_fraction_leaf=0.2, mb__estimator__oob_score=True, total=   4.7s\n",
      "[CV] mb__estimator__bootstrap=True, mb__estimator__max_features=log2, mb__estimator__min_samples_leaf=2, mb__estimator__min_samples_split=2, mb__estimator__min_weight_fraction_leaf=0.4, mb__estimator__oob_score=True \n",
      "[CV]  mb__estimator__bootstrap=True, mb__estimator__max_features=log2, mb__estimator__min_samples_leaf=2, mb__estimator__min_samples_split=2, mb__estimator__min_weight_fraction_leaf=0.2, mb__estimator__oob_score=True, total=   4.6s\n",
      "[CV] mb__estimator__bootstrap=True, mb__estimator__max_features=log2, mb__estimator__min_samples_leaf=2, mb__estimator__min_samples_split=2, mb__estimator__min_weight_fraction_leaf=0.4, mb__estimator__oob_score=True \n",
      "[CV]  mb__estimator__bootstrap=True, mb__estimator__max_features=log2, mb__estimator__min_samples_leaf=2, mb__estimator__min_samples_split=2, mb__estimator__min_weight_fraction_leaf=0.0, mb__estimator__oob_score=True, total=   5.3s\n",
      "[CV]  mb__estimator__bootstrap=True, mb__estimator__max_features=log2, mb__estimator__min_samples_leaf=2, mb__estimator__min_samples_split=2, mb__estimator__min_weight_fraction_leaf=0.0, mb__estimator__oob_score=True, total=   5.2s\n",
      "[CV] mb__estimator__bootstrap=True, mb__estimator__max_features=log2, mb__estimator__min_samples_leaf=2, mb__estimator__min_samples_split=2, mb__estimator__min_weight_fraction_leaf=0.6000000000000001, mb__estimator__oob_score=True \n",
      "[CV] mb__estimator__bootstrap=True, mb__estimator__max_features=log2, mb__estimator__min_samples_leaf=2, mb__estimator__min_samples_split=2, mb__estimator__min_weight_fraction_leaf=0.6000000000000001, mb__estimator__oob_score=True \n",
      "[CV]  mb__estimator__bootstrap=True, mb__estimator__max_features=log2, mb__estimator__min_samples_leaf=2, mb__estimator__min_samples_split=2, mb__estimator__min_weight_fraction_leaf=0.6000000000000001, mb__estimator__oob_score=True, total=   0.1s\n",
      "[CV]  mb__estimator__bootstrap=True, mb__estimator__max_features=log2, mb__estimator__min_samples_leaf=2, mb__estimator__min_samples_split=2, mb__estimator__min_weight_fraction_leaf=0.6000000000000001, mb__estimator__oob_score=True, total=   0.1s\n",
      "[CV] mb__estimator__bootstrap=True, mb__estimator__max_features=log2, mb__estimator__min_samples_leaf=2, mb__estimator__min_samples_split=2, mb__estimator__min_weight_fraction_leaf=0.8, mb__estimator__oob_score=True \n",
      "[CV] mb__estimator__bootstrap=True, mb__estimator__max_features=log2, mb__estimator__min_samples_leaf=2, mb__estimator__min_samples_split=2, mb__estimator__min_weight_fraction_leaf=0.8, mb__estimator__oob_score=True \n",
      "[CV]  mb__estimator__bootstrap=True, mb__estimator__max_features=log2, mb__estimator__min_samples_leaf=2, mb__estimator__min_samples_split=2, mb__estimator__min_weight_fraction_leaf=0.8, mb__estimator__oob_score=True, total=   0.2s\n",
      "[CV]  mb__estimator__bootstrap=True, mb__estimator__max_features=log2, mb__estimator__min_samples_leaf=2, mb__estimator__min_samples_split=2, mb__estimator__min_weight_fraction_leaf=0.8, mb__estimator__oob_score=True, total=   0.1s\n",
      "[CV] mb__estimator__bootstrap=True, mb__estimator__max_features=log2, mb__estimator__min_samples_leaf=2, mb__estimator__min_samples_split=2, mb__estimator__min_weight_fraction_leaf=1.0, mb__estimator__oob_score=True \n",
      "[CV] mb__estimator__bootstrap=True, mb__estimator__max_features=log2, mb__estimator__min_samples_leaf=2, mb__estimator__min_samples_split=2, mb__estimator__min_weight_fraction_leaf=1.0, mb__estimator__oob_score=True \n",
      "[CV]  mb__estimator__bootstrap=True, mb__estimator__max_features=log2, mb__estimator__min_samples_leaf=2, mb__estimator__min_samples_split=2, mb__estimator__min_weight_fraction_leaf=1.0, mb__estimator__oob_score=True, total=   0.1s\n",
      "[CV]  mb__estimator__bootstrap=True, mb__estimator__max_features=log2, mb__estimator__min_samples_leaf=2, mb__estimator__min_samples_split=2, mb__estimator__min_weight_fraction_leaf=1.0, mb__estimator__oob_score=True, total=   0.1s\n",
      "[CV]  mb__estimator__bootstrap=True, mb__estimator__max_features=log2, mb__estimator__min_samples_leaf=2, mb__estimator__min_samples_split=2, mb__estimator__min_weight_fraction_leaf=0.4, mb__estimator__oob_score=True, total=   3.6s\n",
      "[CV]  mb__estimator__bootstrap=True, mb__estimator__max_features=log2, mb__estimator__min_samples_leaf=2, mb__estimator__min_samples_split=2, mb__estimator__min_weight_fraction_leaf=0.4, mb__estimator__oob_score=True, total=   3.6s\n"
     ]
    },
    {
     "name": "stderr",
     "output_type": "stream",
     "text": [
      "[Parallel(n_jobs=-1)]: Done  12 out of  12 | elapsed:    9.7s remaining:    0.0s\n",
      "[Parallel(n_jobs=-1)]: Done  12 out of  12 | elapsed:    9.7s finished\n"
     ]
    },
    {
     "name": "stdout",
     "output_type": "stream",
     "text": [
      "{'mb__estimator__bootstrap': True, 'mb__estimator__max_features': 'log2', 'mb__estimator__min_samples_leaf': 2, 'mb__estimator__min_samples_split': 2, 'mb__estimator__min_weight_fraction_leaf': 0.6000000000000001, 'mb__estimator__oob_score': True} 0.0\n",
      "{'mb__estimator__bootstrap': True, 'mb__estimator__max_features': 'log2', 'mb__estimator__min_samples_leaf': 2, 'mb__estimator__min_samples_split': 2, 'mb__estimator__min_weight_fraction_leaf': 0.8, 'mb__estimator__oob_score': True} 0.0\n",
      "{'mb__estimator__bootstrap': True, 'mb__estimator__max_features': 'log2', 'mb__estimator__min_samples_leaf': 2, 'mb__estimator__min_samples_split': 2, 'mb__estimator__min_weight_fraction_leaf': 1.0, 'mb__estimator__oob_score': True} 0.0\n",
      "{'mb__estimator__bootstrap': True, 'mb__estimator__max_features': 'log2', 'mb__estimator__min_samples_leaf': 2, 'mb__estimator__min_samples_split': 2, 'mb__estimator__min_weight_fraction_leaf': 0.0, 'mb__estimator__oob_score': True} 3.6301634928195265\n",
      "{'mb__estimator__bootstrap': True, 'mb__estimator__max_features': 'log2', 'mb__estimator__min_samples_leaf': 2, 'mb__estimator__min_samples_split': 2, 'mb__estimator__min_weight_fraction_leaf': 0.4, 'mb__estimator__oob_score': True} 5.123078504412531\n",
      "{'mb__estimator__bootstrap': True, 'mb__estimator__max_features': 'log2', 'mb__estimator__min_samples_leaf': 2, 'mb__estimator__min_samples_split': 2, 'mb__estimator__min_weight_fraction_leaf': 0.2, 'mb__estimator__oob_score': True} 5.16864564049104\n"
     ]
    }
   ],
   "source": [
    "grd = {\n",
    "    'mb__estimator__max_features': ['log2'],\n",
    "    'mb__estimator__bootstrap': [True],\n",
    "    'mb__estimator__oob_score': [True],\n",
    "    'mb__estimator__min_samples_leaf': [2],\n",
    "    'mb__estimator__min_samples_split': [2],\n",
    "    'mb__estimator__min_samples_leaf': [2],\n",
    "    'mb__estimator__min_weight_fraction_leaf': numpy.linspace(0, 1, 6)\n",
    "}\n",
    "gsc = GridSearchCV(estimator=ppl, param_grid=grd, scoring=make_scorer(average_lowest_correct), n_jobs=-1, cv=2, verbose=2, error_score=0)\n",
    "gsc.fit(tfidf, ohe)\n",
    "prn_rsl(gsc)"
   ]
  },
  {
   "cell_type": "markdown",
   "metadata": {},
   "source": [
    "## Process Step"
   ]
  },
  {
   "cell_type": "code",
   "execution_count": 42,
   "metadata": {},
   "outputs": [
    {
     "data": {
      "text/html": [
       "<div>\n",
       "<style scoped>\n",
       "    .dataframe tbody tr th:only-of-type {\n",
       "        vertical-align: middle;\n",
       "    }\n",
       "\n",
       "    .dataframe tbody tr th {\n",
       "        vertical-align: top;\n",
       "    }\n",
       "\n",
       "    .dataframe thead th {\n",
       "        text-align: right;\n",
       "    }\n",
       "</style>\n",
       "<table border=\"1\" class=\"dataframe\">\n",
       "  <thead>\n",
       "    <tr style=\"text-align: right;\">\n",
       "      <th></th>\n",
       "      <th>_____________________</th>\n",
       "      <th>_____________________ follow</th>\n",
       "      <th>able</th>\n",
       "      <th>acceptable</th>\n",
       "      <th>accessory</th>\n",
       "      <th>accessory require</th>\n",
       "      <th>accidentally</th>\n",
       "      <th>accompany</th>\n",
       "      <th>accord</th>\n",
       "      <th>account</th>\n",
       "      <th>...</th>\n",
       "      <th>wrong ct</th>\n",
       "      <th>wrong info</th>\n",
       "      <th>wrong info mri</th>\n",
       "      <th>wrong patient</th>\n",
       "      <th>wrong pt</th>\n",
       "      <th>wrong set</th>\n",
       "      <th>wrong tattoo</th>\n",
       "      <th>xrt</th>\n",
       "      <th>xrt date</th>\n",
       "      <th>xrt pt</th>\n",
       "    </tr>\n",
       "  </thead>\n",
       "  <tbody>\n",
       "    <tr>\n",
       "      <th>0</th>\n",
       "      <td>0.0</td>\n",
       "      <td>0.0</td>\n",
       "      <td>0.0</td>\n",
       "      <td>0.0</td>\n",
       "      <td>0.0</td>\n",
       "      <td>0.0</td>\n",
       "      <td>0.0</td>\n",
       "      <td>0.0</td>\n",
       "      <td>0.0</td>\n",
       "      <td>0.0</td>\n",
       "      <td>...</td>\n",
       "      <td>0.0</td>\n",
       "      <td>0.0</td>\n",
       "      <td>0.0</td>\n",
       "      <td>0.0</td>\n",
       "      <td>0.0</td>\n",
       "      <td>0.0</td>\n",
       "      <td>0.0</td>\n",
       "      <td>0.0</td>\n",
       "      <td>0.0</td>\n",
       "      <td>0.0</td>\n",
       "    </tr>\n",
       "    <tr>\n",
       "      <th>1</th>\n",
       "      <td>0.0</td>\n",
       "      <td>0.0</td>\n",
       "      <td>0.0</td>\n",
       "      <td>0.0</td>\n",
       "      <td>0.0</td>\n",
       "      <td>0.0</td>\n",
       "      <td>0.0</td>\n",
       "      <td>0.0</td>\n",
       "      <td>0.0</td>\n",
       "      <td>0.0</td>\n",
       "      <td>...</td>\n",
       "      <td>0.0</td>\n",
       "      <td>0.0</td>\n",
       "      <td>0.0</td>\n",
       "      <td>0.0</td>\n",
       "      <td>0.0</td>\n",
       "      <td>0.0</td>\n",
       "      <td>0.0</td>\n",
       "      <td>0.0</td>\n",
       "      <td>0.0</td>\n",
       "      <td>0.0</td>\n",
       "    </tr>\n",
       "    <tr>\n",
       "      <th>2</th>\n",
       "      <td>0.0</td>\n",
       "      <td>0.0</td>\n",
       "      <td>0.0</td>\n",
       "      <td>0.0</td>\n",
       "      <td>0.0</td>\n",
       "      <td>0.0</td>\n",
       "      <td>0.0</td>\n",
       "      <td>0.0</td>\n",
       "      <td>0.0</td>\n",
       "      <td>0.0</td>\n",
       "      <td>...</td>\n",
       "      <td>0.0</td>\n",
       "      <td>0.0</td>\n",
       "      <td>0.0</td>\n",
       "      <td>0.0</td>\n",
       "      <td>0.0</td>\n",
       "      <td>0.0</td>\n",
       "      <td>0.0</td>\n",
       "      <td>0.0</td>\n",
       "      <td>0.0</td>\n",
       "      <td>0.0</td>\n",
       "    </tr>\n",
       "  </tbody>\n",
       "</table>\n",
       "<p>3 rows × 2261 columns</p>\n",
       "</div>"
      ],
      "text/plain": [
       "   _____________________  _____________________ follow  able  acceptable  \\\n",
       "0                    0.0                           0.0   0.0         0.0   \n",
       "1                    0.0                           0.0   0.0         0.0   \n",
       "2                    0.0                           0.0   0.0         0.0   \n",
       "\n",
       "   accessory  accessory require  accidentally  accompany  accord  account  \\\n",
       "0        0.0                0.0           0.0        0.0     0.0      0.0   \n",
       "1        0.0                0.0           0.0        0.0     0.0      0.0   \n",
       "2        0.0                0.0           0.0        0.0     0.0      0.0   \n",
       "\n",
       "    ...    wrong ct  wrong info  wrong info mri  wrong patient  wrong pt  \\\n",
       "0   ...         0.0         0.0             0.0            0.0       0.0   \n",
       "1   ...         0.0         0.0             0.0            0.0       0.0   \n",
       "2   ...         0.0         0.0             0.0            0.0       0.0   \n",
       "\n",
       "   wrong set  wrong tattoo  xrt  xrt date  xrt pt  \n",
       "0        0.0           0.0  0.0       0.0     0.0  \n",
       "1        0.0           0.0  0.0       0.0     0.0  \n",
       "2        0.0           0.0  0.0       0.0     0.0  \n",
       "\n",
       "[3 rows x 2261 columns]"
      ]
     },
     "execution_count": 42,
     "metadata": {},
     "output_type": "execute_result"
    }
   ],
   "source": [
    "tfidf = pandas.read_csv('07 NM PS TFIDF.csv', delimiter=',', encoding='latin-1').fillna('')\n",
    "tfidf[:3]"
   ]
  },
  {
   "cell_type": "code",
   "execution_count": 43,
   "metadata": {},
   "outputs": [
    {
     "data": {
      "text/html": [
       "<div>\n",
       "<style scoped>\n",
       "    .dataframe tbody tr th:only-of-type {\n",
       "        vertical-align: middle;\n",
       "    }\n",
       "\n",
       "    .dataframe tbody tr th {\n",
       "        vertical-align: top;\n",
       "    }\n",
       "\n",
       "    .dataframe thead th {\n",
       "        text-align: right;\n",
       "    }\n",
       "</style>\n",
       "<table border=\"1\" class=\"dataframe\">\n",
       "  <thead>\n",
       "    <tr style=\"text-align: right;\">\n",
       "      <th></th>\n",
       "      <th>Treatment delivery</th>\n",
       "      <th>Radiation treatment prescription scheduling</th>\n",
       "      <th>Pre-treatment quality assurance</th>\n",
       "      <th>Post-treatment completion</th>\n",
       "      <th>Interventional procedure for planning and/or delivery</th>\n",
       "      <th>Contouring and planning</th>\n",
       "      <th>Imaging for treatment planning</th>\n",
       "      <th>Patient medical consultation and physician assessment</th>\n",
       "      <th>On-treatment quality assurance</th>\n",
       "    </tr>\n",
       "  </thead>\n",
       "  <tbody>\n",
       "    <tr>\n",
       "      <th>0</th>\n",
       "      <td>1</td>\n",
       "      <td>0</td>\n",
       "      <td>0</td>\n",
       "      <td>0</td>\n",
       "      <td>0</td>\n",
       "      <td>0</td>\n",
       "      <td>0</td>\n",
       "      <td>0</td>\n",
       "      <td>0</td>\n",
       "    </tr>\n",
       "    <tr>\n",
       "      <th>1</th>\n",
       "      <td>0</td>\n",
       "      <td>0</td>\n",
       "      <td>0</td>\n",
       "      <td>1</td>\n",
       "      <td>0</td>\n",
       "      <td>0</td>\n",
       "      <td>0</td>\n",
       "      <td>0</td>\n",
       "      <td>0</td>\n",
       "    </tr>\n",
       "    <tr>\n",
       "      <th>2</th>\n",
       "      <td>0</td>\n",
       "      <td>0</td>\n",
       "      <td>1</td>\n",
       "      <td>0</td>\n",
       "      <td>0</td>\n",
       "      <td>0</td>\n",
       "      <td>0</td>\n",
       "      <td>0</td>\n",
       "      <td>0</td>\n",
       "    </tr>\n",
       "  </tbody>\n",
       "</table>\n",
       "</div>"
      ],
      "text/plain": [
       "   Treatment delivery  Radiation treatment prescription scheduling  \\\n",
       "0                   1                                            0   \n",
       "1                   0                                            0   \n",
       "2                   0                                            0   \n",
       "\n",
       "   Pre-treatment quality assurance  Post-treatment completion  \\\n",
       "0                                0                          0   \n",
       "1                                0                          1   \n",
       "2                                1                          0   \n",
       "\n",
       "   Interventional procedure for planning and/or delivery  \\\n",
       "0                                                  0       \n",
       "1                                                  0       \n",
       "2                                                  0       \n",
       "\n",
       "   Contouring and planning  Imaging for treatment planning  \\\n",
       "0                        0                               0   \n",
       "1                        0                               0   \n",
       "2                        0                               0   \n",
       "\n",
       "   Patient medical consultation and physician assessment  \\\n",
       "0                                                  0       \n",
       "1                                                  0       \n",
       "2                                                  0       \n",
       "\n",
       "   On-treatment quality assurance  \n",
       "0                               0  \n",
       "1                               0  \n",
       "2                               0  "
      ]
     },
     "execution_count": 43,
     "metadata": {},
     "output_type": "execute_result"
    }
   ],
   "source": [
    "ohe = pandas.read_csv('07 NM PS OHE.csv', delimiter=',', encoding='latin-1').fillna('')\n",
    "ohe[:3]"
   ]
  },
  {
   "cell_type": "code",
   "execution_count": 44,
   "metadata": {},
   "outputs": [
    {
     "name": "stdout",
     "output_type": "stream",
     "text": [
      "Fitting 2 folds for each of 1 candidates, totalling 2 fits\n",
      "[CV] mb__estimator__bootstrap=True, mb__estimator__max_features=log2, mb__estimator__min_samples_leaf=2, mb__estimator__min_samples_split=2, mb__estimator__min_weight_fraction_leaf=0, mb__estimator__oob_score=True \n",
      "[CV] mb__estimator__bootstrap=True, mb__estimator__max_features=log2, mb__estimator__min_samples_leaf=2, mb__estimator__min_samples_split=2, mb__estimator__min_weight_fraction_leaf=0, mb__estimator__oob_score=True \n",
      "[CV]  mb__estimator__bootstrap=True, mb__estimator__max_features=log2, mb__estimator__min_samples_leaf=2, mb__estimator__min_samples_split=2, mb__estimator__min_weight_fraction_leaf=0, mb__estimator__oob_score=True, total=   2.3s\n",
      "[CV]  mb__estimator__bootstrap=True, mb__estimator__max_features=log2, mb__estimator__min_samples_leaf=2, mb__estimator__min_samples_split=2, mb__estimator__min_weight_fraction_leaf=0, mb__estimator__oob_score=True, total=   2.4s\n"
     ]
    },
    {
     "name": "stderr",
     "output_type": "stream",
     "text": [
      "[Parallel(n_jobs=-1)]: Done   2 out of   2 | elapsed:    3.2s finished\n"
     ]
    },
    {
     "name": "stdout",
     "output_type": "stream",
     "text": [
      "{'mb__estimator__bootstrap': True, 'mb__estimator__max_features': 'log2', 'mb__estimator__min_samples_leaf': 2, 'mb__estimator__min_samples_split': 2, 'mb__estimator__min_weight_fraction_leaf': 0, 'mb__estimator__oob_score': True} 1.846518987341772\n"
     ]
    }
   ],
   "source": [
    "grd = {\n",
    "    'mb__estimator__max_features': ['log2'],\n",
    "    'mb__estimator__bootstrap': [True],\n",
    "    'mb__estimator__oob_score': [True],\n",
    "    'mb__estimator__min_samples_leaf': [2],\n",
    "    'mb__estimator__min_samples_split': [2],\n",
    "    'mb__estimator__min_samples_leaf': [2],\n",
    "    'mb__estimator__min_weight_fraction_leaf': [0]\n",
    "}\n",
    "gsc = GridSearchCV(estimator=ppl, param_grid=grd, scoring=make_scorer(average_lowest_correct), n_jobs=-1, cv=2, verbose=2, error_score=0)\n",
    "gsc.fit(tfidf, ohe)\n",
    "prn_rsl(gsc)"
   ]
  },
  {
   "cell_type": "markdown",
   "metadata": {},
   "source": [
    "## Contributing Factors"
   ]
  },
  {
   "cell_type": "code",
   "execution_count": 46,
   "metadata": {},
   "outputs": [],
   "source": [
    "tfidf = pandas.read_csv('07 NM CF TFIDF.csv', delimiter=',', encoding='latin-1').fillna('')\n",
    "ohe = pandas.read_csv('07 NM CF OHE.csv', delimiter=',', encoding='latin-1').fillna('')"
   ]
  },
  {
   "cell_type": "code",
   "execution_count": 47,
   "metadata": {},
   "outputs": [
    {
     "name": "stdout",
     "output_type": "stream",
     "text": [
      "Fitting 2 folds for each of 1 candidates, totalling 2 fits\n",
      "[CV] mb__estimator__bootstrap=True, mb__estimator__max_features=log2, mb__estimator__min_samples_leaf=2, mb__estimator__min_samples_split=2, mb__estimator__min_weight_fraction_leaf=0, mb__estimator__oob_score=True \n",
      "[CV] mb__estimator__bootstrap=True, mb__estimator__max_features=log2, mb__estimator__min_samples_leaf=2, mb__estimator__min_samples_split=2, mb__estimator__min_weight_fraction_leaf=0, mb__estimator__oob_score=True \n",
      "[CV]  mb__estimator__bootstrap=True, mb__estimator__max_features=log2, mb__estimator__min_samples_leaf=2, mb__estimator__min_samples_split=2, mb__estimator__min_weight_fraction_leaf=0, mb__estimator__oob_score=True, total=   6.0s\n",
      "[CV]  mb__estimator__bootstrap=True, mb__estimator__max_features=log2, mb__estimator__min_samples_leaf=2, mb__estimator__min_samples_split=2, mb__estimator__min_weight_fraction_leaf=0, mb__estimator__oob_score=True, total=   6.2s\n"
     ]
    },
    {
     "name": "stderr",
     "output_type": "stream",
     "text": [
      "[Parallel(n_jobs=-1)]: Done   2 out of   2 | elapsed:    7.3s finished\n"
     ]
    },
    {
     "name": "stdout",
     "output_type": "stream",
     "text": [
      "{'mb__estimator__bootstrap': True, 'mb__estimator__max_features': 'log2', 'mb__estimator__min_samples_leaf': 2, 'mb__estimator__min_samples_split': 2, 'mb__estimator__min_weight_fraction_leaf': 0, 'mb__estimator__oob_score': True} 5.853003283670113\n"
     ]
    }
   ],
   "source": [
    "grd = {\n",
    "    'mb__estimator__max_features': ['log2'],\n",
    "    'mb__estimator__bootstrap': [True],\n",
    "    'mb__estimator__oob_score': [True],\n",
    "    'mb__estimator__min_samples_leaf': [2],\n",
    "    'mb__estimator__min_samples_split': [2],\n",
    "    'mb__estimator__min_samples_leaf': [2],\n",
    "    'mb__estimator__min_weight_fraction_leaf': [0]\n",
    "}\n",
    "gsc = GridSearchCV(estimator=ppl, param_grid=grd, scoring=make_scorer(average_lowest_correct), n_jobs=-1, cv=2, verbose=2, error_score=0)\n",
    "gsc.fit(tfidf, ohe)\n",
    "prn_rsl(gsc)"
   ]
  },
  {
   "cell_type": "markdown",
   "metadata": {},
   "source": [
    "## Overall Severity"
   ]
  },
  {
   "cell_type": "code",
   "execution_count": 49,
   "metadata": {},
   "outputs": [],
   "source": [
    "tfidf = pandas.read_csv('07 NM OS TFIDF.csv', delimiter=',', encoding='latin-1').fillna('')\n",
    "ohe = pandas.read_csv('07 NM OS OHE.csv', delimiter=',', encoding='latin-1').fillna('')"
   ]
  },
  {
   "cell_type": "code",
   "execution_count": 50,
   "metadata": {},
   "outputs": [
    {
     "name": "stdout",
     "output_type": "stream",
     "text": [
      "Fitting 2 folds for each of 1 candidates, totalling 2 fits\n",
      "[CV] mb__estimator__bootstrap=True, mb__estimator__max_features=log2, mb__estimator__min_samples_leaf=2, mb__estimator__min_samples_split=2, mb__estimator__min_weight_fraction_leaf=0, mb__estimator__oob_score=True \n",
      "[CV] mb__estimator__bootstrap=True, mb__estimator__max_features=log2, mb__estimator__min_samples_leaf=2, mb__estimator__min_samples_split=2, mb__estimator__min_weight_fraction_leaf=0, mb__estimator__oob_score=True \n",
      "[CV]  mb__estimator__bootstrap=True, mb__estimator__max_features=log2, mb__estimator__min_samples_leaf=2, mb__estimator__min_samples_split=2, mb__estimator__min_weight_fraction_leaf=0, mb__estimator__oob_score=True, total=   1.4s\n",
      "[CV]  mb__estimator__bootstrap=True, mb__estimator__max_features=log2, mb__estimator__min_samples_leaf=2, mb__estimator__min_samples_split=2, mb__estimator__min_weight_fraction_leaf=0, mb__estimator__oob_score=True, total=   1.4s\n"
     ]
    },
    {
     "name": "stderr",
     "output_type": "stream",
     "text": [
      "[Parallel(n_jobs=-1)]: Done   2 out of   2 | elapsed:    2.4s finished\n"
     ]
    },
    {
     "name": "stdout",
     "output_type": "stream",
     "text": [
      "{'mb__estimator__bootstrap': True, 'mb__estimator__max_features': 'log2', 'mb__estimator__min_samples_leaf': 2, 'mb__estimator__min_samples_split': 2, 'mb__estimator__min_weight_fraction_leaf': 0, 'mb__estimator__oob_score': True} 1.1131199364257476\n"
     ]
    }
   ],
   "source": [
    "grd = {\n",
    "    'mb__estimator__max_features': ['log2'],\n",
    "    'mb__estimator__bootstrap': [True],\n",
    "    'mb__estimator__oob_score': [True],\n",
    "    'mb__estimator__min_samples_leaf': [2],\n",
    "    'mb__estimator__min_samples_split': [2],\n",
    "    'mb__estimator__min_samples_leaf': [2],\n",
    "    'mb__estimator__min_weight_fraction_leaf': [0]\n",
    "}\n",
    "gsc = GridSearchCV(estimator=ppl, param_grid=grd, scoring=make_scorer(average_lowest_correct), n_jobs=-1, cv=2, verbose=2, error_score=0)\n",
    "gsc.fit(tfidf, ohe)\n",
    "prn_rsl(gsc)"
   ]
  },
  {
   "cell_type": "markdown",
   "metadata": {},
   "source": [
    "## Results\n",
    "PS 1.84\n",
    "\n",
    "PT 3.63 from 4.86\n",
    "\n",
    "CF 5.85\n",
    "\n",
    "OS 1.11"
   ]
  }
 ],
 "metadata": {
  "kernelspec": {
   "display_name": "Python 3",
   "language": "python",
   "name": "python3"
  },
  "language_info": {
   "codemirror_mode": {
    "name": "ipython",
    "version": 3
   },
   "file_extension": ".py",
   "mimetype": "text/x-python",
   "name": "python",
   "nbconvert_exporter": "python",
   "pygments_lexer": "ipython3",
   "version": "3.6.4"
  }
 },
 "nbformat": 4,
 "nbformat_minor": 2
}

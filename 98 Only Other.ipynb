{
 "cells": [
  {
   "cell_type": "code",
   "execution_count": 1,
   "metadata": {},
   "outputs": [],
   "source": [
    "import pandas\n",
    "import csv"
   ]
  },
  {
   "cell_type": "code",
   "execution_count": 2,
   "metadata": {},
   "outputs": [
    {
     "data": {
      "text/html": [
       "<div>\n",
       "<style scoped>\n",
       "    .dataframe tbody tr th:only-of-type {\n",
       "        vertical-align: middle;\n",
       "    }\n",
       "\n",
       "    .dataframe tbody tr th {\n",
       "        vertical-align: top;\n",
       "    }\n",
       "\n",
       "    .dataframe thead th {\n",
       "        text-align: right;\n",
       "    }\n",
       "</style>\n",
       "<table border=\"1\" class=\"dataframe\">\n",
       "  <thead>\n",
       "    <tr style=\"text-align: right;\">\n",
       "      <th></th>\n",
       "      <th>ID</th>\n",
       "      <th>Neat cleaned</th>\n",
       "      <th>Key cleaned</th>\n",
       "      <th>Process step</th>\n",
       "      <th>Problem type</th>\n",
       "      <th>Contributing factors</th>\n",
       "    </tr>\n",
       "  </thead>\n",
       "  <tbody>\n",
       "    <tr>\n",
       "      <th>0</th>\n",
       "      <td>2511</td>\n",
       "      <td>non prescribed bolus . bolus was not prescribe...</td>\n",
       "      <td>non prescribe bolus bolus prescribe md pt rece...</td>\n",
       "      <td>Treatment delivery</td>\n",
       "      <td>Wrong, missing, mislabeled, or damaged treatme...</td>\n",
       "      <td>Distraction or diversions involving staff</td>\n",
       "    </tr>\n",
       "    <tr>\n",
       "      <th>1</th>\n",
       "      <td>2521</td>\n",
       "      <td>skin breakdown post rt . noticed by nutritioni...</td>\n",
       "      <td>skin breakdown post rt notice nutritionist pt ...</td>\n",
       "      <td>Post-treatment completion</td>\n",
       "      <td>Other</td>\n",
       "      <td>Human resources inadequate</td>\n",
       "    </tr>\n",
       "    <tr>\n",
       "      <th>2</th>\n",
       "      <td>2562</td>\n",
       "      <td>call patient task never sent . ready for treat...</td>\n",
       "      <td>call patient task send ready treatment task se...</td>\n",
       "      <td>Pre-treatment quality assurance</td>\n",
       "      <td>Radiation therapy scheduling error</td>\n",
       "      <td>Other</td>\n",
       "    </tr>\n",
       "    <tr>\n",
       "      <th>3</th>\n",
       "      <td>2560</td>\n",
       "      <td>ready for treatment tasking error . physics qa...</td>\n",
       "      <td>ready treatment task error physics qa complete...</td>\n",
       "      <td>Contouring and planning</td>\n",
       "      <td>Radiation therapy scheduling error</td>\n",
       "      <td>Policies and/or procedures not followed</td>\n",
       "    </tr>\n",
       "    <tr>\n",
       "      <th>4</th>\n",
       "      <td>2526</td>\n",
       "      <td>prescription error . typo in prescription docu...</td>\n",
       "      <td>prescription error typo prescription document ...</td>\n",
       "      <td>Contouring and planning</td>\n",
       "      <td>Wrong plan dose (Retired value)</td>\n",
       "      <td>Human resources inadequate</td>\n",
       "    </tr>\n",
       "  </tbody>\n",
       "</table>\n",
       "</div>"
      ],
      "text/plain": [
       "     ID                                       Neat cleaned  \\\n",
       "0  2511  non prescribed bolus . bolus was not prescribe...   \n",
       "1  2521  skin breakdown post rt . noticed by nutritioni...   \n",
       "2  2562  call patient task never sent . ready for treat...   \n",
       "3  2560  ready for treatment tasking error . physics qa...   \n",
       "4  2526  prescription error . typo in prescription docu...   \n",
       "\n",
       "                                         Key cleaned  \\\n",
       "0  non prescribe bolus bolus prescribe md pt rece...   \n",
       "1  skin breakdown post rt notice nutritionist pt ...   \n",
       "2  call patient task send ready treatment task se...   \n",
       "3  ready treatment task error physics qa complete...   \n",
       "4  prescription error typo prescription document ...   \n",
       "\n",
       "                      Process step  \\\n",
       "0               Treatment delivery   \n",
       "1        Post-treatment completion   \n",
       "2  Pre-treatment quality assurance   \n",
       "3          Contouring and planning   \n",
       "4          Contouring and planning   \n",
       "\n",
       "                                        Problem type  \\\n",
       "0  Wrong, missing, mislabeled, or damaged treatme...   \n",
       "1                                              Other   \n",
       "2                 Radiation therapy scheduling error   \n",
       "3                 Radiation therapy scheduling error   \n",
       "4                    Wrong plan dose (Retired value)   \n",
       "\n",
       "                        Contributing factors  \n",
       "0  Distraction or diversions involving staff  \n",
       "1                 Human resources inadequate  \n",
       "2                                      Other  \n",
       "3    Policies and/or procedures not followed  \n",
       "4                 Human resources inadequate  "
      ]
     },
     "execution_count": 2,
     "metadata": {},
     "output_type": "execute_result"
    }
   ],
   "source": [
    "cmb = pandas.read_csv('05 Combined cleaned.csv', delimiter=',', encoding='latin-1').fillna('')\n",
    "cmb[:5]"
   ]
  },
  {
   "cell_type": "code",
   "execution_count": 4,
   "metadata": {},
   "outputs": [],
   "source": [
    "pso = cmb[cmb['Process step']=='Other']"
   ]
  },
  {
   "cell_type": "code",
   "execution_count": 6,
   "metadata": {},
   "outputs": [],
   "source": [
    "pto = cmb[cmb['Problem type']=='Other']"
   ]
  },
  {
   "cell_type": "code",
   "execution_count": 8,
   "metadata": {},
   "outputs": [],
   "source": [
    "cfo = cmb[cmb['Contributing factors']=='Other']"
   ]
  },
  {
   "cell_type": "code",
   "execution_count": 10,
   "metadata": {},
   "outputs": [],
   "source": [
    "pso.to_csv('pso.csv', encoding='utf-8', index=False, quoting=csv.QUOTE_NONNUMERIC)"
   ]
  },
  {
   "cell_type": "code",
   "execution_count": 11,
   "metadata": {},
   "outputs": [],
   "source": [
    "pto.to_csv('pto.csv', encoding='utf-8', index=False, quoting=csv.QUOTE_NONNUMERIC)"
   ]
  },
  {
   "cell_type": "code",
   "execution_count": 12,
   "metadata": {},
   "outputs": [],
   "source": [
    "cfo.to_csv('cfo.csv', encoding='utf-8', index=False, quoting=csv.QUOTE_NONNUMERIC)"
   ]
  }
 ],
 "metadata": {
  "kernelspec": {
   "display_name": "Python 3",
   "language": "python",
   "name": "python3"
  },
  "language_info": {
   "codemirror_mode": {
    "name": "ipython",
    "version": 3
   },
   "file_extension": ".py",
   "mimetype": "text/x-python",
   "name": "python",
   "nbconvert_exporter": "python",
   "pygments_lexer": "ipython3",
   "version": "3.6.4"
  }
 },
 "nbformat": 4,
 "nbformat_minor": 2
}

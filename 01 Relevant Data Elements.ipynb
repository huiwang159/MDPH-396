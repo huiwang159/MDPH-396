{
 "cells": [
  {
   "cell_type": "markdown",
   "metadata": {},
   "source": [
    "# Relevant Data Elements"
   ]
  },
  {
   "cell_type": "code",
   "execution_count": 1,
   "metadata": {},
   "outputs": [],
   "source": [
    "import csv\n",
    "import pandas"
   ]
  },
  {
   "cell_type": "markdown",
   "metadata": {},
   "source": [
    "### MUHC Dataset"
   ]
  },
  {
   "cell_type": "code",
   "execution_count": 2,
   "metadata": {},
   "outputs": [
    {
     "data": {
      "text/html": [
       "<div>\n",
       "<style scoped>\n",
       "    .dataframe tbody tr th:only-of-type {\n",
       "        vertical-align: middle;\n",
       "    }\n",
       "\n",
       "    .dataframe tbody tr th {\n",
       "        vertical-align: top;\n",
       "    }\n",
       "\n",
       "    .dataframe thead th {\n",
       "        text-align: right;\n",
       "    }\n",
       "</style>\n",
       "<table border=\"1\" class=\"dataframe\">\n",
       "  <thead>\n",
       "    <tr style=\"text-align: right;\">\n",
       "      <th></th>\n",
       "      <th>incident_id</th>\n",
       "      <th>investigation_complete</th>\n",
       "      <th>event_type</th>\n",
       "      <th>incident_description</th>\n",
       "      <th>descriptor</th>\n",
       "      <th>coordinator_comments</th>\n",
       "      <th>investigation_narrative</th>\n",
       "      <th>acute_medical_harm</th>\n",
       "      <th>dosimetric_impact</th>\n",
       "      <th>latent_medical_harm</th>\n",
       "      <th>...</th>\n",
       "      <th>number_fractions_prescribed</th>\n",
       "      <th>number_fractions_incorrect</th>\n",
       "      <th>hardware_manufacturer_model</th>\n",
       "      <th>software_manufacturer_model</th>\n",
       "      <th>body_region_treated</th>\n",
       "      <th>treatment_intent</th>\n",
       "      <th>ameliorating_actions</th>\n",
       "      <th>safety_barriers_failed</th>\n",
       "      <th>safety_barriers_prevented</th>\n",
       "      <th>actions_reduce_risk</th>\n",
       "    </tr>\n",
       "  </thead>\n",
       "  <tbody>\n",
       "    <tr>\n",
       "      <th>0</th>\n",
       "      <td>2511</td>\n",
       "      <td>True</td>\n",
       "      <td>Actual incident</td>\n",
       "      <td>Bolus was not prescribed by MD. Pt received 2 ...</td>\n",
       "      <td>Non prescribed bolus</td>\n",
       "      <td>NaN</td>\n",
       "      <td>NaN</td>\n",
       "      <td>None</td>\n",
       "      <td>Minor</td>\n",
       "      <td>No</td>\n",
       "      <td>...</td>\n",
       "      <td>25.0</td>\n",
       "      <td>2.0</td>\n",
       "      <td>NaN</td>\n",
       "      <td>NaN</td>\n",
       "      <td>Thorax</td>\n",
       "      <td>NaN</td>\n",
       "      <td>Other</td>\n",
       "      <td>Verification of treatment accessories</td>\n",
       "      <td>NaN</td>\n",
       "      <td>NaN</td>\n",
       "    </tr>\n",
       "  </tbody>\n",
       "</table>\n",
       "<p>1 rows × 38 columns</p>\n",
       "</div>"
      ],
      "text/plain": [
       "   incident_id  investigation_complete       event_type  \\\n",
       "0         2511                    True  Actual incident   \n",
       "\n",
       "                                incident_description            descriptor  \\\n",
       "0  Bolus was not prescribed by MD. Pt received 2 ...  Non prescribed bolus   \n",
       "\n",
       "  coordinator_comments investigation_narrative acute_medical_harm  \\\n",
       "0                  NaN                     NaN               None   \n",
       "\n",
       "  dosimetric_impact latent_medical_harm         ...          \\\n",
       "0             Minor                  No         ...           \n",
       "\n",
       "  number_fractions_prescribed number_fractions_incorrect  \\\n",
       "0                        25.0                        2.0   \n",
       "\n",
       "  hardware_manufacturer_model software_manufacturer_model body_region_treated  \\\n",
       "0                         NaN                         NaN              Thorax   \n",
       "\n",
       "  treatment_intent ameliorating_actions  \\\n",
       "0              NaN                Other   \n",
       "\n",
       "                  safety_barriers_failed  safety_barriers_prevented  \\\n",
       "0  Verification of treatment accessories                        NaN   \n",
       "\n",
       "  actions_reduce_risk  \n",
       "0                 NaN  \n",
       "\n",
       "[1 rows x 38 columns]"
      ]
     },
     "execution_count": 2,
     "metadata": {},
     "output_type": "execute_result"
    }
   ],
   "source": [
    "# Import original dataset\n",
    "muhc = pandas.read_csv('00 MUHC Original.csv', delimiter=',', encoding='latin-1')\n",
    "muhc[:1]"
   ]
  },
  {
   "cell_type": "code",
   "execution_count": 3,
   "metadata": {},
   "outputs": [
    {
     "data": {
      "text/html": [
       "<div>\n",
       "<style scoped>\n",
       "    .dataframe tbody tr th:only-of-type {\n",
       "        vertical-align: middle;\n",
       "    }\n",
       "\n",
       "    .dataframe tbody tr th {\n",
       "        vertical-align: top;\n",
       "    }\n",
       "\n",
       "    .dataframe thead th {\n",
       "        text-align: right;\n",
       "    }\n",
       "</style>\n",
       "<table border=\"1\" class=\"dataframe\">\n",
       "  <thead>\n",
       "    <tr style=\"text-align: right;\">\n",
       "      <th></th>\n",
       "      <th>ID</th>\n",
       "      <th>Process Step</th>\n",
       "      <th>Problem Type</th>\n",
       "      <th>Contributing Factors</th>\n",
       "      <th>Overall Severity</th>\n",
       "      <th>Incident Description</th>\n",
       "    </tr>\n",
       "  </thead>\n",
       "  <tbody>\n",
       "    <tr>\n",
       "      <th>0</th>\n",
       "      <td>2511</td>\n",
       "      <td>Treatment delivery</td>\n",
       "      <td>Wrong treatment accessories</td>\n",
       "      <td>Loss of attention</td>\n",
       "      <td>None</td>\n",
       "      <td>Non prescribed bolus . Bolus was not prescribe...</td>\n",
       "    </tr>\n",
       "  </tbody>\n",
       "</table>\n",
       "</div>"
      ],
      "text/plain": [
       "     ID        Process Step                 Problem Type Contributing Factors  \\\n",
       "0  2511  Treatment delivery  Wrong treatment accessories    Loss of attention   \n",
       "\n",
       "  Overall Severity                               Incident Description  \n",
       "0             None  Non prescribed bolus . Bolus was not prescribe...  "
      ]
     },
     "execution_count": 3,
     "metadata": {},
     "output_type": "execute_result"
    }
   ],
   "source": [
    "# Create a temporary DataFrame of only the relevant columns.\n",
    "temp = muhc[['event_type']].copy()\n",
    "temp['ID'] = muhc['incident_id']\n",
    "temp['Incident Description'] = muhc['descriptor'] + ' . ' + muhc['incident_description'] # id for incident description\n",
    "temp['Process Step'] = muhc['process_step_occurred']\n",
    "temp['Problem Type'] = muhc['problem_type']\n",
    "temp['Contributing Factors'] = muhc['contributing_factors']\n",
    "temp['Overall Severity'] = muhc['acute_medical_harm']\n",
    "muhc = temp[['ID', 'Process Step', 'Problem Type', 'Contributing Factors', 'Overall Severity', 'Incident Description']]\n",
    "muhc[:1]"
   ]
  },
  {
   "cell_type": "code",
   "execution_count": 4,
   "metadata": {},
   "outputs": [],
   "source": [
    "# Save the new dataset as '2 MUHC subset' because\n",
    "    # this is the second version of the MUHC dataset\n",
    "    # the columns of this version are a subset of the original version\n",
    "muhc.to_csv('01 MUHC Relevant.csv', encoding='latin-1', index=False, quoting=csv.QUOTE_NONNUMERIC)"
   ]
  },
  {
   "cell_type": "markdown",
   "metadata": {},
   "source": [
    "### CIHI Dataset"
   ]
  },
  {
   "cell_type": "code",
   "execution_count": 5,
   "metadata": {},
   "outputs": [
    {
     "data": {
      "text/html": [
       "<div>\n",
       "<style scoped>\n",
       "    .dataframe tbody tr th:only-of-type {\n",
       "        vertical-align: middle;\n",
       "    }\n",
       "\n",
       "    .dataframe tbody tr th {\n",
       "        vertical-align: top;\n",
       "    }\n",
       "\n",
       "    .dataframe thead th {\n",
       "        text-align: right;\n",
       "    }\n",
       "</style>\n",
       "<table border=\"1\" class=\"dataframe\">\n",
       "  <thead>\n",
       "    <tr style=\"text-align: right;\">\n",
       "      <th></th>\n",
       "      <th>RT NSIR Case ID</th>\n",
       "      <th>Detected Date</th>\n",
       "      <th>Overall Severity</th>\n",
       "      <th>Process Step Where Incident Occurred</th>\n",
       "      <th>Process Step Where Incident Detected</th>\n",
       "      <th>Problem Type - Primary</th>\n",
       "      <th>Contributing Factor List</th>\n",
       "      <th>Incident Description</th>\n",
       "      <th>Frequency</th>\n",
       "    </tr>\n",
       "  </thead>\n",
       "  <tbody>\n",
       "    <tr>\n",
       "      <th>0</th>\n",
       "      <td>100124165</td>\n",
       "      <td>8/10/2016</td>\n",
       "      <td>None</td>\n",
       "      <td>Imaging for treatment planning</td>\n",
       "      <td>Treatment delivery</td>\n",
       "      <td>Other</td>\n",
       "      <td>Policies and/or procedures non-existent or ina...</td>\n",
       "      <td>Laser origin tattooed instead of isocentre.  R...</td>\n",
       "      <td>1</td>\n",
       "    </tr>\n",
       "  </tbody>\n",
       "</table>\n",
       "</div>"
      ],
      "text/plain": [
       "   RT NSIR Case ID Detected Date Overall Severity  \\\n",
       "0        100124165     8/10/2016             None   \n",
       "\n",
       "  Process Step Where Incident Occurred Process Step Where Incident Detected  \\\n",
       "0       Imaging for treatment planning                   Treatment delivery   \n",
       "\n",
       "  Problem Type - Primary                           Contributing Factor List  \\\n",
       "0                  Other  Policies and/or procedures non-existent or ina...   \n",
       "\n",
       "                                Incident Description  Frequency  \n",
       "0  Laser origin tattooed instead of isocentre.  R...          1  "
      ]
     },
     "execution_count": 5,
     "metadata": {},
     "output_type": "execute_result"
    }
   ],
   "source": [
    "cihi = pandas.read_csv('00 CIHI Original.csv', delimiter=',', encoding='latin-1')\n",
    "cihi[:1]"
   ]
  },
  {
   "cell_type": "code",
   "execution_count": 6,
   "metadata": {},
   "outputs": [
    {
     "data": {
      "text/html": [
       "<div>\n",
       "<style scoped>\n",
       "    .dataframe tbody tr th:only-of-type {\n",
       "        vertical-align: middle;\n",
       "    }\n",
       "\n",
       "    .dataframe tbody tr th {\n",
       "        vertical-align: top;\n",
       "    }\n",
       "\n",
       "    .dataframe thead th {\n",
       "        text-align: right;\n",
       "    }\n",
       "</style>\n",
       "<table border=\"1\" class=\"dataframe\">\n",
       "  <thead>\n",
       "    <tr style=\"text-align: right;\">\n",
       "      <th></th>\n",
       "      <th>ID</th>\n",
       "      <th>Process Step</th>\n",
       "      <th>Problem Type</th>\n",
       "      <th>Contributing Factors</th>\n",
       "      <th>Overall Severity</th>\n",
       "      <th>Incident Description</th>\n",
       "    </tr>\n",
       "  </thead>\n",
       "  <tbody>\n",
       "    <tr>\n",
       "      <th>0</th>\n",
       "      <td>100124165</td>\n",
       "      <td>Imaging for treatment planning</td>\n",
       "      <td>Other</td>\n",
       "      <td>Policies and/or procedures non-existent or ina...</td>\n",
       "      <td>None</td>\n",
       "      <td>Laser origin tattooed instead of isocentre.  R...</td>\n",
       "    </tr>\n",
       "  </tbody>\n",
       "</table>\n",
       "</div>"
      ],
      "text/plain": [
       "          ID                    Process Step Problem Type  \\\n",
       "0  100124165  Imaging for treatment planning        Other   \n",
       "\n",
       "                                Contributing Factors Overall Severity  \\\n",
       "0  Policies and/or procedures non-existent or ina...             None   \n",
       "\n",
       "                                Incident Description  \n",
       "0  Laser origin tattooed instead of isocentre.  R...  "
      ]
     },
     "execution_count": 6,
     "metadata": {},
     "output_type": "execute_result"
    }
   ],
   "source": [
    "temp = cihi[['Frequency']].copy()\n",
    "temp['ID'] = cihi['RT NSIR Case ID']\n",
    "temp['Incident Description'] = cihi['Incident Description']\n",
    "temp['Process Step'] = cihi['Process Step Where Incident Occurred']\n",
    "temp['Problem Type'] = cihi['Problem Type - Primary']\n",
    "temp['Contributing Factors'] = cihi['Contributing Factor List']\n",
    "temp['Overall Severity'] = cihi['Overall Severity']\n",
    "cihi = temp[['ID', 'Process Step', 'Problem Type', 'Contributing Factors', 'Overall Severity', 'Incident Description']]\n",
    "cihi[:1]"
   ]
  },
  {
   "cell_type": "code",
   "execution_count": 7,
   "metadata": {},
   "outputs": [],
   "source": [
    "cihi.to_csv('01 CIHI Relevant.csv', encoding='latin-1', index=False, quoting=csv.QUOTE_NONNUMERIC)"
   ]
  }
 ],
 "metadata": {
  "kernelspec": {
   "display_name": "Python 3",
   "language": "python",
   "name": "python3"
  },
  "language_info": {
   "codemirror_mode": {
    "name": "ipython",
    "version": 3
   },
   "file_extension": ".py",
   "mimetype": "text/x-python",
   "name": "python",
   "nbconvert_exporter": "python",
   "pygments_lexer": "ipython3",
   "version": "3.6.4"
  }
 },
 "nbformat": 4,
 "nbformat_minor": 2
}

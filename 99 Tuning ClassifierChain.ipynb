{
 "cells": [
  {
   "cell_type": "code",
   "execution_count": 28,
   "metadata": {},
   "outputs": [],
   "source": [
    "import numpy\n",
    "import csv\n",
    "import time\n",
    "import pandas\n",
    "import signal\n",
    "import warnings\n",
    "warnings.filterwarnings(\"ignore\")"
   ]
  },
  {
   "cell_type": "code",
   "execution_count": 29,
   "metadata": {},
   "outputs": [],
   "source": [
    "from sklearn.metrics import make_scorer\n",
    "from sklearn.model_selection import GridSearchCV\n",
    "from sklearn.model_selection import cross_validate\n",
    "from sklearn.pipeline import Pipeline"
   ]
  },
  {
   "cell_type": "code",
   "execution_count": 30,
   "metadata": {},
   "outputs": [],
   "source": [
    "from sklearn.multioutput import ClassifierChain\n",
    "from sklearn.multioutput import MultiOutputRegressor\n",
    "from sklearn.multioutput import MultiOutputClassifier\n",
    "\n",
    "from sklearn.ensemble.weight_boosting import AdaBoostClassifier\n",
    "from sklearn.ensemble.weight_boosting import AdaBoostRegressor\n",
    "from sklearn.ensemble.bagging import BaggingClassifier\n",
    "from sklearn.ensemble.bagging import BaggingRegressor\n",
    "from sklearn.ensemble.forest import ExtraTreesClassifier\n",
    "from sklearn.ensemble.forest import ExtraTreesRegressor\n",
    "from sklearn.ensemble.gradient_boosting import GradientBoostingClassifier\n",
    "from sklearn.ensemble.gradient_boosting import GradientBoostingRegressor\n",
    "from sklearn.ensemble.forest import RandomForestClassifier\n",
    "from sklearn.ensemble.forest import RandomForestRegressor\n",
    "\n",
    "from sklearn.linear_model.bayes import ARDRegression\n",
    "from sklearn.linear_model.bayes import BayesianRidge\n",
    "from sklearn.naive_bayes import BernoulliNB\n",
    "from sklearn.cross_decomposition.cca_ import CCA\n",
    "from sklearn.tree.tree import DecisionTreeClassifier\n",
    "from sklearn.tree.tree import DecisionTreeRegressor\n",
    "from sklearn.linear_model.coordinate_descent import ElasticNet\n",
    "from sklearn.tree.tree import ExtraTreeClassifier\n",
    "from sklearn.tree.tree import ExtraTreeRegressor\n",
    "from sklearn.naive_bayes import GaussianNB\n",
    "from sklearn.gaussian_process.gpc import GaussianProcessClassifier\n",
    "from sklearn.gaussian_process.gpr import GaussianProcessRegressor\n",
    "from sklearn.linear_model.huber import HuberRegressor\n",
    "from sklearn.neighbors.classification import KNeighborsClassifier\n",
    "from sklearn.neighbors.regression import KNeighborsRegressor\n",
    "from sklearn.kernel_ridge import KernelRidge\n",
    "from sklearn.semi_supervised.label_propagation import LabelPropagation\n",
    "from sklearn.semi_supervised.label_propagation import LabelSpreading\n",
    "from sklearn.linear_model.least_angle import Lars\n",
    "from sklearn.linear_model.coordinate_descent import Lasso\n",
    "from sklearn.linear_model.least_angle import LassoLars\n",
    "from sklearn.linear_model.least_angle import LassoLarsIC\n",
    "from sklearn.discriminant_analysis import LinearDiscriminantAnalysis\n",
    "from sklearn.linear_model.base import LinearRegression\n",
    "from sklearn.svm.classes import LinearSVC\n",
    "from sklearn.svm.classes import LinearSVR\n",
    "from sklearn.linear_model.logistic import LogisticRegression\n",
    "from sklearn.neural_network.multilayer_perceptron import MLPClassifier\n",
    "from sklearn.neural_network.multilayer_perceptron import MLPRegressor\n",
    "from sklearn.linear_model.coordinate_descent import MultiTaskElasticNet\n",
    "from sklearn.linear_model.coordinate_descent import MultiTaskLasso\n",
    "from sklearn.naive_bayes import MultinomialNB\n",
    "from sklearn.neighbors.nearest_centroid import NearestCentroid\n",
    "from sklearn.svm.classes import NuSVC\n",
    "from sklearn.svm.classes import NuSVR\n",
    "from sklearn.linear_model.omp import OrthogonalMatchingPursuit\n",
    "from sklearn.cross_decomposition.pls_ import PLSCanonical\n",
    "from sklearn.cross_decomposition.pls_ import PLSRegression\n",
    "from sklearn.linear_model.passive_aggressive import PassiveAggressiveClassifier\n",
    "from sklearn.linear_model.passive_aggressive import PassiveAggressiveRegressor\n",
    "from sklearn.linear_model.perceptron import Perceptron\n",
    "from sklearn.discriminant_analysis import QuadraticDiscriminantAnalysis\n",
    "from sklearn.linear_model.ransac import RANSACRegressor\n",
    "from sklearn.neighbors.classification import RadiusNeighborsClassifier\n",
    "from sklearn.neighbors.regression import RadiusNeighborsRegressor\n",
    "from sklearn.linear_model.ridge import Ridge\n",
    "from sklearn.linear_model.ridge import RidgeClassifier\n",
    "from sklearn.linear_model.stochastic_gradient import SGDClassifier\n",
    "from sklearn.linear_model.stochastic_gradient import SGDRegressor\n",
    "from sklearn.svm.classes import SVC\n",
    "from sklearn.svm.classes import SVR\n",
    "from sklearn.linear_model.theil_sen import TheilSenRegressor"
   ]
  },
  {
   "cell_type": "code",
   "execution_count": 31,
   "metadata": {},
   "outputs": [],
   "source": [
    "mlts = [MultiOutputRegressor, ClassifierChain]\n",
    "bss = [Ridge, LinearSVR, GaussianProcessRegressor, PassiveAggressiveRegressor, KNeighborsRegressor, MLPRegressor, HuberRegressor, SGDRegressor, LassoLarsIC, ExtraTreeRegressor, ElasticNet, DecisionTreeRegressor, Perceptron, OrthogonalMatchingPursuit, BernoulliNB]"
   ]
  },
  {
   "cell_type": "code",
   "execution_count": 32,
   "metadata": {},
   "outputs": [
    {
     "data": {
      "text/html": [
       "<div>\n",
       "<style scoped>\n",
       "    .dataframe tbody tr th:only-of-type {\n",
       "        vertical-align: middle;\n",
       "    }\n",
       "\n",
       "    .dataframe tbody tr th {\n",
       "        vertical-align: top;\n",
       "    }\n",
       "\n",
       "    .dataframe thead th {\n",
       "        text-align: right;\n",
       "    }\n",
       "</style>\n",
       "<table border=\"1\" class=\"dataframe\">\n",
       "  <thead>\n",
       "    <tr style=\"text-align: right;\">\n",
       "      <th></th>\n",
       "      <th>____________________</th>\n",
       "      <th>_____________________</th>\n",
       "      <th>_____________________ follow</th>\n",
       "      <th>able</th>\n",
       "      <th>acceptable</th>\n",
       "      <th>accessory</th>\n",
       "      <th>accessory require</th>\n",
       "      <th>accidentally</th>\n",
       "      <th>accommodate</th>\n",
       "      <th>accompany</th>\n",
       "      <th>...</th>\n",
       "      <th>work</th>\n",
       "      <th>would</th>\n",
       "      <th>write</th>\n",
       "      <th>writer</th>\n",
       "      <th>wrong</th>\n",
       "      <th>wrong patient</th>\n",
       "      <th>wrong tattoo</th>\n",
       "      <th>xrt</th>\n",
       "      <th>xrt date</th>\n",
       "      <th>xrt pt</th>\n",
       "    </tr>\n",
       "  </thead>\n",
       "  <tbody>\n",
       "    <tr>\n",
       "      <th>0</th>\n",
       "      <td>0.0</td>\n",
       "      <td>0.0</td>\n",
       "      <td>0.0</td>\n",
       "      <td>0.0</td>\n",
       "      <td>0.0</td>\n",
       "      <td>0.0</td>\n",
       "      <td>0.0</td>\n",
       "      <td>0.0</td>\n",
       "      <td>0.0</td>\n",
       "      <td>0.0</td>\n",
       "      <td>...</td>\n",
       "      <td>0.0</td>\n",
       "      <td>0.0</td>\n",
       "      <td>0.0</td>\n",
       "      <td>0.0</td>\n",
       "      <td>0.0</td>\n",
       "      <td>0.0</td>\n",
       "      <td>0.0</td>\n",
       "      <td>0.0</td>\n",
       "      <td>0.0</td>\n",
       "      <td>0.0</td>\n",
       "    </tr>\n",
       "    <tr>\n",
       "      <th>1</th>\n",
       "      <td>0.0</td>\n",
       "      <td>0.0</td>\n",
       "      <td>0.0</td>\n",
       "      <td>0.0</td>\n",
       "      <td>0.0</td>\n",
       "      <td>0.0</td>\n",
       "      <td>0.0</td>\n",
       "      <td>0.0</td>\n",
       "      <td>0.0</td>\n",
       "      <td>0.0</td>\n",
       "      <td>...</td>\n",
       "      <td>0.0</td>\n",
       "      <td>0.0</td>\n",
       "      <td>0.0</td>\n",
       "      <td>0.0</td>\n",
       "      <td>0.0</td>\n",
       "      <td>0.0</td>\n",
       "      <td>0.0</td>\n",
       "      <td>0.0</td>\n",
       "      <td>0.0</td>\n",
       "      <td>0.0</td>\n",
       "    </tr>\n",
       "    <tr>\n",
       "      <th>2</th>\n",
       "      <td>0.0</td>\n",
       "      <td>0.0</td>\n",
       "      <td>0.0</td>\n",
       "      <td>0.0</td>\n",
       "      <td>0.0</td>\n",
       "      <td>0.0</td>\n",
       "      <td>0.0</td>\n",
       "      <td>0.0</td>\n",
       "      <td>0.0</td>\n",
       "      <td>0.0</td>\n",
       "      <td>...</td>\n",
       "      <td>0.0</td>\n",
       "      <td>0.0</td>\n",
       "      <td>0.0</td>\n",
       "      <td>0.0</td>\n",
       "      <td>0.0</td>\n",
       "      <td>0.0</td>\n",
       "      <td>0.0</td>\n",
       "      <td>0.0</td>\n",
       "      <td>0.0</td>\n",
       "      <td>0.0</td>\n",
       "    </tr>\n",
       "  </tbody>\n",
       "</table>\n",
       "<p>3 rows × 1891 columns</p>\n",
       "</div>"
      ],
      "text/plain": [
       "   ____________________  _____________________  _____________________ follow  \\\n",
       "0                   0.0                    0.0                           0.0   \n",
       "1                   0.0                    0.0                           0.0   \n",
       "2                   0.0                    0.0                           0.0   \n",
       "\n",
       "   able  acceptable  accessory  accessory require  accidentally  accommodate  \\\n",
       "0   0.0         0.0        0.0                0.0           0.0          0.0   \n",
       "1   0.0         0.0        0.0                0.0           0.0          0.0   \n",
       "2   0.0         0.0        0.0                0.0           0.0          0.0   \n",
       "\n",
       "   accompany   ...    work  would  write  writer  wrong  wrong patient  \\\n",
       "0        0.0   ...     0.0    0.0    0.0     0.0    0.0            0.0   \n",
       "1        0.0   ...     0.0    0.0    0.0     0.0    0.0            0.0   \n",
       "2        0.0   ...     0.0    0.0    0.0     0.0    0.0            0.0   \n",
       "\n",
       "   wrong tattoo  xrt  xrt date  xrt pt  \n",
       "0           0.0  0.0       0.0     0.0  \n",
       "1           0.0  0.0       0.0     0.0  \n",
       "2           0.0  0.0       0.0     0.0  \n",
       "\n",
       "[3 rows x 1891 columns]"
      ]
     },
     "execution_count": 32,
     "metadata": {},
     "output_type": "execute_result"
    }
   ],
   "source": [
    "tfidf = pandas.read_csv('07 NM PT TFIDF.csv', delimiter=',', encoding='latin-1').fillna('')\n",
    "tfidf[:3]"
   ]
  },
  {
   "cell_type": "code",
   "execution_count": 33,
   "metadata": {},
   "outputs": [
    {
     "data": {
      "text/html": [
       "<div>\n",
       "<style scoped>\n",
       "    .dataframe tbody tr th:only-of-type {\n",
       "        vertical-align: middle;\n",
       "    }\n",
       "\n",
       "    .dataframe tbody tr th {\n",
       "        vertical-align: top;\n",
       "    }\n",
       "\n",
       "    .dataframe thead th {\n",
       "        text-align: right;\n",
       "    }\n",
       "</style>\n",
       "<table border=\"1\" class=\"dataframe\">\n",
       "  <thead>\n",
       "    <tr style=\"text-align: right;\">\n",
       "      <th></th>\n",
       "      <th>Wrong target or OAR contours</th>\n",
       "      <th>Treatment plan acceptable but not physically deliverable</th>\n",
       "      <th>Excess imaging dose</th>\n",
       "      <th>Failure to perform on-treatment imaging as per instructions</th>\n",
       "      <th>Wrong patient</th>\n",
       "      <th>Fall or other patient injury or medical condition</th>\n",
       "      <th>Wrong anatomical site (excluding laterality)</th>\n",
       "      <th>Treatment plan (isodose distribution) unacceptable</th>\n",
       "      <th>Systematic hardware/software (including dose-volume) error</th>\n",
       "      <th>Interventional procedure error (Retired value)</th>\n",
       "      <th>...</th>\n",
       "      <th>Inappropriate or poorly informed decision to treat or plan</th>\n",
       "      <th>Inadequate coordination of combined modality care</th>\n",
       "      <th>Wrong, missing, mislabeled, or damaged treatment accessories</th>\n",
       "      <th>Wrong side (laterality)</th>\n",
       "      <th>Wrong prescription dose-fractionation or calculation error</th>\n",
       "      <th>Radiation therapy scheduling error</th>\n",
       "      <th>Treatment not delivered - personnel/hardware/software failure</th>\n",
       "      <th>Wrong patient position, setup point, or shift</th>\n",
       "      <th>Wrong planning margins</th>\n",
       "      <th>Allergic reaction</th>\n",
       "    </tr>\n",
       "  </thead>\n",
       "  <tbody>\n",
       "    <tr>\n",
       "      <th>0</th>\n",
       "      <td>0</td>\n",
       "      <td>0</td>\n",
       "      <td>0</td>\n",
       "      <td>0</td>\n",
       "      <td>0</td>\n",
       "      <td>0</td>\n",
       "      <td>0</td>\n",
       "      <td>0</td>\n",
       "      <td>0</td>\n",
       "      <td>0</td>\n",
       "      <td>...</td>\n",
       "      <td>0</td>\n",
       "      <td>0</td>\n",
       "      <td>1</td>\n",
       "      <td>0</td>\n",
       "      <td>0</td>\n",
       "      <td>0</td>\n",
       "      <td>0</td>\n",
       "      <td>0</td>\n",
       "      <td>0</td>\n",
       "      <td>0</td>\n",
       "    </tr>\n",
       "    <tr>\n",
       "      <th>1</th>\n",
       "      <td>0</td>\n",
       "      <td>0</td>\n",
       "      <td>0</td>\n",
       "      <td>0</td>\n",
       "      <td>0</td>\n",
       "      <td>0</td>\n",
       "      <td>0</td>\n",
       "      <td>0</td>\n",
       "      <td>0</td>\n",
       "      <td>0</td>\n",
       "      <td>...</td>\n",
       "      <td>0</td>\n",
       "      <td>0</td>\n",
       "      <td>0</td>\n",
       "      <td>0</td>\n",
       "      <td>0</td>\n",
       "      <td>1</td>\n",
       "      <td>0</td>\n",
       "      <td>0</td>\n",
       "      <td>0</td>\n",
       "      <td>0</td>\n",
       "    </tr>\n",
       "    <tr>\n",
       "      <th>2</th>\n",
       "      <td>0</td>\n",
       "      <td>0</td>\n",
       "      <td>0</td>\n",
       "      <td>0</td>\n",
       "      <td>0</td>\n",
       "      <td>0</td>\n",
       "      <td>0</td>\n",
       "      <td>0</td>\n",
       "      <td>0</td>\n",
       "      <td>0</td>\n",
       "      <td>...</td>\n",
       "      <td>0</td>\n",
       "      <td>0</td>\n",
       "      <td>0</td>\n",
       "      <td>0</td>\n",
       "      <td>0</td>\n",
       "      <td>1</td>\n",
       "      <td>0</td>\n",
       "      <td>0</td>\n",
       "      <td>0</td>\n",
       "      <td>0</td>\n",
       "    </tr>\n",
       "  </tbody>\n",
       "</table>\n",
       "<p>3 rows × 24 columns</p>\n",
       "</div>"
      ],
      "text/plain": [
       "   Wrong target or OAR contours  \\\n",
       "0                             0   \n",
       "1                             0   \n",
       "2                             0   \n",
       "\n",
       "   Treatment plan acceptable but not physically deliverable  \\\n",
       "0                                                  0          \n",
       "1                                                  0          \n",
       "2                                                  0          \n",
       "\n",
       "   Excess imaging dose   \\\n",
       "0                     0   \n",
       "1                     0   \n",
       "2                     0   \n",
       "\n",
       "   Failure to perform on-treatment imaging as per instructions  Wrong patient  \\\n",
       "0                                                  0                        0   \n",
       "1                                                  0                        0   \n",
       "2                                                  0                        0   \n",
       "\n",
       "   Fall or other patient injury or medical condition  \\\n",
       "0                                                  0   \n",
       "1                                                  0   \n",
       "2                                                  0   \n",
       "\n",
       "   Wrong anatomical site (excluding laterality)  \\\n",
       "0                                             0   \n",
       "1                                             0   \n",
       "2                                             0   \n",
       "\n",
       "   Treatment plan (isodose distribution) unacceptable  \\\n",
       "0                                                  0    \n",
       "1                                                  0    \n",
       "2                                                  0    \n",
       "\n",
       "   Systematic hardware/software (including dose-volume) error  \\\n",
       "0                                                  0            \n",
       "1                                                  0            \n",
       "2                                                  0            \n",
       "\n",
       "   Interventional procedure error (Retired value)        ...          \\\n",
       "0                                               0        ...           \n",
       "1                                               0        ...           \n",
       "2                                               0        ...           \n",
       "\n",
       "   Inappropriate or poorly informed decision to treat or plan  \\\n",
       "0                                                  0            \n",
       "1                                                  0            \n",
       "2                                                  0            \n",
       "\n",
       "   Inadequate coordination of combined modality care  \\\n",
       "0                                                  0   \n",
       "1                                                  0   \n",
       "2                                                  0   \n",
       "\n",
       "   Wrong, missing, mislabeled, or damaged treatment accessories  \\\n",
       "0                                                  1              \n",
       "1                                                  0              \n",
       "2                                                  0              \n",
       "\n",
       "   Wrong side (laterality)  \\\n",
       "0                        0   \n",
       "1                        0   \n",
       "2                        0   \n",
       "\n",
       "   Wrong prescription dose-fractionation or calculation error  \\\n",
       "0                                                  0            \n",
       "1                                                  0            \n",
       "2                                                  0            \n",
       "\n",
       "   Radiation therapy scheduling error  \\\n",
       "0                                   0   \n",
       "1                                   1   \n",
       "2                                   1   \n",
       "\n",
       "   Treatment not delivered - personnel/hardware/software failure  \\\n",
       "0                                                  0               \n",
       "1                                                  0               \n",
       "2                                                  0               \n",
       "\n",
       "   Wrong patient position, setup point, or shift  Wrong planning margins  \\\n",
       "0                                              0                       0   \n",
       "1                                              0                       0   \n",
       "2                                              0                       0   \n",
       "\n",
       "   Allergic reaction  \n",
       "0                  0  \n",
       "1                  0  \n",
       "2                  0  \n",
       "\n",
       "[3 rows x 24 columns]"
      ]
     },
     "execution_count": 33,
     "metadata": {},
     "output_type": "execute_result"
    }
   ],
   "source": [
    "ohe = pandas.read_csv('07 NM PT OHE.csv', delimiter=',', encoding='latin-1').fillna('')\n",
    "ohe[:3]"
   ]
  },
  {
   "cell_type": "code",
   "execution_count": 34,
   "metadata": {},
   "outputs": [],
   "source": [
    "def lowest_correct(trues, preds):\n",
    "    num_of_options = len(trues)\n",
    "    drop_down_options = list(reversed(numpy.argsort(preds)))\n",
    "    correct_options = [i for i in range(num_of_options) if trues[i]==1]\n",
    "    return max([drop_down_options.index(correct_option) for correct_option in correct_options]) + 1\n",
    "def average_lowest_correct(list_of_trues, list_of_preds):\n",
    "    length = len(list_of_trues)\n",
    "    return numpy.mean([lowest_correct(list(list_of_trues.iloc[i]), list(list_of_preds[i])) for i in range(length)])"
   ]
  },
  {
   "cell_type": "code",
   "execution_count": 35,
   "metadata": {},
   "outputs": [],
   "source": [
    "def deadline(timeout, *args):\n",
    "    def decorate(f):\n",
    "        def handler(signum, frame):\n",
    "            raise Exception\n",
    "\n",
    "        def new_f(*args):\n",
    "            signal.signal(signal.SIGALRM, handler)\n",
    "            signal.alarm(timeout)\n",
    "            return f(*args)\n",
    "            signal.alarm(0)\n",
    "\n",
    "        new_f.__name__ = f.__name__\n",
    "        return new_f\n",
    "    return decorate"
   ]
  },
  {
   "cell_type": "code",
   "execution_count": 36,
   "metadata": {},
   "outputs": [],
   "source": [
    "def cmp(dataframe, column):\n",
    "    cmp = (dataframe.groupby(column)[dataframe.columns[0]].count()/len(dataframe)*100).round(2).sort_values(ascending=False)\n",
    "    return cmp"
   ]
  },
  {
   "cell_type": "code",
   "execution_count": 37,
   "metadata": {},
   "outputs": [],
   "source": [
    "def lowest_correct(trues, preds):\n",
    "    num_of_options = len(trues)\n",
    "    drop_down_options = list(reversed(numpy.argsort(preds)))\n",
    "    correct_options = [i for i in range(num_of_options) if trues[i]==1]\n",
    "    return max([drop_down_options.index(correct_option) for correct_option in correct_options]) + 1\n",
    "def average_lowest_correct(list_of_trues, list_of_preds):\n",
    "    length = len(list_of_trues)\n",
    "    return numpy.mean([lowest_correct(list(list_of_trues.iloc[i]), list(list_of_preds[i])) for i in range(length)])"
   ]
  },
  {
   "cell_type": "code",
   "execution_count": 38,
   "metadata": {},
   "outputs": [],
   "source": [
    "def deadline(timeout, *args):\n",
    "    def decorate(f):\n",
    "        def handler(signum, frame):\n",
    "            raise Exception\n",
    "\n",
    "        def new_f(*args):\n",
    "            signal.signal(signal.SIGALRM, handler)\n",
    "            signal.alarm(timeout)\n",
    "            return f(*args)\n",
    "            signal.alarm(0)\n",
    "\n",
    "        new_f.__name__ = f.__name__\n",
    "        return new_f\n",
    "    return decorate"
   ]
  },
  {
   "cell_type": "code",
   "execution_count": 39,
   "metadata": {},
   "outputs": [],
   "source": [
    "@deadline(500)\n",
    "def cv_ensemble(model, xs, ys):\n",
    "    temp = cross_validate(model, xs, ys, return_train_score=True, scoring=make_scorer(average_lowest_correct), n_jobs=1, cv=2, verbose=2)\n",
    "    return numpy.mean(temp['test_score']).round(2)"
   ]
  },
  {
   "cell_type": "code",
   "execution_count": 40,
   "metadata": {},
   "outputs": [
    {
     "data": {
      "text/html": [
       "<div>\n",
       "<style scoped>\n",
       "    .dataframe tbody tr th:only-of-type {\n",
       "        vertical-align: middle;\n",
       "    }\n",
       "\n",
       "    .dataframe tbody tr th {\n",
       "        vertical-align: top;\n",
       "    }\n",
       "\n",
       "    .dataframe thead th {\n",
       "        text-align: right;\n",
       "    }\n",
       "</style>\n",
       "<table border=\"1\" class=\"dataframe\">\n",
       "  <thead>\n",
       "    <tr style=\"text-align: right;\">\n",
       "      <th></th>\n",
       "      <th>ID</th>\n",
       "      <th>Process Step</th>\n",
       "      <th>Problem Type</th>\n",
       "      <th>Contributing Factors</th>\n",
       "      <th>Overall Severity</th>\n",
       "      <th>Incident Description</th>\n",
       "      <th>Language</th>\n",
       "      <th>Translated</th>\n",
       "      <th>Neat Cleaned</th>\n",
       "      <th>Bony Cleaned</th>\n",
       "    </tr>\n",
       "  </thead>\n",
       "  <tbody>\n",
       "    <tr>\n",
       "      <th>0</th>\n",
       "      <td>2511</td>\n",
       "      <td>Treatment delivery</td>\n",
       "      <td>Wrong, missing, mislabeled, or damaged treatme...</td>\n",
       "      <td>Distraction or diversions involving staff</td>\n",
       "      <td>None</td>\n",
       "      <td>Non prescribed bolus . Bolus was not prescribe...</td>\n",
       "      <td>En</td>\n",
       "      <td>Non prescribed bolus . Bolus was not prescribe...</td>\n",
       "      <td>non prescribed bolus . bolus was not prescribe...</td>\n",
       "      <td>non prescribe bolus bolus prescribe md pt rece...</td>\n",
       "    </tr>\n",
       "  </tbody>\n",
       "</table>\n",
       "</div>"
      ],
      "text/plain": [
       "     ID        Process Step  \\\n",
       "0  2511  Treatment delivery   \n",
       "\n",
       "                                        Problem Type  \\\n",
       "0  Wrong, missing, mislabeled, or damaged treatme...   \n",
       "\n",
       "                        Contributing Factors Overall Severity  \\\n",
       "0  Distraction or diversions involving staff             None   \n",
       "\n",
       "                                Incident Description Language  \\\n",
       "0  Non prescribed bolus . Bolus was not prescribe...       En   \n",
       "\n",
       "                                          Translated  \\\n",
       "0  Non prescribed bolus . Bolus was not prescribe...   \n",
       "\n",
       "                                        Neat Cleaned  \\\n",
       "0  non prescribed bolus . bolus was not prescribe...   \n",
       "\n",
       "                                        Bony Cleaned  \n",
       "0  non prescribe bolus bolus prescribe md pt rece...  "
      ]
     },
     "execution_count": 40,
     "metadata": {},
     "output_type": "execute_result"
    }
   ],
   "source": [
    "cmb = pandas.read_csv('05 Combined Cleaned.csv', delimiter=',', encoding='latin-1').fillna('')\n",
    "cmb = cmb[cmb['Problem Type']!='']\n",
    "cmb[:1]"
   ]
  },
  {
   "cell_type": "code",
   "execution_count": 41,
   "metadata": {},
   "outputs": [
    {
     "data": {
      "text/plain": [
       "Problem Type\n",
       "Wrong patient position, setup point, or shift                     25.76\n",
       "Radiation therapy scheduling error                                17.70\n",
       "Wrong, missing, mislabeled, or damaged treatment accessories      16.38\n",
       "Excess imaging dose                                                5.62\n",
       "Systematic hardware/software (including dose-volume) error         5.19\n",
       "Wrong target or OAR contours or wrong planning (Retired Value)     4.13\n",
       "Wrong prescription dose-fractionation or calculation error         3.07\n",
       "Failure to perform on-treatment imaging as per instructions        2.70\n",
       "Inadequate coordination of combined modality care                  2.28\n",
       "Wrong anatomical site (excluding laterality)                       2.23\n",
       "Wrong patient                                                      2.12\n",
       "Wrong side (laterality)                                            2.07\n",
       "Fall or other patient injury or medical condition                  2.01\n",
       "Wrong target or OAR contours                                       1.59\n",
       "Treatment plan acceptable but not physically deliverable           1.27\n",
       "Untimely access to medical care or radiotherapy                    1.27\n",
       "Wrong plan dose (Retired value)                                    1.17\n",
       "Interventional procedure error (Retired value)                     0.95\n",
       "Inappropriate or poorly informed decision to treat or plan         0.79\n",
       "Treatment not delivered - personnel/hardware/software failure      0.64\n",
       "Treatment plan (isodose distribution) unacceptable                 0.53\n",
       "Wrong planning margins                                             0.26\n",
       "Infection                                                          0.21\n",
       "Allergic reaction                                                  0.05\n",
       "Name: ID, dtype: float64"
      ]
     },
     "execution_count": 41,
     "metadata": {},
     "output_type": "execute_result"
    }
   ],
   "source": [
    "def cmp(dataframe, column):\n",
    "    cmp = (dataframe.groupby(column)[dataframe.columns[0]].count()/len(dataframe)*100).round(2).sort_values(ascending=False)\n",
    "    return cmp\n",
    "cmp = cmp(cmb, 'Problem Type')\n",
    "cmp"
   ]
  },
  {
   "cell_type": "code",
   "execution_count": 42,
   "metadata": {},
   "outputs": [
    {
     "data": {
      "text/plain": [
       "Index(['Wrong target or OAR contours',\n",
       "       'Treatment plan acceptable but not physically deliverable',\n",
       "       'Excess imaging dose ',\n",
       "       'Failure to perform on-treatment imaging as per instructions',\n",
       "       'Wrong patient', 'Fall or other patient injury or medical condition',\n",
       "       'Wrong anatomical site (excluding laterality)',\n",
       "       'Treatment plan (isodose distribution) unacceptable',\n",
       "       'Systematic hardware/software (including dose-volume) error',\n",
       "       'Interventional procedure error (Retired value)',\n",
       "       'Untimely access to medical care or radiotherapy',\n",
       "       'Wrong target or OAR contours or wrong planning (Retired Value)',\n",
       "       'Infection', 'Wrong plan dose (Retired value)',\n",
       "       'Inappropriate or poorly informed decision to treat or plan',\n",
       "       'Inadequate coordination of combined modality care',\n",
       "       'Wrong, missing, mislabeled, or damaged treatment accessories',\n",
       "       'Wrong side (laterality)',\n",
       "       'Wrong prescription dose-fractionation or calculation error',\n",
       "       'Radiation therapy scheduling error',\n",
       "       'Treatment not delivered - personnel/hardware/software failure',\n",
       "       'Wrong patient position, setup point, or shift',\n",
       "       'Wrong planning margins', 'Allergic reaction'],\n",
       "      dtype='object')"
      ]
     },
     "execution_count": 42,
     "metadata": {},
     "output_type": "execute_result"
    }
   ],
   "source": [
    "ohe.columns"
   ]
  },
  {
   "cell_type": "code",
   "execution_count": 43,
   "metadata": {},
   "outputs": [
    {
     "name": "stdout",
     "output_type": "stream",
     "text": [
      "[21, 19, 16, 2, 8, 11, 18, 3, 15, 6, 4, 17, 5, 0, 1, 10, 13, 9, 14, 20, 7, 22, 12, 23]\n"
     ]
    }
   ],
   "source": [
    "ordr = [list(ohe.columns).index(list(cmp.index)[i]) for i in range(len(cmp))]\n",
    "print(ordr)"
   ]
  },
  {
   "cell_type": "code",
   "execution_count": 44,
   "metadata": {},
   "outputs": [],
   "source": [
    "rdg = Ridge(alpha=10, fit_intercept=True, max_iter=3000, normalize=False, solver='saga')"
   ]
  },
  {
   "cell_type": "code",
   "execution_count": 45,
   "metadata": {},
   "outputs": [],
   "source": [
    "lsv = LinearSVR(C=0.2, dual=False, epsilon=0.2, fit_intercept=True, loss='squared_epsilon_insensitive', max_iter=1000, tol=0.01)"
   ]
  },
  {
   "cell_type": "code",
   "execution_count": 46,
   "metadata": {},
   "outputs": [],
   "source": [
    "pag = PassiveAggressiveRegressor(C=0.1, average=True, epsilon=0.1, fit_intercept=True, max_iter=4, loss='squared_epsilon_insensitive', tol=0.00001)"
   ]
  },
  {
   "cell_type": "code",
   "execution_count": 47,
   "metadata": {},
   "outputs": [],
   "source": [
    "rfr = RandomForestRegressor(max_features='log2', bootstrap=True, oob_score=True, min_samples_leaf=2, min_samples_split=2, min_weight_fraction_leaf=0)"
   ]
  },
  {
   "cell_type": "code",
   "execution_count": 48,
   "metadata": {},
   "outputs": [],
   "source": [
    "mdls = [rdg, lsv, pag, rfr]"
   ]
  },
  {
   "cell_type": "code",
   "execution_count": 49,
   "metadata": {},
   "outputs": [
    {
     "name": "stdout",
     "output_type": "stream",
     "text": [
      "[CV]  ................................................................\n",
      "[CV] ................................................. , total=   6.8s\n",
      "[CV]  ................................................................\n"
     ]
    },
    {
     "name": "stderr",
     "output_type": "stream",
     "text": [
      "[Parallel(n_jobs=1)]: Done   1 out of   1 | elapsed:    7.0s remaining:    0.0s\n"
     ]
    },
    {
     "name": "stdout",
     "output_type": "stream",
     "text": [
      "[CV] ................................................. , total=   6.5s\n",
      "MultiOutputRegressor Ridge(alpha=10, copy_X=True, fit_intercept=True, max_iter=3000,\n",
      "   normalize=False, random_state=None, solver='saga', tol=0.001) 2.97\n",
      "[CV]  ................................................................\n"
     ]
    },
    {
     "name": "stderr",
     "output_type": "stream",
     "text": [
      "[Parallel(n_jobs=1)]: Done   2 out of   2 | elapsed:   13.8s finished\n"
     ]
    },
    {
     "name": "stdout",
     "output_type": "stream",
     "text": [
      "[CV]  ................................................................\n",
      "[CV]  ................................................................\n",
      "[CV] ................................................. , total=   0.8s\n",
      "[CV]  ................................................................\n"
     ]
    },
    {
     "name": "stderr",
     "output_type": "stream",
     "text": [
      "[Parallel(n_jobs=1)]: Done   1 out of   1 | elapsed:    1.0s remaining:    0.0s\n"
     ]
    },
    {
     "name": "stdout",
     "output_type": "stream",
     "text": [
      "[CV] ................................................. , total=   0.5s\n",
      "MultiOutputRegressor LinearSVR(C=0.2, dual=False, epsilon=0.2, fit_intercept=True,\n",
      "     intercept_scaling=1.0, loss='squared_epsilon_insensitive',\n",
      "     max_iter=1000, random_state=None, tol=0.01, verbose=0) 2.76\n",
      "[CV]  ................................................................\n",
      "[CV]  ................................................................\n",
      "[CV]  ................................................................\n"
     ]
    },
    {
     "name": "stderr",
     "output_type": "stream",
     "text": [
      "[Parallel(n_jobs=1)]: Done   2 out of   2 | elapsed:    1.7s finished\n"
     ]
    },
    {
     "name": "stdout",
     "output_type": "stream",
     "text": [
      "[CV] ................................................. , total=   1.4s\n",
      "[CV]  ................................................................\n"
     ]
    },
    {
     "name": "stderr",
     "output_type": "stream",
     "text": [
      "[Parallel(n_jobs=1)]: Done   1 out of   1 | elapsed:    1.6s remaining:    0.0s\n"
     ]
    },
    {
     "name": "stdout",
     "output_type": "stream",
     "text": [
      "[CV] ................................................. , total=   1.3s\n",
      "MultiOutputRegressor PassiveAggressiveRegressor(C=0.1, average=True, epsilon=0.1,\n",
      "              fit_intercept=True, loss='squared_epsilon_insensitive',\n",
      "              max_iter=4, n_iter=None, random_state=None, shuffle=True,\n",
      "              tol=1e-05, verbose=0, warm_start=False) 2.75\n",
      "[CV]  ................................................................\n",
      "[CV]  ................................................................\n",
      "[CV]  ................................................................\n"
     ]
    },
    {
     "name": "stderr",
     "output_type": "stream",
     "text": [
      "[Parallel(n_jobs=1)]: Done   2 out of   2 | elapsed:    3.1s finished\n"
     ]
    },
    {
     "name": "stdout",
     "output_type": "stream",
     "text": [
      "[CV] ................................................. , total=   2.2s\n",
      "[CV]  ................................................................\n"
     ]
    },
    {
     "name": "stderr",
     "output_type": "stream",
     "text": [
      "[Parallel(n_jobs=1)]: Done   1 out of   1 | elapsed:    2.5s remaining:    0.0s\n"
     ]
    },
    {
     "name": "stdout",
     "output_type": "stream",
     "text": [
      "[CV] ................................................. , total=   1.9s\n",
      "MultiOutputRegressor RandomForestRegressor(bootstrap=True, criterion='mse', max_depth=None,\n",
      "           max_features='log2', max_leaf_nodes=None,\n",
      "           min_impurity_decrease=0.0, min_impurity_split=None,\n",
      "           min_samples_leaf=2, min_samples_split=2,\n",
      "           min_weight_fraction_leaf=0, n_estimators=10, n_jobs=1,\n",
      "           oob_score=True, random_state=None, verbose=0, warm_start=False) 3.5\n",
      "[CV]  ................................................................\n",
      "[CV]  ................................................................\n"
     ]
    },
    {
     "name": "stderr",
     "output_type": "stream",
     "text": [
      "[Parallel(n_jobs=1)]: Done   2 out of   2 | elapsed:    4.6s finished\n"
     ]
    }
   ],
   "source": [
    "for mdl in mdls:\n",
    "    try:\n",
    "        print('MultiOutputRegressor', mdl, cv_ensemble(MultiOutputRegressor(mdl), tfidf, ohe))\n",
    "    except:\n",
    "        pass\n",
    "    \n",
    "    try:\n",
    "        print('ClassifierChain >', mdl, cv_ensemble(ClassifierChain(mdl, order=ordr), tfidf, ohe))\n",
    "    except:\n",
    "        pass\n",
    "    \n",
    "    try:\n",
    "        print('ClassifierChain <', mdl, cv_ensemble(ClassifierChain(mdl, order=list(reversed(ordr))), tfidf, ohe))\n",
    "    except:\n",
    "        pass"
   ]
  },
  {
   "cell_type": "code",
   "execution_count": 50,
   "metadata": {},
   "outputs": [],
   "source": [
    "# ClassifierChain is incompetaible."
   ]
  }
 ],
 "metadata": {
  "kernelspec": {
   "display_name": "Python 3",
   "language": "python",
   "name": "python3"
  },
  "language_info": {
   "codemirror_mode": {
    "name": "ipython",
    "version": 3
   },
   "file_extension": ".py",
   "mimetype": "text/x-python",
   "name": "python",
   "nbconvert_exporter": "python",
   "pygments_lexer": "ipython3",
   "version": "3.6.4"
  }
 },
 "nbformat": 4,
 "nbformat_minor": 2
}

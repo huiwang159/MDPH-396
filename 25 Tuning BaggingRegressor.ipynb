{
 "cells": [
  {
   "cell_type": "markdown",
   "metadata": {},
   "source": [
    "# Tuning BaggingRegressor"
   ]
  },
  {
   "cell_type": "code",
   "execution_count": 1,
   "metadata": {},
   "outputs": [],
   "source": [
    "import numpy\n",
    "import csv\n",
    "import time\n",
    "import pandas\n",
    "import signal\n",
    "import warnings\n",
    "warnings.filterwarnings(\"ignore\")"
   ]
  },
  {
   "cell_type": "code",
   "execution_count": 2,
   "metadata": {},
   "outputs": [],
   "source": [
    "from sklearn.metrics import make_scorer\n",
    "from sklearn.model_selection import GridSearchCV\n",
    "from sklearn.model_selection import cross_validate\n",
    "from sklearn.pipeline import Pipeline"
   ]
  },
  {
   "cell_type": "code",
   "execution_count": 3,
   "metadata": {},
   "outputs": [],
   "source": [
    "from sklearn.multioutput import ClassifierChain\n",
    "from sklearn.multioutput import MultiOutputRegressor\n",
    "from sklearn.multioutput import MultiOutputClassifier\n",
    "\n",
    "from sklearn.ensemble.weight_boosting import AdaBoostClassifier\n",
    "from sklearn.ensemble.weight_boosting import AdaBoostRegressor\n",
    "from sklearn.ensemble.bagging import BaggingClassifier\n",
    "from sklearn.ensemble.bagging import BaggingRegressor\n",
    "from sklearn.ensemble.forest import ExtraTreesClassifier\n",
    "from sklearn.ensemble.forest import ExtraTreesRegressor\n",
    "from sklearn.ensemble.gradient_boosting import GradientBoostingClassifier\n",
    "from sklearn.ensemble.gradient_boosting import GradientBoostingRegressor\n",
    "from sklearn.ensemble.forest import RandomForestClassifier\n",
    "from sklearn.ensemble.forest import RandomForestRegressor\n",
    "\n",
    "from sklearn.linear_model.bayes import ARDRegression\n",
    "from sklearn.linear_model.bayes import BayesianRidge\n",
    "from sklearn.naive_bayes import BernoulliNB\n",
    "from sklearn.cross_decomposition.cca_ import CCA\n",
    "from sklearn.tree.tree import DecisionTreeClassifier\n",
    "from sklearn.tree.tree import DecisionTreeRegressor\n",
    "from sklearn.linear_model.coordinate_descent import ElasticNet\n",
    "from sklearn.tree.tree import ExtraTreeClassifier\n",
    "from sklearn.tree.tree import ExtraTreeRegressor\n",
    "from sklearn.naive_bayes import GaussianNB\n",
    "from sklearn.gaussian_process.gpc import GaussianProcessClassifier\n",
    "from sklearn.gaussian_process.gpr import GaussianProcessRegressor\n",
    "from sklearn.linear_model.huber import HuberRegressor\n",
    "from sklearn.neighbors.classification import KNeighborsClassifier\n",
    "from sklearn.neighbors.regression import KNeighborsRegressor\n",
    "from sklearn.kernel_ridge import KernelRidge\n",
    "from sklearn.semi_supervised.label_propagation import LabelPropagation\n",
    "from sklearn.semi_supervised.label_propagation import LabelSpreading\n",
    "from sklearn.linear_model.least_angle import Lars\n",
    "from sklearn.linear_model.coordinate_descent import Lasso\n",
    "from sklearn.linear_model.least_angle import LassoLars\n",
    "from sklearn.linear_model.least_angle import LassoLarsIC\n",
    "from sklearn.discriminant_analysis import LinearDiscriminantAnalysis\n",
    "from sklearn.linear_model.base import LinearRegression\n",
    "from sklearn.svm.classes import LinearSVC\n",
    "from sklearn.svm.classes import LinearSVR\n",
    "from sklearn.linear_model.logistic import LogisticRegression\n",
    "from sklearn.neural_network.multilayer_perceptron import MLPClassifier\n",
    "from sklearn.neural_network.multilayer_perceptron import MLPRegressor\n",
    "from sklearn.linear_model.coordinate_descent import MultiTaskElasticNet\n",
    "from sklearn.linear_model.coordinate_descent import MultiTaskLasso\n",
    "from sklearn.naive_bayes import MultinomialNB\n",
    "from sklearn.neighbors.nearest_centroid import NearestCentroid\n",
    "from sklearn.svm.classes import NuSVC\n",
    "from sklearn.svm.classes import NuSVR\n",
    "from sklearn.linear_model.omp import OrthogonalMatchingPursuit\n",
    "from sklearn.cross_decomposition.pls_ import PLSCanonical\n",
    "from sklearn.cross_decomposition.pls_ import PLSRegression\n",
    "from sklearn.linear_model.passive_aggressive import PassiveAggressiveClassifier\n",
    "from sklearn.linear_model.passive_aggressive import PassiveAggressiveRegressor\n",
    "from sklearn.linear_model.perceptron import Perceptron\n",
    "from sklearn.discriminant_analysis import QuadraticDiscriminantAnalysis\n",
    "from sklearn.linear_model.ransac import RANSACRegressor\n",
    "from sklearn.neighbors.classification import RadiusNeighborsClassifier\n",
    "from sklearn.neighbors.regression import RadiusNeighborsRegressor\n",
    "from sklearn.linear_model.ridge import Ridge\n",
    "from sklearn.linear_model.ridge import RidgeClassifier\n",
    "from sklearn.linear_model.stochastic_gradient import SGDClassifier\n",
    "from sklearn.linear_model.stochastic_gradient import SGDRegressor\n",
    "from sklearn.svm.classes import SVC\n",
    "from sklearn.svm.classes import SVR\n",
    "from sklearn.linear_model.theil_sen import TheilSenRegressor"
   ]
  },
  {
   "cell_type": "markdown",
   "metadata": {},
   "source": [
    "## Problem Type"
   ]
  },
  {
   "cell_type": "code",
   "execution_count": null,
   "metadata": {},
   "outputs": [],
   "source": [
    "tfidf = pandas.read_csv('07 NM PT TFIDF.csv', delimiter=',', encoding='latin-1').fillna('')\n",
    "tfidf[:3]"
   ]
  },
  {
   "cell_type": "code",
   "execution_count": null,
   "metadata": {},
   "outputs": [],
   "source": [
    "ohe = pandas.read_csv('07 NM PT OHE.csv', delimiter=',', encoding='latin-1').fillna('')\n",
    "ohe[:3]"
   ]
  },
  {
   "cell_type": "code",
   "execution_count": 6,
   "metadata": {},
   "outputs": [],
   "source": [
    "def lowest_correct(trues, preds):\n",
    "    num_of_options = len(trues)\n",
    "    drop_down_options = list(reversed(numpy.argsort(preds)))\n",
    "    correct_options = [i for i in range(num_of_options) if trues[i]==1]\n",
    "    return max([drop_down_options.index(correct_option) for correct_option in correct_options]) + 1\n",
    "def average_lowest_correct(list_of_trues, list_of_preds):\n",
    "    length = len(list_of_trues)\n",
    "    return numpy.mean([lowest_correct(list(list_of_trues.iloc[i]), list(list_of_preds[i])) for i in range(length)])"
   ]
  },
  {
   "cell_type": "markdown",
   "metadata": {},
   "source": [
    "## Default"
   ]
  },
  {
   "cell_type": "code",
   "execution_count": 7,
   "metadata": {},
   "outputs": [],
   "source": [
    "def deadline(timeout, *args):\n",
    "    def decorate(f):\n",
    "        def handler(signum, frame):\n",
    "            raise Exception\n",
    "\n",
    "        def new_f(*args):\n",
    "            signal.signal(signal.SIGALRM, handler)\n",
    "            signal.alarm(timeout)\n",
    "            return f(*args)\n",
    "            signal.alarm(0)\n",
    "\n",
    "        new_f.__name__ = f.__name__\n",
    "        return new_f\n",
    "    return decorate"
   ]
  },
  {
   "cell_type": "code",
   "execution_count": 8,
   "metadata": {},
   "outputs": [],
   "source": [
    "@deadline(500)\n",
    "def cv_ensemble(model, xs, ys):\n",
    "    temp = cross_validate(model, xs, ys, return_train_score=True, scoring=make_scorer(average_lowest_correct), n_jobs=1, cv=2)\n",
    "    return numpy.mean(temp['test_score']).round(2)"
   ]
  },
  {
   "cell_type": "code",
   "execution_count": 9,
   "metadata": {},
   "outputs": [],
   "source": [
    "bss = [Ridge, LinearSVR, PassiveAggressiveRegressor]"
   ]
  },
  {
   "cell_type": "code",
   "execution_count": 27,
   "metadata": {},
   "outputs": [
    {
     "name": "stdout",
     "output_type": "stream",
     "text": [
      "2.97\n",
      "3.92\n",
      "3.43\n"
     ]
    }
   ],
   "source": [
    "for bs in bss:\n",
    "    print(cv_ensemble(MultiOutputRegressor(BaggingRegressor(bs())), tfidf, ohe))"
   ]
  },
  {
   "cell_type": "markdown",
   "metadata": {},
   "source": [
    "## Grid Search"
   ]
  },
  {
   "cell_type": "code",
   "execution_count": 10,
   "metadata": {},
   "outputs": [],
   "source": [
    "def prn_rsl(gsc):\n",
    "    prms = gsc.cv_results_['params']\n",
    "    tsts = (gsc.cv_results_['split0_test_score']+gsc.cv_results_['split1_test_score'])/2\n",
    "    for i in numpy.argsort(tsts):\n",
    "        print(prms[i], tsts[i])"
   ]
  },
  {
   "cell_type": "code",
   "execution_count": 11,
   "metadata": {},
   "outputs": [],
   "source": [
    "bss = [Ridge(alpha=10, fit_intercept=True, max_iter=3000, normalize=False, solver='saga'), \n",
    "       LinearSVR(C=0.2, dual=False, epsilon=0.2, fit_intercept=True, loss='squared_epsilon_insensitive', max_iter=1000, tol=0.01),\n",
    "       PassiveAggressiveRegressor(C=0.1, average=True, epsilon=0.1, fit_intercept=True, max_iter=4, loss='squared_epsilon_insensitive', tol=0.00001)]"
   ]
  },
  {
   "cell_type": "code",
   "execution_count": 12,
   "metadata": {},
   "outputs": [
    {
     "name": "stdout",
     "output_type": "stream",
     "text": [
      "Fitting 2 folds for each of 5 candidates, totalling 10 fits\n",
      "[CV] me__estimator__n_estimators=2 ...................................\n",
      "[CV] me__estimator__n_estimators=2 ...................................\n",
      "[CV] me__estimator__n_estimators=4 ...................................\n",
      "[CV] me__estimator__n_estimators=4 ...................................\n",
      "[CV] .................... me__estimator__n_estimators=2, total= 2.2min\n",
      "[CV] me__estimator__n_estimators=6 ...................................\n",
      "[CV] .................... me__estimator__n_estimators=2, total= 2.3min\n",
      "[CV] me__estimator__n_estimators=6 ...................................\n",
      "[CV] .................... me__estimator__n_estimators=4, total= 4.7min\n",
      "[CV] me__estimator__n_estimators=8 ...................................\n",
      "[CV] .................... me__estimator__n_estimators=4, total= 7.4min\n",
      "[CV] me__estimator__n_estimators=8 ...................................\n",
      "[CV] .................... me__estimator__n_estimators=6, total=11.1min\n",
      "[CV] me__estimator__n_estimators=10 ..................................\n",
      "[CV] .................... me__estimator__n_estimators=8, total=10.2min\n",
      "[CV] me__estimator__n_estimators=10 ..................................\n",
      "[CV] .................... me__estimator__n_estimators=6, total=12.8min\n",
      "[CV] .................... me__estimator__n_estimators=8, total= 9.9min\n",
      "[CV] ................... me__estimator__n_estimators=10, total= 6.2min\n",
      "[CV] ................... me__estimator__n_estimators=10, total= 9.3min\n"
     ]
    },
    {
     "name": "stderr",
     "output_type": "stream",
     "text": [
      "[Parallel(n_jobs=-1)]: Done  10 out of  10 | elapsed: 24.2min finished\n"
     ]
    },
    {
     "name": "stdout",
     "output_type": "stream",
     "text": [
      "{'me__estimator__n_estimators': 2} 3.423590641120118\n",
      "{'me__estimator__n_estimators': 4} 5.777840623146467\n",
      "{'me__estimator__n_estimators': 8} 5.842315478009239\n",
      "{'me__estimator__n_estimators': 6} 6.573059519744055\n",
      "{'me__estimator__n_estimators': 10} 8.739986991570358\n"
     ]
    }
   ],
   "source": [
    "ppl = Pipeline([('me', MultiOutputRegressor(BaggingRegressor(bss[0])))])\n",
    "grd = {\n",
    "    'me__estimator__n_estimators': [i for i in range(2, 12, 2)]\n",
    "}\n",
    "gsc = GridSearchCV(estimator=ppl, param_grid=grd, scoring=make_scorer(average_lowest_correct), n_jobs=-1, cv=2, verbose=2, error_score=0)\n",
    "gsc.fit(tfidf, ohe)\n",
    "prn_rsl(gsc)"
   ]
  },
  {
   "cell_type": "code",
   "execution_count": 100,
   "metadata": {},
   "outputs": [
    {
     "name": "stdout",
     "output_type": "stream",
     "text": [
      "Fitting 2 folds for each of 5 candidates, totalling 10 fits\n",
      "[CV] me__estimator__max_samples=0.2, me__estimator__n_estimators=2 ...\n",
      "[CV] me__estimator__max_samples=0.2, me__estimator__n_estimators=2 ...\n",
      "[CV] me__estimator__max_samples=0.4, me__estimator__n_estimators=2 ...\n",
      "[CV] me__estimator__max_samples=0.4, me__estimator__n_estimators=2 ...\n",
      "[CV]  me__estimator__max_samples=0.2, me__estimator__n_estimators=2, total=  17.7s\n",
      "[CV] me__estimator__max_samples=0.6000000000000001, me__estimator__n_estimators=2 \n",
      "[CV]  me__estimator__max_samples=0.2, me__estimator__n_estimators=2, total=  18.5s\n",
      "[CV] me__estimator__max_samples=0.6000000000000001, me__estimator__n_estimators=2 \n",
      "[CV]  me__estimator__max_samples=0.4, me__estimator__n_estimators=2, total=  21.4s\n",
      "[CV]  me__estimator__max_samples=0.4, me__estimator__n_estimators=2, total=  21.3s\n",
      "[CV] me__estimator__max_samples=0.8, me__estimator__n_estimators=2 ...\n",
      "[CV] me__estimator__max_samples=0.8, me__estimator__n_estimators=2 ...\n",
      "[CV]  me__estimator__max_samples=0.6000000000000001, me__estimator__n_estimators=2, total=  26.2s\n",
      "[CV] me__estimator__max_samples=1.0, me__estimator__n_estimators=2 ...\n",
      "[CV]  me__estimator__max_samples=0.6000000000000001, me__estimator__n_estimators=2, total=  26.0s\n",
      "[CV] me__estimator__max_samples=1.0, me__estimator__n_estimators=2 ...\n",
      "[CV]  me__estimator__max_samples=0.8, me__estimator__n_estimators=2, total= 2.0min\n",
      "[CV]  me__estimator__max_samples=0.8, me__estimator__n_estimators=2, total= 2.0min\n",
      "[CV]  me__estimator__max_samples=1.0, me__estimator__n_estimators=2, total= 2.0min\n",
      "[CV]  me__estimator__max_samples=1.0, me__estimator__n_estimators=2, total= 2.3min\n"
     ]
    },
    {
     "name": "stderr",
     "output_type": "stream",
     "text": [
      "[Parallel(n_jobs=-1)]: Done  10 out of  10 | elapsed:  3.0min finished\n"
     ]
    },
    {
     "name": "stdout",
     "output_type": "stream",
     "text": [
      "{'me__estimator__max_samples': 0.6000000000000001, 'me__estimator__n_estimators': 2} 3.3286560652084045\n",
      "{'me__estimator__max_samples': 0.8, 'me__estimator__n_estimators': 2} 3.605194722037493\n",
      "{'me__estimator__max_samples': 0.4, 'me__estimator__n_estimators': 2} 3.6063691877707282\n",
      "{'me__estimator__max_samples': 1.0, 'me__estimator__n_estimators': 2} 3.623963706705969\n",
      "{'me__estimator__max_samples': 0.2, 'me__estimator__n_estimators': 2} 4.111383836295991\n"
     ]
    }
   ],
   "source": [
    "ppl = Pipeline([('me', MultiOutputRegressor(BaggingRegressor(bss[0])))])\n",
    "grd = {\n",
    "    'me__estimator__n_estimators': [2],\n",
    "    'me__estimator__max_samples': numpy.linspace(0.2, 1.0, 5),\n",
    "#     'me__estimator__max_features': numpy.linspace(0.2, 1.0, 5),\n",
    "}\n",
    "gsc = GridSearchCV(estimator=ppl, param_grid=grd, scoring=make_scorer(average_lowest_correct), n_jobs=-1, cv=2, verbose=2, error_score=0)\n",
    "gsc.fit(tfidf, ohe)\n",
    "prn_rsl(gsc)"
   ]
  },
  {
   "cell_type": "code",
   "execution_count": 12,
   "metadata": {},
   "outputs": [
    {
     "name": "stdout",
     "output_type": "stream",
     "text": [
      "Fitting 2 folds for each of 5 candidates, totalling 10 fits\n",
      "[CV] me__estimator__max_features=0.2, me__estimator__max_samples=0.6, me__estimator__n_estimators=2 \n",
      "[CV] me__estimator__max_features=0.2, me__estimator__max_samples=0.6, me__estimator__n_estimators=2 \n",
      "[CV] me__estimator__max_features=0.4, me__estimator__max_samples=0.6, me__estimator__n_estimators=2 \n",
      "[CV] me__estimator__max_features=0.4, me__estimator__max_samples=0.6, me__estimator__n_estimators=2 \n",
      "[CV]  me__estimator__max_features=0.2, me__estimator__max_samples=0.6, me__estimator__n_estimators=2, total=   3.9s\n",
      "[CV] me__estimator__max_features=0.6000000000000001, me__estimator__max_samples=0.6, me__estimator__n_estimators=2 \n",
      "[CV]  me__estimator__max_features=0.2, me__estimator__max_samples=0.6, me__estimator__n_estimators=2, total=   4.0s\n",
      "[CV] me__estimator__max_features=0.6000000000000001, me__estimator__max_samples=0.6, me__estimator__n_estimators=2 \n",
      "[CV]  me__estimator__max_features=0.4, me__estimator__max_samples=0.6, me__estimator__n_estimators=2, total=   7.8s\n",
      "[CV] me__estimator__max_features=0.8, me__estimator__max_samples=0.6, me__estimator__n_estimators=2 \n",
      "[CV]  me__estimator__max_features=0.4, me__estimator__max_samples=0.6, me__estimator__n_estimators=2, total=   8.0s\n",
      "[CV] me__estimator__max_features=0.8, me__estimator__max_samples=0.6, me__estimator__n_estimators=2 \n",
      "[CV]  me__estimator__max_features=0.6000000000000001, me__estimator__max_samples=0.6, me__estimator__n_estimators=2, total=  12.2s\n",
      "[CV] me__estimator__max_features=1.0, me__estimator__max_samples=0.6, me__estimator__n_estimators=2 \n",
      "[CV]  me__estimator__max_features=0.6000000000000001, me__estimator__max_samples=0.6, me__estimator__n_estimators=2, total=  13.4s\n",
      "[CV] me__estimator__max_features=1.0, me__estimator__max_samples=0.6, me__estimator__n_estimators=2 \n",
      "[CV]  me__estimator__max_features=0.8, me__estimator__max_samples=0.6, me__estimator__n_estimators=2, total=  18.3s\n",
      "[CV]  me__estimator__max_features=0.8, me__estimator__max_samples=0.6, me__estimator__n_estimators=2, total=  19.4s\n",
      "[CV]  me__estimator__max_features=1.0, me__estimator__max_samples=0.6, me__estimator__n_estimators=2, total=  19.4s\n",
      "[CV]  me__estimator__max_features=1.0, me__estimator__max_samples=0.6, me__estimator__n_estimators=2, total=  20.4s\n"
     ]
    },
    {
     "name": "stderr",
     "output_type": "stream",
     "text": [
      "[Parallel(n_jobs=-1)]: Done  10 out of  10 | elapsed:   38.4s finished\n"
     ]
    },
    {
     "name": "stdout",
     "output_type": "stream",
     "text": [
      "{'me__estimator__max_features': 1.0, 'me__estimator__max_samples': 0.6, 'me__estimator__n_estimators': 2} 3.3440196047594224\n",
      "{'me__estimator__max_features': 0.8, 'me__estimator__max_samples': 0.6, 'me__estimator__n_estimators': 2} 3.470153068102162\n",
      "{'me__estimator__max_features': 0.6000000000000001, 'me__estimator__max_samples': 0.6, 'me__estimator__n_estimators': 2} 3.705960062548304\n",
      "{'me__estimator__max_features': 0.4, 'me__estimator__max_samples': 0.6, 'me__estimator__n_estimators': 2} 4.001191316030699\n",
      "{'me__estimator__max_features': 0.2, 'me__estimator__max_samples': 0.6, 'me__estimator__n_estimators': 2} 4.452137853406905\n"
     ]
    }
   ],
   "source": [
    "ppl = Pipeline([('me', MultiOutputRegressor(BaggingRegressor(bss[0])))])\n",
    "grd = {\n",
    "    'me__estimator__n_estimators': [2],\n",
    "    'me__estimator__max_samples': [0.6],\n",
    "    'me__estimator__max_features': numpy.linspace(0.2, 1.0, 5),\n",
    "}\n",
    "gsc = GridSearchCV(estimator=ppl, param_grid=grd, scoring=make_scorer(average_lowest_correct), n_jobs=-1, cv=2, verbose=2, error_score=0)\n",
    "gsc.fit(tfidf, ohe)\n",
    "prn_rsl(gsc)"
   ]
  },
  {
   "cell_type": "code",
   "execution_count": null,
   "metadata": {},
   "outputs": [],
   "source": [
    "ppl = Pipeline([('me', MultiOutputRegressor(BaggingRegressor(bss[0])))])\n",
    "grd = {\n",
    "    'me__estimator__n_estimators': [2],\n",
    "#     'me__estimator__max_samples': [0.6],\n",
    "#     'me__estimator__max_features': [1],\n",
    "}\n",
    "gsc = GridSearchCV(estimator=ppl, param_grid=grd, scoring=make_scorer(average_lowest_correct), n_jobs=-1, cv=2, verbose=2, error_score=0)\n",
    "gsc.fit(tfidf, ohe)\n",
    "prn_rsl(gsc)"
   ]
  },
  {
   "cell_type": "code",
   "execution_count": 19,
   "metadata": {},
   "outputs": [
    {
     "name": "stdout",
     "output_type": "stream",
     "text": [
      "Fitting 2 folds for each of 2 candidates, totalling 4 fits\n",
      "[CV] me__estimator__n_estimators=2 ...................................\n",
      "[CV] me__estimator__n_estimators=2 ...................................\n",
      "[CV] me__estimator__n_estimators=4 ...................................\n",
      "[CV] me__estimator__n_estimators=4 ...................................\n",
      "[CV] .................... me__estimator__n_estimators=2, total=   2.8s\n",
      "[CV] .................... me__estimator__n_estimators=2, total=   2.9s\n",
      "[CV] .................... me__estimator__n_estimators=4, total=   4.6s\n",
      "[CV] .................... me__estimator__n_estimators=4, total=   4.6s\n"
     ]
    },
    {
     "name": "stderr",
     "output_type": "stream",
     "text": [
      "[Parallel(n_jobs=-1)]: Done   4 out of   4 | elapsed:    5.7s finished\n"
     ]
    },
    {
     "name": "stdout",
     "output_type": "stream",
     "text": [
      "{'me__estimator__n_estimators': 2} 2.76318648111868\n",
      "{'me__estimator__n_estimators': 4} 2.76318648111868\n"
     ]
    }
   ],
   "source": [
    "ppl = Pipeline([('me', MultiOutputRegressor(BaggingRegressor(bss[1])))])\n",
    "grd = {\n",
    "    'me__estimator__n_estimators': [i for i in range(2, 6, 2)],\n",
    "    'me__estimator__max_samples': [0.6],\n",
    "    'me__estimator__max_samples': [0.6],\n",
    "}\n",
    "gsc = GridSearchCV(estimator=ppl, param_grid=grd, scoring=make_scorer(average_lowest_correct), n_jobs=-1, cv=2, verbose=2, error_score=0)\n",
    "gsc.fit(tfidf, ohe)\n",
    "prn_rsl(gsc)"
   ]
  },
  {
   "cell_type": "code",
   "execution_count": 20,
   "metadata": {},
   "outputs": [
    {
     "name": "stdout",
     "output_type": "stream",
     "text": [
      "Fitting 2 folds for each of 2 candidates, totalling 4 fits\n",
      "[CV] me__estimator__n_estimators=2 ...................................\n",
      "[CV] me__estimator__n_estimators=2 ...................................\n",
      "[CV] me__estimator__n_estimators=4 ...................................\n",
      "[CV] me__estimator__n_estimators=4 ...................................\n",
      "[CV] .................... me__estimator__n_estimators=2, total=   6.6s\n",
      "[CV] .................... me__estimator__n_estimators=2, total=   6.7s\n",
      "[CV] .................... me__estimator__n_estimators=4, total=  10.9s\n",
      "[CV] .................... me__estimator__n_estimators=4, total=  11.0s\n"
     ]
    },
    {
     "name": "stderr",
     "output_type": "stream",
     "text": [
      "[Parallel(n_jobs=-1)]: Done   4 out of   4 | elapsed:   12.1s finished\n"
     ]
    },
    {
     "name": "stdout",
     "output_type": "stream",
     "text": [
      "{'me__estimator__n_estimators': 4} 2.8235919891439147\n",
      "{'me__estimator__n_estimators': 2} 2.874427651562809\n"
     ]
    }
   ],
   "source": [
    "ppl = Pipeline([('me', MultiOutputRegressor(BaggingRegressor(bss[2])))])\n",
    "grd = {\n",
    "    'me__estimator__n_estimators': [i for i in range(2, 6, 2)]\n",
    "}\n",
    "gsc = GridSearchCV(estimator=ppl, param_grid=grd, scoring=make_scorer(average_lowest_correct), n_jobs=-1, cv=2, verbose=2, error_score=0)\n",
    "gsc.fit(tfidf, ohe)\n",
    "prn_rsl(gsc)"
   ]
  },
  {
   "cell_type": "markdown",
   "metadata": {},
   "source": [
    "## Process Step"
   ]
  },
  {
   "cell_type": "code",
   "execution_count": 21,
   "metadata": {},
   "outputs": [
    {
     "data": {
      "text/html": [
       "<div>\n",
       "<style scoped>\n",
       "    .dataframe tbody tr th:only-of-type {\n",
       "        vertical-align: middle;\n",
       "    }\n",
       "\n",
       "    .dataframe tbody tr th {\n",
       "        vertical-align: top;\n",
       "    }\n",
       "\n",
       "    .dataframe thead th {\n",
       "        text-align: right;\n",
       "    }\n",
       "</style>\n",
       "<table border=\"1\" class=\"dataframe\">\n",
       "  <thead>\n",
       "    <tr style=\"text-align: right;\">\n",
       "      <th></th>\n",
       "      <th>_____________________</th>\n",
       "      <th>_____________________ follow</th>\n",
       "      <th>able</th>\n",
       "      <th>acceptable</th>\n",
       "      <th>accessory</th>\n",
       "      <th>accessory require</th>\n",
       "      <th>accidentally</th>\n",
       "      <th>accompany</th>\n",
       "      <th>accord</th>\n",
       "      <th>account</th>\n",
       "      <th>...</th>\n",
       "      <th>wrong ct</th>\n",
       "      <th>wrong info</th>\n",
       "      <th>wrong info mri</th>\n",
       "      <th>wrong patient</th>\n",
       "      <th>wrong pt</th>\n",
       "      <th>wrong set</th>\n",
       "      <th>wrong tattoo</th>\n",
       "      <th>xrt</th>\n",
       "      <th>xrt date</th>\n",
       "      <th>xrt pt</th>\n",
       "    </tr>\n",
       "  </thead>\n",
       "  <tbody>\n",
       "    <tr>\n",
       "      <th>0</th>\n",
       "      <td>0.0</td>\n",
       "      <td>0.0</td>\n",
       "      <td>0.0</td>\n",
       "      <td>0.0</td>\n",
       "      <td>0.0</td>\n",
       "      <td>0.0</td>\n",
       "      <td>0.0</td>\n",
       "      <td>0.0</td>\n",
       "      <td>0.0</td>\n",
       "      <td>0.0</td>\n",
       "      <td>...</td>\n",
       "      <td>0.0</td>\n",
       "      <td>0.0</td>\n",
       "      <td>0.0</td>\n",
       "      <td>0.0</td>\n",
       "      <td>0.0</td>\n",
       "      <td>0.0</td>\n",
       "      <td>0.0</td>\n",
       "      <td>0.0</td>\n",
       "      <td>0.0</td>\n",
       "      <td>0.0</td>\n",
       "    </tr>\n",
       "    <tr>\n",
       "      <th>1</th>\n",
       "      <td>0.0</td>\n",
       "      <td>0.0</td>\n",
       "      <td>0.0</td>\n",
       "      <td>0.0</td>\n",
       "      <td>0.0</td>\n",
       "      <td>0.0</td>\n",
       "      <td>0.0</td>\n",
       "      <td>0.0</td>\n",
       "      <td>0.0</td>\n",
       "      <td>0.0</td>\n",
       "      <td>...</td>\n",
       "      <td>0.0</td>\n",
       "      <td>0.0</td>\n",
       "      <td>0.0</td>\n",
       "      <td>0.0</td>\n",
       "      <td>0.0</td>\n",
       "      <td>0.0</td>\n",
       "      <td>0.0</td>\n",
       "      <td>0.0</td>\n",
       "      <td>0.0</td>\n",
       "      <td>0.0</td>\n",
       "    </tr>\n",
       "    <tr>\n",
       "      <th>2</th>\n",
       "      <td>0.0</td>\n",
       "      <td>0.0</td>\n",
       "      <td>0.0</td>\n",
       "      <td>0.0</td>\n",
       "      <td>0.0</td>\n",
       "      <td>0.0</td>\n",
       "      <td>0.0</td>\n",
       "      <td>0.0</td>\n",
       "      <td>0.0</td>\n",
       "      <td>0.0</td>\n",
       "      <td>...</td>\n",
       "      <td>0.0</td>\n",
       "      <td>0.0</td>\n",
       "      <td>0.0</td>\n",
       "      <td>0.0</td>\n",
       "      <td>0.0</td>\n",
       "      <td>0.0</td>\n",
       "      <td>0.0</td>\n",
       "      <td>0.0</td>\n",
       "      <td>0.0</td>\n",
       "      <td>0.0</td>\n",
       "    </tr>\n",
       "  </tbody>\n",
       "</table>\n",
       "<p>3 rows × 2261 columns</p>\n",
       "</div>"
      ],
      "text/plain": [
       "   _____________________  _____________________ follow  able  acceptable  \\\n",
       "0                    0.0                           0.0   0.0         0.0   \n",
       "1                    0.0                           0.0   0.0         0.0   \n",
       "2                    0.0                           0.0   0.0         0.0   \n",
       "\n",
       "   accessory  accessory require  accidentally  accompany  accord  account  \\\n",
       "0        0.0                0.0           0.0        0.0     0.0      0.0   \n",
       "1        0.0                0.0           0.0        0.0     0.0      0.0   \n",
       "2        0.0                0.0           0.0        0.0     0.0      0.0   \n",
       "\n",
       "    ...    wrong ct  wrong info  wrong info mri  wrong patient  wrong pt  \\\n",
       "0   ...         0.0         0.0             0.0            0.0       0.0   \n",
       "1   ...         0.0         0.0             0.0            0.0       0.0   \n",
       "2   ...         0.0         0.0             0.0            0.0       0.0   \n",
       "\n",
       "   wrong set  wrong tattoo  xrt  xrt date  xrt pt  \n",
       "0        0.0           0.0  0.0       0.0     0.0  \n",
       "1        0.0           0.0  0.0       0.0     0.0  \n",
       "2        0.0           0.0  0.0       0.0     0.0  \n",
       "\n",
       "[3 rows x 2261 columns]"
      ]
     },
     "execution_count": 21,
     "metadata": {},
     "output_type": "execute_result"
    }
   ],
   "source": [
    "tfidf = pandas.read_csv('07 NM PS TFIDF.csv', delimiter=',', encoding='latin-1').fillna('')\n",
    "tfidf[:3]"
   ]
  },
  {
   "cell_type": "code",
   "execution_count": 22,
   "metadata": {},
   "outputs": [
    {
     "data": {
      "text/html": [
       "<div>\n",
       "<style scoped>\n",
       "    .dataframe tbody tr th:only-of-type {\n",
       "        vertical-align: middle;\n",
       "    }\n",
       "\n",
       "    .dataframe tbody tr th {\n",
       "        vertical-align: top;\n",
       "    }\n",
       "\n",
       "    .dataframe thead th {\n",
       "        text-align: right;\n",
       "    }\n",
       "</style>\n",
       "<table border=\"1\" class=\"dataframe\">\n",
       "  <thead>\n",
       "    <tr style=\"text-align: right;\">\n",
       "      <th></th>\n",
       "      <th>Treatment delivery</th>\n",
       "      <th>Radiation treatment prescription scheduling</th>\n",
       "      <th>Pre-treatment quality assurance</th>\n",
       "      <th>Post-treatment completion</th>\n",
       "      <th>Interventional procedure for planning and/or delivery</th>\n",
       "      <th>Contouring and planning</th>\n",
       "      <th>Imaging for treatment planning</th>\n",
       "      <th>Patient medical consultation and physician assessment</th>\n",
       "      <th>On-treatment quality assurance</th>\n",
       "    </tr>\n",
       "  </thead>\n",
       "  <tbody>\n",
       "    <tr>\n",
       "      <th>0</th>\n",
       "      <td>1</td>\n",
       "      <td>0</td>\n",
       "      <td>0</td>\n",
       "      <td>0</td>\n",
       "      <td>0</td>\n",
       "      <td>0</td>\n",
       "      <td>0</td>\n",
       "      <td>0</td>\n",
       "      <td>0</td>\n",
       "    </tr>\n",
       "    <tr>\n",
       "      <th>1</th>\n",
       "      <td>0</td>\n",
       "      <td>0</td>\n",
       "      <td>0</td>\n",
       "      <td>1</td>\n",
       "      <td>0</td>\n",
       "      <td>0</td>\n",
       "      <td>0</td>\n",
       "      <td>0</td>\n",
       "      <td>0</td>\n",
       "    </tr>\n",
       "    <tr>\n",
       "      <th>2</th>\n",
       "      <td>0</td>\n",
       "      <td>0</td>\n",
       "      <td>1</td>\n",
       "      <td>0</td>\n",
       "      <td>0</td>\n",
       "      <td>0</td>\n",
       "      <td>0</td>\n",
       "      <td>0</td>\n",
       "      <td>0</td>\n",
       "    </tr>\n",
       "  </tbody>\n",
       "</table>\n",
       "</div>"
      ],
      "text/plain": [
       "   Treatment delivery  Radiation treatment prescription scheduling  \\\n",
       "0                   1                                            0   \n",
       "1                   0                                            0   \n",
       "2                   0                                            0   \n",
       "\n",
       "   Pre-treatment quality assurance  Post-treatment completion  \\\n",
       "0                                0                          0   \n",
       "1                                0                          1   \n",
       "2                                1                          0   \n",
       "\n",
       "   Interventional procedure for planning and/or delivery  \\\n",
       "0                                                  0       \n",
       "1                                                  0       \n",
       "2                                                  0       \n",
       "\n",
       "   Contouring and planning  Imaging for treatment planning  \\\n",
       "0                        0                               0   \n",
       "1                        0                               0   \n",
       "2                        0                               0   \n",
       "\n",
       "   Patient medical consultation and physician assessment  \\\n",
       "0                                                  0       \n",
       "1                                                  0       \n",
       "2                                                  0       \n",
       "\n",
       "   On-treatment quality assurance  \n",
       "0                               0  \n",
       "1                               0  \n",
       "2                               0  "
      ]
     },
     "execution_count": 22,
     "metadata": {},
     "output_type": "execute_result"
    }
   ],
   "source": [
    "ohe = pandas.read_csv('07 NM PS OHE.csv', delimiter=',', encoding='latin-1').fillna('')\n",
    "ohe[:3]"
   ]
  },
  {
   "cell_type": "code",
   "execution_count": 23,
   "metadata": {},
   "outputs": [],
   "source": [
    "bss = [Ridge(alpha=10, fit_intercept=True, max_iter=3000, normalize=False, solver='saga'), \n",
    "       LinearSVR(C=0.2, dual=False, epsilon=0.2, fit_intercept=True, loss='squared_epsilon_insensitive', max_iter=1000, tol=0.01),\n",
    "       PassiveAggressiveRegressor(C=0.1, average=True, epsilon=0.1, fit_intercept=True, max_iter=4, loss='squared_epsilon_insensitive', tol=0.00001)]"
   ]
  },
  {
   "cell_type": "code",
   "execution_count": 24,
   "metadata": {},
   "outputs": [
    {
     "name": "stdout",
     "output_type": "stream",
     "text": [
      "Fitting 2 folds for each of 1 candidates, totalling 2 fits\n",
      "[CV] me__estimator__n_estimators=2 ...................................\n",
      "[CV] me__estimator__n_estimators=2 ...................................\n",
      "[CV] .................... me__estimator__n_estimators=2, total=  17.3s\n",
      "[CV] .................... me__estimator__n_estimators=2, total=  17.3s\n"
     ]
    },
    {
     "name": "stderr",
     "output_type": "stream",
     "text": [
      "[Parallel(n_jobs=-1)]: Done   2 out of   2 | elapsed:   18.0s finished\n"
     ]
    },
    {
     "name": "stdout",
     "output_type": "stream",
     "text": [
      "{'me__estimator__n_estimators': 2} 1.7919303797468356\n"
     ]
    }
   ],
   "source": [
    "ppl = Pipeline([('me', MultiOutputRegressor(BaggingRegressor(bss[0])))])\n",
    "grd = {\n",
    "    'me__estimator__n_estimators': [2]\n",
    "}\n",
    "gsc = GridSearchCV(estimator=ppl, param_grid=grd, scoring=make_scorer(average_lowest_correct), n_jobs=-1, cv=2, verbose=2, error_score=0)\n",
    "gsc.fit(tfidf, ohe)\n",
    "prn_rsl(gsc)"
   ]
  },
  {
   "cell_type": "code",
   "execution_count": 25,
   "metadata": {},
   "outputs": [
    {
     "name": "stdout",
     "output_type": "stream",
     "text": [
      "Fitting 2 folds for each of 1 candidates, totalling 2 fits\n",
      "[CV] me__estimator__n_estimators=2 ...................................\n",
      "[CV] me__estimator__n_estimators=2 ...................................\n",
      "[CV] .................... me__estimator__n_estimators=2, total=   1.4s\n",
      "[CV] .................... me__estimator__n_estimators=2, total=   1.4s\n"
     ]
    },
    {
     "name": "stderr",
     "output_type": "stream",
     "text": [
      "[Parallel(n_jobs=-1)]: Done   2 out of   2 | elapsed:    2.1s finished\n"
     ]
    },
    {
     "name": "stdout",
     "output_type": "stream",
     "text": [
      "{'me__estimator__n_estimators': 2} 1.6689082278481013\n"
     ]
    }
   ],
   "source": [
    "ppl = Pipeline([('me', MultiOutputRegressor(BaggingRegressor(bss[1])))])\n",
    "grd = {\n",
    "    'me__estimator__n_estimators': [2]\n",
    "}\n",
    "gsc = GridSearchCV(estimator=ppl, param_grid=grd, scoring=make_scorer(average_lowest_correct), n_jobs=-1, cv=2, verbose=2, error_score=0)\n",
    "gsc.fit(tfidf, ohe)\n",
    "prn_rsl(gsc)"
   ]
  },
  {
   "cell_type": "code",
   "execution_count": 26,
   "metadata": {},
   "outputs": [
    {
     "name": "stdout",
     "output_type": "stream",
     "text": [
      "Fitting 2 folds for each of 1 candidates, totalling 2 fits\n",
      "[CV] me__estimator__n_estimators=2 ...................................\n",
      "[CV] me__estimator__n_estimators=2 ...................................\n",
      "[CV] .................... me__estimator__n_estimators=2, total=   3.7s\n",
      "[CV] .................... me__estimator__n_estimators=2, total=   3.8s\n"
     ]
    },
    {
     "name": "stderr",
     "output_type": "stream",
     "text": [
      "[Parallel(n_jobs=-1)]: Done   2 out of   2 | elapsed:    4.5s finished\n"
     ]
    },
    {
     "name": "stdout",
     "output_type": "stream",
     "text": [
      "{'me__estimator__n_estimators': 2} 1.6839398734177216\n"
     ]
    }
   ],
   "source": [
    "ppl = Pipeline([('me', MultiOutputRegressor(BaggingRegressor(bss[2])))])\n",
    "grd = {\n",
    "    'me__estimator__n_estimators': [2]\n",
    "}\n",
    "gsc = GridSearchCV(estimator=ppl, param_grid=grd, scoring=make_scorer(average_lowest_correct), n_jobs=-1, cv=2, verbose=2, error_score=0)\n",
    "gsc.fit(tfidf, ohe)\n",
    "prn_rsl(gsc)"
   ]
  },
  {
   "cell_type": "markdown",
   "metadata": {},
   "source": [
    "# Contributing Factors"
   ]
  },
  {
   "cell_type": "code",
   "execution_count": 28,
   "metadata": {},
   "outputs": [
    {
     "data": {
      "text/html": [
       "<div>\n",
       "<style scoped>\n",
       "    .dataframe tbody tr th:only-of-type {\n",
       "        vertical-align: middle;\n",
       "    }\n",
       "\n",
       "    .dataframe tbody tr th {\n",
       "        vertical-align: top;\n",
       "    }\n",
       "\n",
       "    .dataframe thead th {\n",
       "        text-align: right;\n",
       "    }\n",
       "</style>\n",
       "<table border=\"1\" class=\"dataframe\">\n",
       "  <thead>\n",
       "    <tr style=\"text-align: right;\">\n",
       "      <th></th>\n",
       "      <th>____________________</th>\n",
       "      <th>_____________________</th>\n",
       "      <th>_____________________ follow</th>\n",
       "      <th>able</th>\n",
       "      <th>acceptable</th>\n",
       "      <th>access</th>\n",
       "      <th>accessory</th>\n",
       "      <th>accessory require</th>\n",
       "      <th>accidentally</th>\n",
       "      <th>accommodate</th>\n",
       "      <th>...</th>\n",
       "      <th>wrong ct</th>\n",
       "      <th>wrong info</th>\n",
       "      <th>wrong info mri</th>\n",
       "      <th>wrong patient</th>\n",
       "      <th>wrong pt</th>\n",
       "      <th>wrong set</th>\n",
       "      <th>wrong tattoo</th>\n",
       "      <th>xrt</th>\n",
       "      <th>xrt date</th>\n",
       "      <th>xrt pt</th>\n",
       "    </tr>\n",
       "  </thead>\n",
       "  <tbody>\n",
       "    <tr>\n",
       "      <th>0</th>\n",
       "      <td>0.0</td>\n",
       "      <td>0.0</td>\n",
       "      <td>0.0</td>\n",
       "      <td>0.0</td>\n",
       "      <td>0.0</td>\n",
       "      <td>0.0</td>\n",
       "      <td>0.0</td>\n",
       "      <td>0.0</td>\n",
       "      <td>0.0</td>\n",
       "      <td>0.0</td>\n",
       "      <td>...</td>\n",
       "      <td>0.0</td>\n",
       "      <td>0.0</td>\n",
       "      <td>0.0</td>\n",
       "      <td>0.0</td>\n",
       "      <td>0.0</td>\n",
       "      <td>0.0</td>\n",
       "      <td>0.0</td>\n",
       "      <td>0.0</td>\n",
       "      <td>0.0</td>\n",
       "      <td>0.0</td>\n",
       "    </tr>\n",
       "    <tr>\n",
       "      <th>1</th>\n",
       "      <td>0.0</td>\n",
       "      <td>0.0</td>\n",
       "      <td>0.0</td>\n",
       "      <td>0.0</td>\n",
       "      <td>0.0</td>\n",
       "      <td>0.0</td>\n",
       "      <td>0.0</td>\n",
       "      <td>0.0</td>\n",
       "      <td>0.0</td>\n",
       "      <td>0.0</td>\n",
       "      <td>...</td>\n",
       "      <td>0.0</td>\n",
       "      <td>0.0</td>\n",
       "      <td>0.0</td>\n",
       "      <td>0.0</td>\n",
       "      <td>0.0</td>\n",
       "      <td>0.0</td>\n",
       "      <td>0.0</td>\n",
       "      <td>0.0</td>\n",
       "      <td>0.0</td>\n",
       "      <td>0.0</td>\n",
       "    </tr>\n",
       "    <tr>\n",
       "      <th>2</th>\n",
       "      <td>0.0</td>\n",
       "      <td>0.0</td>\n",
       "      <td>0.0</td>\n",
       "      <td>0.0</td>\n",
       "      <td>0.0</td>\n",
       "      <td>0.0</td>\n",
       "      <td>0.0</td>\n",
       "      <td>0.0</td>\n",
       "      <td>0.0</td>\n",
       "      <td>0.0</td>\n",
       "      <td>...</td>\n",
       "      <td>0.0</td>\n",
       "      <td>0.0</td>\n",
       "      <td>0.0</td>\n",
       "      <td>0.0</td>\n",
       "      <td>0.0</td>\n",
       "      <td>0.0</td>\n",
       "      <td>0.0</td>\n",
       "      <td>0.0</td>\n",
       "      <td>0.0</td>\n",
       "      <td>0.0</td>\n",
       "    </tr>\n",
       "  </tbody>\n",
       "</table>\n",
       "<p>3 rows × 2604 columns</p>\n",
       "</div>"
      ],
      "text/plain": [
       "   ____________________  _____________________  _____________________ follow  \\\n",
       "0                   0.0                    0.0                           0.0   \n",
       "1                   0.0                    0.0                           0.0   \n",
       "2                   0.0                    0.0                           0.0   \n",
       "\n",
       "   able  acceptable  access  accessory  accessory require  accidentally  \\\n",
       "0   0.0         0.0     0.0        0.0                0.0           0.0   \n",
       "1   0.0         0.0     0.0        0.0                0.0           0.0   \n",
       "2   0.0         0.0     0.0        0.0                0.0           0.0   \n",
       "\n",
       "   accommodate   ...    wrong ct  wrong info  wrong info mri  wrong patient  \\\n",
       "0          0.0   ...         0.0         0.0             0.0            0.0   \n",
       "1          0.0   ...         0.0         0.0             0.0            0.0   \n",
       "2          0.0   ...         0.0         0.0             0.0            0.0   \n",
       "\n",
       "   wrong pt  wrong set  wrong tattoo  xrt  xrt date  xrt pt  \n",
       "0       0.0        0.0           0.0  0.0       0.0     0.0  \n",
       "1       0.0        0.0           0.0  0.0       0.0     0.0  \n",
       "2       0.0        0.0           0.0  0.0       0.0     0.0  \n",
       "\n",
       "[3 rows x 2604 columns]"
      ]
     },
     "execution_count": 28,
     "metadata": {},
     "output_type": "execute_result"
    }
   ],
   "source": [
    "tfidf = pandas.read_csv('07 NM CF TFIDF.csv', delimiter=',', encoding='latin-1').fillna('')\n",
    "tfidf[:3]"
   ]
  },
  {
   "cell_type": "code",
   "execution_count": 29,
   "metadata": {},
   "outputs": [
    {
     "data": {
      "text/html": [
       "<div>\n",
       "<style scoped>\n",
       "    .dataframe tbody tr th:only-of-type {\n",
       "        vertical-align: middle;\n",
       "    }\n",
       "\n",
       "    .dataframe tbody tr th {\n",
       "        vertical-align: top;\n",
       "    }\n",
       "\n",
       "    .dataframe thead th {\n",
       "        text-align: right;\n",
       "    }\n",
       "</style>\n",
       "<table border=\"1\" class=\"dataframe\">\n",
       "  <thead>\n",
       "    <tr style=\"text-align: right;\">\n",
       "      <th></th>\n",
       "      <th>Organizational and/or workspace resources inadequate (excluding human resources)</th>\n",
       "      <th>Unnamed: 1</th>\n",
       "      <th>Patient or family member medical condition preference or behaviour</th>\n",
       "      <th>Equipment quality assurance and/or maintenance inadequate</th>\n",
       "      <th>Handoffs inadequate</th>\n",
       "      <th>Communication or documentation inadequate (patient specific)</th>\n",
       "      <th>Policies and/or procedures non-existent or inadequate</th>\n",
       "      <th>Patient or family member medical condition, preference or behaviour</th>\n",
       "      <th>Policies and/or procedures not followed</th>\n",
       "      <th>Unfamiliar treatment approach or radiation treatment technique</th>\n",
       "      <th>...</th>\n",
       "      <th>Equipment software or hardware design, including 'human factors' design, inadequate</th>\n",
       "      <th>Failure to identify potential risks</th>\n",
       "      <th>Equipment software or hardware commissioning, calibration or acceptance testing inadequate</th>\n",
       "      <th>Distraction or diversions involving staff</th>\n",
       "      <th>Change management</th>\n",
       "      <th>Human resources inadequate</th>\n",
       "      <th>Expectation bias involving staff</th>\n",
       "      <th>Staff behaviour</th>\n",
       "      <th>Staff education or training inadequate</th>\n",
       "      <th>Patient education inadequate</th>\n",
       "    </tr>\n",
       "  </thead>\n",
       "  <tbody>\n",
       "    <tr>\n",
       "      <th>0</th>\n",
       "      <td>0</td>\n",
       "      <td>1</td>\n",
       "      <td>0</td>\n",
       "      <td>0</td>\n",
       "      <td>0</td>\n",
       "      <td>0</td>\n",
       "      <td>0</td>\n",
       "      <td>0</td>\n",
       "      <td>0</td>\n",
       "      <td>0</td>\n",
       "      <td>...</td>\n",
       "      <td>0</td>\n",
       "      <td>0</td>\n",
       "      <td>0</td>\n",
       "      <td>1</td>\n",
       "      <td>0</td>\n",
       "      <td>0</td>\n",
       "      <td>0</td>\n",
       "      <td>0</td>\n",
       "      <td>0</td>\n",
       "      <td>0</td>\n",
       "    </tr>\n",
       "    <tr>\n",
       "      <th>1</th>\n",
       "      <td>0</td>\n",
       "      <td>1</td>\n",
       "      <td>0</td>\n",
       "      <td>0</td>\n",
       "      <td>0</td>\n",
       "      <td>0</td>\n",
       "      <td>0</td>\n",
       "      <td>0</td>\n",
       "      <td>0</td>\n",
       "      <td>0</td>\n",
       "      <td>...</td>\n",
       "      <td>0</td>\n",
       "      <td>0</td>\n",
       "      <td>0</td>\n",
       "      <td>0</td>\n",
       "      <td>0</td>\n",
       "      <td>1</td>\n",
       "      <td>0</td>\n",
       "      <td>0</td>\n",
       "      <td>0</td>\n",
       "      <td>0</td>\n",
       "    </tr>\n",
       "    <tr>\n",
       "      <th>2</th>\n",
       "      <td>0</td>\n",
       "      <td>1</td>\n",
       "      <td>0</td>\n",
       "      <td>0</td>\n",
       "      <td>0</td>\n",
       "      <td>0</td>\n",
       "      <td>0</td>\n",
       "      <td>0</td>\n",
       "      <td>1</td>\n",
       "      <td>0</td>\n",
       "      <td>...</td>\n",
       "      <td>0</td>\n",
       "      <td>0</td>\n",
       "      <td>0</td>\n",
       "      <td>0</td>\n",
       "      <td>0</td>\n",
       "      <td>0</td>\n",
       "      <td>0</td>\n",
       "      <td>0</td>\n",
       "      <td>0</td>\n",
       "      <td>0</td>\n",
       "    </tr>\n",
       "  </tbody>\n",
       "</table>\n",
       "<p>3 rows × 21 columns</p>\n",
       "</div>"
      ],
      "text/plain": [
       "   Organizational and/or workspace resources inadequate (excluding human resources)  \\\n",
       "0                                                  0                                  \n",
       "1                                                  0                                  \n",
       "2                                                  0                                  \n",
       "\n",
       "   Unnamed: 1  \\\n",
       "0           1   \n",
       "1           1   \n",
       "2           1   \n",
       "\n",
       "   Patient or family member medical condition preference or behaviour  \\\n",
       "0                                                  0                    \n",
       "1                                                  0                    \n",
       "2                                                  0                    \n",
       "\n",
       "   Equipment quality assurance and/or maintenance inadequate  \\\n",
       "0                                                  0           \n",
       "1                                                  0           \n",
       "2                                                  0           \n",
       "\n",
       "   Handoffs inadequate  \\\n",
       "0                    0   \n",
       "1                    0   \n",
       "2                    0   \n",
       "\n",
       "   Communication or documentation inadequate (patient specific)  \\\n",
       "0                                                  0              \n",
       "1                                                  0              \n",
       "2                                                  0              \n",
       "\n",
       "   Policies and/or procedures non-existent or inadequate  \\\n",
       "0                                                  0       \n",
       "1                                                  0       \n",
       "2                                                  0       \n",
       "\n",
       "   Patient or family member medical condition, preference or behaviour  \\\n",
       "0                                                  0                     \n",
       "1                                                  0                     \n",
       "2                                                  0                     \n",
       "\n",
       "   Policies and/or procedures not followed  \\\n",
       "0                                        0   \n",
       "1                                        0   \n",
       "2                                        1   \n",
       "\n",
       "   Unfamiliar treatment approach or radiation treatment technique  \\\n",
       "0                                                  0                \n",
       "1                                                  0                \n",
       "2                                                  0                \n",
       "\n",
       "               ...               \\\n",
       "0              ...                \n",
       "1              ...                \n",
       "2              ...                \n",
       "\n",
       "   Equipment software or hardware design, including 'human factors' design, inadequate  \\\n",
       "0                                                  0                                     \n",
       "1                                                  0                                     \n",
       "2                                                  0                                     \n",
       "\n",
       "   Failure to identify potential risks  \\\n",
       "0                                    0   \n",
       "1                                    0   \n",
       "2                                    0   \n",
       "\n",
       "   Equipment software or hardware commissioning, calibration or acceptance testing inadequate  \\\n",
       "0                                                  0                                            \n",
       "1                                                  0                                            \n",
       "2                                                  0                                            \n",
       "\n",
       "   Distraction or diversions involving staff  Change management  \\\n",
       "0                                          1                  0   \n",
       "1                                          0                  0   \n",
       "2                                          0                  0   \n",
       "\n",
       "   Human resources inadequate  Expectation bias involving staff  \\\n",
       "0                           0                                 0   \n",
       "1                           1                                 0   \n",
       "2                           0                                 0   \n",
       "\n",
       "   Staff behaviour  Staff education or training inadequate  \\\n",
       "0                0                                       0   \n",
       "1                0                                       0   \n",
       "2                0                                       0   \n",
       "\n",
       "   Patient education inadequate  \n",
       "0                             0  \n",
       "1                             0  \n",
       "2                             0  \n",
       "\n",
       "[3 rows x 21 columns]"
      ]
     },
     "execution_count": 29,
     "metadata": {},
     "output_type": "execute_result"
    }
   ],
   "source": [
    "ohe = pandas.read_csv('07 NM CF OHE.csv', delimiter=',', encoding='latin-1').fillna('')\n",
    "ohe[:3]"
   ]
  },
  {
   "cell_type": "code",
   "execution_count": 30,
   "metadata": {},
   "outputs": [
    {
     "name": "stdout",
     "output_type": "stream",
     "text": [
      "Fitting 2 folds for each of 1 candidates, totalling 2 fits\n",
      "[CV] me__estimator__n_estimators=2 ...................................\n",
      "[CV] me__estimator__n_estimators=2 ...................................\n",
      "[CV] .................... me__estimator__n_estimators=2, total= 1.0min\n",
      "[CV] .................... me__estimator__n_estimators=2, total= 5.4min\n"
     ]
    },
    {
     "name": "stderr",
     "output_type": "stream",
     "text": [
      "[Parallel(n_jobs=-1)]: Done   2 out of   2 | elapsed:  5.4min finished\n"
     ]
    },
    {
     "name": "stdout",
     "output_type": "stream",
     "text": [
      "{'me__estimator__n_estimators': 2} 6.593836746117822\n"
     ]
    }
   ],
   "source": [
    "ppl = Pipeline([('me', MultiOutputRegressor(BaggingRegressor(bss[0])))])\n",
    "grd = {\n",
    "    'me__estimator__n_estimators': [2]\n",
    "}\n",
    "gsc = GridSearchCV(estimator=ppl, param_grid=grd, scoring=make_scorer(average_lowest_correct), n_jobs=-1, cv=2, verbose=2, error_score=0)\n",
    "gsc.fit(tfidf, ohe)\n",
    "prn_rsl(gsc)"
   ]
  },
  {
   "cell_type": "code",
   "execution_count": 31,
   "metadata": {},
   "outputs": [
    {
     "name": "stdout",
     "output_type": "stream",
     "text": [
      "Fitting 2 folds for each of 1 candidates, totalling 2 fits\n",
      "[CV] me__estimator__n_estimators=2 ...................................\n",
      "[CV] me__estimator__n_estimators=2 ...................................\n",
      "[CV] .................... me__estimator__n_estimators=2, total=   3.9s\n",
      "[CV] .................... me__estimator__n_estimators=2, total=   4.0s\n"
     ]
    },
    {
     "name": "stderr",
     "output_type": "stream",
     "text": [
      "[Parallel(n_jobs=-1)]: Done   2 out of   2 | elapsed:    5.2s finished\n"
     ]
    },
    {
     "name": "stdout",
     "output_type": "stream",
     "text": [
      "{'me__estimator__n_estimators': 2} 5.721465806348429\n"
     ]
    }
   ],
   "source": [
    "ppl = Pipeline([('me', MultiOutputRegressor(BaggingRegressor(bss[1])))])\n",
    "grd = {\n",
    "    'me__estimator__n_estimators': [2]\n",
    "}\n",
    "gsc = GridSearchCV(estimator=ppl, param_grid=grd, scoring=make_scorer(average_lowest_correct), n_jobs=-1, cv=2, verbose=2, error_score=0)\n",
    "gsc.fit(tfidf, ohe)\n",
    "prn_rsl(gsc)"
   ]
  },
  {
   "cell_type": "code",
   "execution_count": 32,
   "metadata": {},
   "outputs": [
    {
     "name": "stdout",
     "output_type": "stream",
     "text": [
      "Fitting 2 folds for each of 1 candidates, totalling 2 fits\n",
      "[CV] me__estimator__n_estimators=2 ...................................\n",
      "[CV] me__estimator__n_estimators=2 ...................................\n",
      "[CV] .................... me__estimator__n_estimators=2, total=   8.5s\n",
      "[CV] .................... me__estimator__n_estimators=2, total=   8.6s\n"
     ]
    },
    {
     "name": "stderr",
     "output_type": "stream",
     "text": [
      "[Parallel(n_jobs=-1)]: Done   2 out of   2 | elapsed:    9.9s finished\n"
     ]
    },
    {
     "name": "stdout",
     "output_type": "stream",
     "text": [
      "{'me__estimator__n_estimators': 2} 5.762122340452117\n"
     ]
    }
   ],
   "source": [
    "ppl = Pipeline([('me', MultiOutputRegressor(BaggingRegressor(bss[2])))])\n",
    "grd = {\n",
    "    'me__estimator__n_estimators': [2]\n",
    "}\n",
    "gsc = GridSearchCV(estimator=ppl, param_grid=grd, scoring=make_scorer(average_lowest_correct), n_jobs=-1, cv=2, verbose=2, error_score=0)\n",
    "gsc.fit(tfidf, ohe)\n",
    "prn_rsl(gsc)"
   ]
  },
  {
   "cell_type": "markdown",
   "metadata": {},
   "source": [
    "# Overall Severity"
   ]
  },
  {
   "cell_type": "code",
   "execution_count": 85,
   "metadata": {},
   "outputs": [
    {
     "data": {
      "text/html": [
       "<div>\n",
       "<style scoped>\n",
       "    .dataframe tbody tr th:only-of-type {\n",
       "        vertical-align: middle;\n",
       "    }\n",
       "\n",
       "    .dataframe tbody tr th {\n",
       "        vertical-align: top;\n",
       "    }\n",
       "\n",
       "    .dataframe thead th {\n",
       "        text-align: right;\n",
       "    }\n",
       "</style>\n",
       "<table border=\"1\" class=\"dataframe\">\n",
       "  <thead>\n",
       "    <tr style=\"text-align: right;\">\n",
       "      <th></th>\n",
       "      <th>____________________</th>\n",
       "      <th>_____________________</th>\n",
       "      <th>_____________________ follow</th>\n",
       "      <th>able</th>\n",
       "      <th>acceptable</th>\n",
       "      <th>access</th>\n",
       "      <th>accessory</th>\n",
       "      <th>accessory require</th>\n",
       "      <th>accidentally</th>\n",
       "      <th>accommodate</th>\n",
       "      <th>...</th>\n",
       "      <th>wrong ct</th>\n",
       "      <th>wrong info</th>\n",
       "      <th>wrong info mri</th>\n",
       "      <th>wrong patient</th>\n",
       "      <th>wrong pt</th>\n",
       "      <th>wrong set</th>\n",
       "      <th>wrong tattoo</th>\n",
       "      <th>xrt</th>\n",
       "      <th>xrt date</th>\n",
       "      <th>xrt pt</th>\n",
       "    </tr>\n",
       "  </thead>\n",
       "  <tbody>\n",
       "    <tr>\n",
       "      <th>0</th>\n",
       "      <td>0.0</td>\n",
       "      <td>0.0</td>\n",
       "      <td>0.0</td>\n",
       "      <td>0.0</td>\n",
       "      <td>0.0</td>\n",
       "      <td>0.0</td>\n",
       "      <td>0.0</td>\n",
       "      <td>0.0</td>\n",
       "      <td>0.0</td>\n",
       "      <td>0.0</td>\n",
       "      <td>...</td>\n",
       "      <td>0.0</td>\n",
       "      <td>0.0</td>\n",
       "      <td>0.0</td>\n",
       "      <td>0.0</td>\n",
       "      <td>0.0</td>\n",
       "      <td>0.0</td>\n",
       "      <td>0.0</td>\n",
       "      <td>0.0</td>\n",
       "      <td>0.0</td>\n",
       "      <td>0.0</td>\n",
       "    </tr>\n",
       "    <tr>\n",
       "      <th>1</th>\n",
       "      <td>0.0</td>\n",
       "      <td>0.0</td>\n",
       "      <td>0.0</td>\n",
       "      <td>0.0</td>\n",
       "      <td>0.0</td>\n",
       "      <td>0.0</td>\n",
       "      <td>0.0</td>\n",
       "      <td>0.0</td>\n",
       "      <td>0.0</td>\n",
       "      <td>0.0</td>\n",
       "      <td>...</td>\n",
       "      <td>0.0</td>\n",
       "      <td>0.0</td>\n",
       "      <td>0.0</td>\n",
       "      <td>0.0</td>\n",
       "      <td>0.0</td>\n",
       "      <td>0.0</td>\n",
       "      <td>0.0</td>\n",
       "      <td>0.0</td>\n",
       "      <td>0.0</td>\n",
       "      <td>0.0</td>\n",
       "    </tr>\n",
       "    <tr>\n",
       "      <th>2</th>\n",
       "      <td>0.0</td>\n",
       "      <td>0.0</td>\n",
       "      <td>0.0</td>\n",
       "      <td>0.0</td>\n",
       "      <td>0.0</td>\n",
       "      <td>0.0</td>\n",
       "      <td>0.0</td>\n",
       "      <td>0.0</td>\n",
       "      <td>0.0</td>\n",
       "      <td>0.0</td>\n",
       "      <td>...</td>\n",
       "      <td>0.0</td>\n",
       "      <td>0.0</td>\n",
       "      <td>0.0</td>\n",
       "      <td>0.0</td>\n",
       "      <td>0.0</td>\n",
       "      <td>0.0</td>\n",
       "      <td>0.0</td>\n",
       "      <td>0.0</td>\n",
       "      <td>0.0</td>\n",
       "      <td>0.0</td>\n",
       "    </tr>\n",
       "  </tbody>\n",
       "</table>\n",
       "<p>3 rows × 2604 columns</p>\n",
       "</div>"
      ],
      "text/plain": [
       "   ____________________  _____________________  _____________________ follow  \\\n",
       "0                   0.0                    0.0                           0.0   \n",
       "1                   0.0                    0.0                           0.0   \n",
       "2                   0.0                    0.0                           0.0   \n",
       "\n",
       "   able  acceptable  access  accessory  accessory require  accidentally  \\\n",
       "0   0.0         0.0     0.0        0.0                0.0           0.0   \n",
       "1   0.0         0.0     0.0        0.0                0.0           0.0   \n",
       "2   0.0         0.0     0.0        0.0                0.0           0.0   \n",
       "\n",
       "   accommodate   ...    wrong ct  wrong info  wrong info mri  wrong patient  \\\n",
       "0          0.0   ...         0.0         0.0             0.0            0.0   \n",
       "1          0.0   ...         0.0         0.0             0.0            0.0   \n",
       "2          0.0   ...         0.0         0.0             0.0            0.0   \n",
       "\n",
       "   wrong pt  wrong set  wrong tattoo  xrt  xrt date  xrt pt  \n",
       "0       0.0        0.0           0.0  0.0       0.0     0.0  \n",
       "1       0.0        0.0           0.0  0.0       0.0     0.0  \n",
       "2       0.0        0.0           0.0  0.0       0.0     0.0  \n",
       "\n",
       "[3 rows x 2604 columns]"
      ]
     },
     "execution_count": 85,
     "metadata": {},
     "output_type": "execute_result"
    }
   ],
   "source": [
    "tfidf = pandas.read_csv('07 NM OS TFIDF.csv', delimiter=',', encoding='latin-1').fillna('')\n",
    "tfidf[:3]"
   ]
  },
  {
   "cell_type": "code",
   "execution_count": 92,
   "metadata": {},
   "outputs": [
    {
     "data": {
      "text/html": [
       "<div>\n",
       "<style scoped>\n",
       "    .dataframe tbody tr th:only-of-type {\n",
       "        vertical-align: middle;\n",
       "    }\n",
       "\n",
       "    .dataframe tbody tr th {\n",
       "        vertical-align: top;\n",
       "    }\n",
       "\n",
       "    .dataframe thead th {\n",
       "        text-align: right;\n",
       "    }\n",
       "</style>\n",
       "<table border=\"1\" class=\"dataframe\">\n",
       "  <thead>\n",
       "    <tr style=\"text-align: right;\">\n",
       "      <th></th>\n",
       "      <th>Severe</th>\n",
       "      <th>Moderate</th>\n",
       "      <th>None</th>\n",
       "      <th>Mild</th>\n",
       "    </tr>\n",
       "  </thead>\n",
       "  <tbody>\n",
       "    <tr>\n",
       "      <th>0</th>\n",
       "      <td>0</td>\n",
       "      <td>0</td>\n",
       "      <td>1</td>\n",
       "      <td>0</td>\n",
       "    </tr>\n",
       "    <tr>\n",
       "      <th>1</th>\n",
       "      <td>0</td>\n",
       "      <td>0</td>\n",
       "      <td>0</td>\n",
       "      <td>1</td>\n",
       "    </tr>\n",
       "    <tr>\n",
       "      <th>2</th>\n",
       "      <td>0</td>\n",
       "      <td>0</td>\n",
       "      <td>1</td>\n",
       "      <td>0</td>\n",
       "    </tr>\n",
       "  </tbody>\n",
       "</table>\n",
       "</div>"
      ],
      "text/plain": [
       "   Severe  Moderate  None  Mild\n",
       "0       0         0     1     0\n",
       "1       0         0     0     1\n",
       "2       0         0     1     0"
      ]
     },
     "execution_count": 92,
     "metadata": {},
     "output_type": "execute_result"
    }
   ],
   "source": [
    "ohe = pandas.read_csv('07 NM OS OHE.csv', delimiter=',', encoding='latin-1').fillna('')\n",
    "ohe[:3]"
   ]
  },
  {
   "cell_type": "code",
   "execution_count": 94,
   "metadata": {},
   "outputs": [
    {
     "name": "stdout",
     "output_type": "stream",
     "text": [
      "Fitting 2 folds for each of 1 candidates, totalling 2 fits\n",
      "[CV] me__estimator__n_estimators=2 ...................................\n",
      "[CV] me__estimator__n_estimators=2 ...................................\n",
      "[CV] .................... me__estimator__n_estimators=2, total=  12.3s\n",
      "[CV] .................... me__estimator__n_estimators=2, total=  13.2s\n"
     ]
    },
    {
     "name": "stderr",
     "output_type": "stream",
     "text": [
      "[Parallel(n_jobs=-1)]: Done   2 out of   2 | elapsed:   13.8s finished\n"
     ]
    },
    {
     "name": "stdout",
     "output_type": "stream",
     "text": [
      "{'me__estimator__n_estimators': 2} 1.1109987954878275\n"
     ]
    }
   ],
   "source": [
    "ppl = Pipeline([('me', MultiOutputRegressor(BaggingRegressor(bss[0])))])\n",
    "grd = {\n",
    "    'me__estimator__n_estimators': [2]\n",
    "}\n",
    "gsc = GridSearchCV(estimator=ppl, param_grid=grd, scoring=make_scorer(average_lowest_correct), n_jobs=-1, cv=2, verbose=2, error_score=0)\n",
    "gsc.fit(tfidf, ohe)\n",
    "prn_rsl(gsc)"
   ]
  },
  {
   "cell_type": "code",
   "execution_count": 95,
   "metadata": {},
   "outputs": [
    {
     "name": "stdout",
     "output_type": "stream",
     "text": [
      "Fitting 2 folds for each of 1 candidates, totalling 2 fits\n",
      "[CV] me__estimator__n_estimators=2 ...................................\n",
      "[CV] me__estimator__n_estimators=2 ...................................\n",
      "[CV] .................... me__estimator__n_estimators=2, total=   1.1s\n",
      "[CV] .................... me__estimator__n_estimators=2, total=   1.1s\n"
     ]
    },
    {
     "name": "stderr",
     "output_type": "stream",
     "text": [
      "[Parallel(n_jobs=-1)]: Done   2 out of   2 | elapsed:    1.8s finished\n"
     ]
    },
    {
     "name": "stdout",
     "output_type": "stream",
     "text": [
      "{'me__estimator__n_estimators': 2} 1.1120588661592055\n"
     ]
    }
   ],
   "source": [
    "ppl = Pipeline([('me', MultiOutputRegressor(BaggingRegressor(bss[1])))])\n",
    "grd = {\n",
    "    'me__estimator__n_estimators': [2]\n",
    "}\n",
    "gsc = GridSearchCV(estimator=ppl, param_grid=grd, scoring=make_scorer(average_lowest_correct), n_jobs=-1, cv=2, verbose=2, error_score=0)\n",
    "gsc.fit(tfidf, ohe)\n",
    "prn_rsl(gsc)"
   ]
  },
  {
   "cell_type": "code",
   "execution_count": 96,
   "metadata": {},
   "outputs": [
    {
     "name": "stdout",
     "output_type": "stream",
     "text": [
      "Fitting 2 folds for each of 1 candidates, totalling 2 fits\n",
      "[CV] me__estimator__n_estimators=2 ...................................\n",
      "[CV] me__estimator__n_estimators=2 ...................................\n",
      "[CV] .................... me__estimator__n_estimators=2, total=   2.2s\n",
      "[CV] .................... me__estimator__n_estimators=2, total=   2.2s\n"
     ]
    },
    {
     "name": "stderr",
     "output_type": "stream",
     "text": [
      "[Parallel(n_jobs=-1)]: Done   2 out of   2 | elapsed:    2.8s finished\n"
     ]
    },
    {
     "name": "stdout",
     "output_type": "stream",
     "text": [
      "{'me__estimator__n_estimators': 2} 1.110644938799786\n"
     ]
    }
   ],
   "source": [
    "ppl = Pipeline([('me', MultiOutputRegressor(BaggingRegressor(bss[2])))])\n",
    "grd = {\n",
    "    'me__estimator__n_estimators': [2]\n",
    "}\n",
    "gsc = GridSearchCV(estimator=ppl, param_grid=grd, scoring=make_scorer(average_lowest_correct), n_jobs=-1, cv=2, verbose=2, error_score=0)\n",
    "gsc.fit(tfidf, ohe)\n",
    "prn_rsl(gsc)"
   ]
  },
  {
   "cell_type": "markdown",
   "metadata": {},
   "source": [
    "Proess Step: 1.69\n",
    "\n",
    "Problem Type: 2.76\n",
    "\n",
    "Contributing Factors: 5.72\n",
    "\n",
    "Overall Severity: 1.11"
   ]
  }
 ],
 "metadata": {
  "kernelspec": {
   "display_name": "Python 3",
   "language": "python",
   "name": "python3"
  },
  "language_info": {
   "codemirror_mode": {
    "name": "ipython",
    "version": 3
   },
   "file_extension": ".py",
   "mimetype": "text/x-python",
   "name": "python",
   "nbconvert_exporter": "python",
   "pygments_lexer": "ipython3",
   "version": "3.6.4"
  }
 },
 "nbformat": 4,
 "nbformat_minor": 2
}

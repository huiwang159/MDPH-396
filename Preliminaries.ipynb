{
 "cells": [
  {
   "cell_type": "code",
   "execution_count": 1,
   "metadata": {
    "collapsed": true
   },
   "outputs": [],
   "source": [
    "import numpy\n",
    "import pandas\n",
    "import nltk\n",
    "pandas.set_option('display.max_columns', 50)"
   ]
  },
  {
   "cell_type": "code",
   "execution_count": 2,
   "metadata": {},
   "outputs": [
    {
     "data": {
      "text/html": [
       "<div>\n",
       "<style>\n",
       "    .dataframe thead tr:only-child th {\n",
       "        text-align: right;\n",
       "    }\n",
       "\n",
       "    .dataframe thead th {\n",
       "        text-align: left;\n",
       "    }\n",
       "\n",
       "    .dataframe tbody tr th {\n",
       "        vertical-align: top;\n",
       "    }\n",
       "</style>\n",
       "<table border=\"1\" class=\"dataframe\">\n",
       "  <thead>\n",
       "    <tr style=\"text-align: right;\">\n",
       "      <th></th>\n",
       "      <th>incident_id</th>\n",
       "      <th>event_type</th>\n",
       "      <th>incident_description</th>\n",
       "      <th>descriptor</th>\n",
       "      <th>coordinator_comments</th>\n",
       "      <th>investigation_narrative</th>\n",
       "      <th>acute_medical_harm</th>\n",
       "      <th>dosimetric_impact</th>\n",
       "      <th>latent_medical_harm</th>\n",
       "      <th>functional_work_area</th>\n",
       "      <th>date_incident_detected</th>\n",
       "      <th>time_period_detected</th>\n",
       "      <th>date_incident_occurred</th>\n",
       "      <th>time_period_occurred</th>\n",
       "      <th>individual_detected</th>\n",
       "      <th>individual_involved</th>\n",
       "      <th>patient_month_birth</th>\n",
       "      <th>patient_year_birth</th>\n",
       "      <th>patient_gender</th>\n",
       "      <th>diagnosis</th>\n",
       "      <th>process_step_detected</th>\n",
       "      <th>process_step_occurred</th>\n",
       "      <th>problem_type</th>\n",
       "      <th>contributing_factors</th>\n",
       "      <th>number_patients_affected</th>\n",
       "      <th>radiation_treatment_techniques</th>\n",
       "      <th>total_dose_prescribed</th>\n",
       "      <th>number_fractions_prescribed</th>\n",
       "      <th>number_fractions_incorrect</th>\n",
       "      <th>hardware_manufacturer_model</th>\n",
       "      <th>software_manufacturer_model</th>\n",
       "      <th>body_region_treated</th>\n",
       "      <th>treatment_intent</th>\n",
       "      <th>ameliorating_actions</th>\n",
       "      <th>safety_barriers_failed</th>\n",
       "      <th>safety_barriers_prevented</th>\n",
       "      <th>actions_reduce_risk</th>\n",
       "    </tr>\n",
       "  </thead>\n",
       "  <tbody>\n",
       "    <tr>\n",
       "      <th>0</th>\n",
       "      <td>123488</td>\n",
       "      <td>Actual incident</td>\n",
       "      <td>Patient was scheduled for initial treatment fr...</td>\n",
       "      <td>Plan was an hour and a half late</td>\n",
       "      <td>NaN</td>\n",
       "      <td>Not enough time was provided for planning to c...</td>\n",
       "      <td>None</td>\n",
       "      <td>None</td>\n",
       "      <td>No</td>\n",
       "      <td>TrueBeam 3</td>\n",
       "      <td>2017-09-14</td>\n",
       "      <td>14:00-15:59</td>\n",
       "      <td>2017-09-14</td>\n",
       "      <td>12:00-15:59</td>\n",
       "      <td>Radiation Therapist</td>\n",
       "      <td>Treatment planner or dosimetrist</td>\n",
       "      <td>January</td>\n",
       "      <td>1950</td>\n",
       "      <td>Female</td>\n",
       "      <td>Breast cancer</td>\n",
       "      <td>Treatment delivery</td>\n",
       "      <td>Treatment planning</td>\n",
       "      <td>Other</td>\n",
       "      <td>Human resources inadequate &amp; Not followed</td>\n",
       "      <td>1</td>\n",
       "      <td>External beam photon radiotherapy - 3D conformal</td>\n",
       "      <td>40.0</td>\n",
       "      <td>15.0</td>\n",
       "      <td>0.0</td>\n",
       "      <td>NaN</td>\n",
       "      <td>NaN</td>\n",
       "      <td>Thorax</td>\n",
       "      <td>Curative (Radical)</td>\n",
       "      <td>Other</td>\n",
       "      <td>None</td>\n",
       "      <td>NaN</td>\n",
       "      <td>Increase staffing levels or decrease workload</td>\n",
       "    </tr>\n",
       "    <tr>\n",
       "      <th>1</th>\n",
       "      <td>123489</td>\n",
       "      <td>Actual incident</td>\n",
       "      <td>A patient was to be treated for cord compressi...</td>\n",
       "      <td>Lost mask led to postponing treatment. Patient...</td>\n",
       "      <td>NaN</td>\n",
       "      <td>Patient's replan should have been made higher ...</td>\n",
       "      <td>Severe</td>\n",
       "      <td>None</td>\n",
       "      <td>No</td>\n",
       "      <td>STx 1</td>\n",
       "      <td>2017-09-14</td>\n",
       "      <td>10:00-11:59</td>\n",
       "      <td>2017-09-01</td>\n",
       "      <td>12:00-15:59</td>\n",
       "      <td>Patient &amp; Family member</td>\n",
       "      <td>Radiation therapist &amp; Radiation oncologist</td>\n",
       "      <td>January</td>\n",
       "      <td>1950</td>\n",
       "      <td>Female</td>\n",
       "      <td>Central nervous system tumors</td>\n",
       "      <td>On-treatment quality management</td>\n",
       "      <td>Treatment delivery</td>\n",
       "      <td>Wrong treatment accessories</td>\n",
       "      <td>Human resources inadequate &amp; Capital resources...</td>\n",
       "      <td>1</td>\n",
       "      <td>External beam photon radiotherapy - Modulated ...</td>\n",
       "      <td>60.0</td>\n",
       "      <td>30.0</td>\n",
       "      <td>0.0</td>\n",
       "      <td>NaN</td>\n",
       "      <td>NaN</td>\n",
       "      <td>Spine</td>\n",
       "      <td>Palliative</td>\n",
       "      <td>Medical management of patient injury &amp; Radiati...</td>\n",
       "      <td>Verification of treatment accessories</td>\n",
       "      <td>None</td>\n",
       "      <td>Process standardization &amp; Increase staffing le...</td>\n",
       "    </tr>\n",
       "    <tr>\n",
       "      <th>2</th>\n",
       "      <td>123490</td>\n",
       "      <td>Actual incident</td>\n",
       "      <td>Imaging guidelines were not respected: (1) KV/...</td>\n",
       "      <td>Imaging guidelines not followed: excessive ima...</td>\n",
       "      <td>NaN</td>\n",
       "      <td>IGRT guidelines were not followed. Technologis...</td>\n",
       "      <td>None</td>\n",
       "      <td>None</td>\n",
       "      <td>No</td>\n",
       "      <td>TrueBeam 4</td>\n",
       "      <td>2017-08-23</td>\n",
       "      <td>16:00-19:59</td>\n",
       "      <td>2017-08-23</td>\n",
       "      <td>12:00-15:59</td>\n",
       "      <td>Radiation Therapist</td>\n",
       "      <td>Radiation therapist</td>\n",
       "      <td>January</td>\n",
       "      <td>1950</td>\n",
       "      <td>Male</td>\n",
       "      <td>Gastrointestinal cancer</td>\n",
       "      <td>On-treatment quality management</td>\n",
       "      <td>Treatment delivery</td>\n",
       "      <td>Other</td>\n",
       "      <td>Not followed</td>\n",
       "      <td>1</td>\n",
       "      <td>External beam photon radiotherapy - Modulated ...</td>\n",
       "      <td>25.0</td>\n",
       "      <td>5.0</td>\n",
       "      <td>3.0</td>\n",
       "      <td>NaN</td>\n",
       "      <td>NaN</td>\n",
       "      <td>Pelvis</td>\n",
       "      <td>Curative (Radical)</td>\n",
       "      <td>Education or training</td>\n",
       "      <td>Review of portal or CBCT images</td>\n",
       "      <td>NaN</td>\n",
       "      <td>Improved compliance with existing policies or ...</td>\n",
       "    </tr>\n",
       "    <tr>\n",
       "      <th>3</th>\n",
       "      <td>123491</td>\n",
       "      <td>Near miss</td>\n",
       "      <td>CT sim setup sheet was missing information per...</td>\n",
       "      <td>Information missing from ctsim s/u sheet</td>\n",
       "      <td>NaN</td>\n",
       "      <td>Presence of a mattress was not indicated on th...</td>\n",
       "      <td>NaN</td>\n",
       "      <td>NaN</td>\n",
       "      <td>NaN</td>\n",
       "      <td>TrueBeam 3</td>\n",
       "      <td>2017-09-02</td>\n",
       "      <td>12:00-13:59</td>\n",
       "      <td>2017-08-30</td>\n",
       "      <td>08:00-11:59</td>\n",
       "      <td>Radiation Therapist</td>\n",
       "      <td>Radiation therapist</td>\n",
       "      <td>January</td>\n",
       "      <td>1950</td>\n",
       "      <td>Female</td>\n",
       "      <td>Breast cancer</td>\n",
       "      <td>On-treatment quality management</td>\n",
       "      <td>Imaging for radiotherapy planning</td>\n",
       "      <td>Wrong treatment accessories</td>\n",
       "      <td>Documentation poor, incomplete, unclear or mis...</td>\n",
       "      <td>0 (Reportable circumstance / Near miss)</td>\n",
       "      <td>External beam photon radiotherapy - 3D conformal</td>\n",
       "      <td>NaN</td>\n",
       "      <td>NaN</td>\n",
       "      <td>NaN</td>\n",
       "      <td>NaN</td>\n",
       "      <td>NaN</td>\n",
       "      <td>Thorax</td>\n",
       "      <td>NaN</td>\n",
       "      <td>Staff debriefing or counselling</td>\n",
       "      <td>Verification of treatment accessories</td>\n",
       "      <td>Image-based patient position verification</td>\n",
       "      <td>NaN</td>\n",
       "    </tr>\n",
       "    <tr>\n",
       "      <th>4</th>\n",
       "      <td>123492</td>\n",
       "      <td>Actual incident</td>\n",
       "      <td>During chart QA, it was noticed that a 0.3cm b...</td>\n",
       "      <td>Bolus forgotten 2/10 fx</td>\n",
       "      <td>NaN</td>\n",
       "      <td>Importance of verifying all treatment accessor...</td>\n",
       "      <td>None</td>\n",
       "      <td>Minor</td>\n",
       "      <td>No</td>\n",
       "      <td>TrueBeam 5</td>\n",
       "      <td>2017-08-16</td>\n",
       "      <td>16:00-19:59</td>\n",
       "      <td>2017-08-15</td>\n",
       "      <td>12:00-15:59</td>\n",
       "      <td>Radiation Therapist</td>\n",
       "      <td>Radiation therapist</td>\n",
       "      <td>January</td>\n",
       "      <td>1950</td>\n",
       "      <td>Female</td>\n",
       "      <td>Breast cancer</td>\n",
       "      <td>On-treatment quality management</td>\n",
       "      <td>Treatment delivery</td>\n",
       "      <td>Wrong treatment accessories</td>\n",
       "      <td>Not followed &amp; Documentation poor, incomplete,...</td>\n",
       "      <td>1</td>\n",
       "      <td>External beam photon radiotherapy - 3D conformal</td>\n",
       "      <td>50.0</td>\n",
       "      <td>25.0</td>\n",
       "      <td>2.0</td>\n",
       "      <td>NaN</td>\n",
       "      <td>NaN</td>\n",
       "      <td>Thorax</td>\n",
       "      <td>Curative (Radical)</td>\n",
       "      <td>Education or training</td>\n",
       "      <td>Verification of treatment accessories</td>\n",
       "      <td>NaN</td>\n",
       "      <td>Improved compliance with existing policies or ...</td>\n",
       "    </tr>\n",
       "  </tbody>\n",
       "</table>\n",
       "</div>"
      ],
      "text/plain": [
       "   incident_id       event_type  \\\n",
       "0       123488  Actual incident   \n",
       "1       123489  Actual incident   \n",
       "2       123490  Actual incident   \n",
       "3       123491        Near miss   \n",
       "4       123492  Actual incident   \n",
       "\n",
       "                                incident_description  \\\n",
       "0  Patient was scheduled for initial treatment fr...   \n",
       "1  A patient was to be treated for cord compressi...   \n",
       "2  Imaging guidelines were not respected: (1) KV/...   \n",
       "3  CT sim setup sheet was missing information per...   \n",
       "4  During chart QA, it was noticed that a 0.3cm b...   \n",
       "\n",
       "                                          descriptor  coordinator_comments  \\\n",
       "0                   Plan was an hour and a half late                   NaN   \n",
       "1  Lost mask led to postponing treatment. Patient...                   NaN   \n",
       "2  Imaging guidelines not followed: excessive ima...                   NaN   \n",
       "3           Information missing from ctsim s/u sheet                   NaN   \n",
       "4                            Bolus forgotten 2/10 fx                   NaN   \n",
       "\n",
       "                             investigation_narrative acute_medical_harm  \\\n",
       "0  Not enough time was provided for planning to c...               None   \n",
       "1  Patient's replan should have been made higher ...             Severe   \n",
       "2  IGRT guidelines were not followed. Technologis...               None   \n",
       "3  Presence of a mattress was not indicated on th...                NaN   \n",
       "4  Importance of verifying all treatment accessor...               None   \n",
       "\n",
       "  dosimetric_impact latent_medical_harm functional_work_area  \\\n",
       "0              None                  No           TrueBeam 3   \n",
       "1              None                  No                STx 1   \n",
       "2              None                  No           TrueBeam 4   \n",
       "3               NaN                 NaN           TrueBeam 3   \n",
       "4             Minor                  No           TrueBeam 5   \n",
       "\n",
       "  date_incident_detected time_period_detected date_incident_occurred  \\\n",
       "0             2017-09-14          14:00-15:59             2017-09-14   \n",
       "1             2017-09-14          10:00-11:59             2017-09-01   \n",
       "2             2017-08-23          16:00-19:59             2017-08-23   \n",
       "3             2017-09-02          12:00-13:59             2017-08-30   \n",
       "4             2017-08-16          16:00-19:59             2017-08-15   \n",
       "\n",
       "  time_period_occurred      individual_detected  \\\n",
       "0          12:00-15:59      Radiation Therapist   \n",
       "1          12:00-15:59  Patient & Family member   \n",
       "2          12:00-15:59      Radiation Therapist   \n",
       "3          08:00-11:59      Radiation Therapist   \n",
       "4          12:00-15:59      Radiation Therapist   \n",
       "\n",
       "                          individual_involved patient_month_birth  \\\n",
       "0            Treatment planner or dosimetrist             January   \n",
       "1  Radiation therapist & Radiation oncologist             January   \n",
       "2                         Radiation therapist             January   \n",
       "3                         Radiation therapist             January   \n",
       "4                         Radiation therapist             January   \n",
       "\n",
       "   patient_year_birth patient_gender                      diagnosis  \\\n",
       "0                1950         Female                  Breast cancer   \n",
       "1                1950         Female  Central nervous system tumors   \n",
       "2                1950           Male        Gastrointestinal cancer   \n",
       "3                1950         Female                  Breast cancer   \n",
       "4                1950         Female                  Breast cancer   \n",
       "\n",
       "             process_step_detected              process_step_occurred  \\\n",
       "0               Treatment delivery                 Treatment planning   \n",
       "1  On-treatment quality management                 Treatment delivery   \n",
       "2  On-treatment quality management                 Treatment delivery   \n",
       "3  On-treatment quality management  Imaging for radiotherapy planning   \n",
       "4  On-treatment quality management                 Treatment delivery   \n",
       "\n",
       "                  problem_type  \\\n",
       "0                        Other   \n",
       "1  Wrong treatment accessories   \n",
       "2                        Other   \n",
       "3  Wrong treatment accessories   \n",
       "4  Wrong treatment accessories   \n",
       "\n",
       "                                contributing_factors  \\\n",
       "0          Human resources inadequate & Not followed   \n",
       "1  Human resources inadequate & Capital resources...   \n",
       "2                                       Not followed   \n",
       "3  Documentation poor, incomplete, unclear or mis...   \n",
       "4  Not followed & Documentation poor, incomplete,...   \n",
       "\n",
       "                  number_patients_affected  \\\n",
       "0                                        1   \n",
       "1                                        1   \n",
       "2                                        1   \n",
       "3  0 (Reportable circumstance / Near miss)   \n",
       "4                                        1   \n",
       "\n",
       "                      radiation_treatment_techniques  total_dose_prescribed  \\\n",
       "0   External beam photon radiotherapy - 3D conformal                   40.0   \n",
       "1  External beam photon radiotherapy - Modulated ...                   60.0   \n",
       "2  External beam photon radiotherapy - Modulated ...                   25.0   \n",
       "3   External beam photon radiotherapy - 3D conformal                    NaN   \n",
       "4   External beam photon radiotherapy - 3D conformal                   50.0   \n",
       "\n",
       "   number_fractions_prescribed  number_fractions_incorrect  \\\n",
       "0                         15.0                         0.0   \n",
       "1                         30.0                         0.0   \n",
       "2                          5.0                         3.0   \n",
       "3                          NaN                         NaN   \n",
       "4                         25.0                         2.0   \n",
       "\n",
       "   hardware_manufacturer_model  software_manufacturer_model  \\\n",
       "0                          NaN                          NaN   \n",
       "1                          NaN                          NaN   \n",
       "2                          NaN                          NaN   \n",
       "3                          NaN                          NaN   \n",
       "4                          NaN                          NaN   \n",
       "\n",
       "  body_region_treated    treatment_intent  \\\n",
       "0              Thorax  Curative (Radical)   \n",
       "1               Spine          Palliative   \n",
       "2              Pelvis  Curative (Radical)   \n",
       "3              Thorax                 NaN   \n",
       "4              Thorax  Curative (Radical)   \n",
       "\n",
       "                                ameliorating_actions  \\\n",
       "0                                              Other   \n",
       "1  Medical management of patient injury & Radiati...   \n",
       "2                              Education or training   \n",
       "3                    Staff debriefing or counselling   \n",
       "4                              Education or training   \n",
       "\n",
       "                  safety_barriers_failed  \\\n",
       "0                                   None   \n",
       "1  Verification of treatment accessories   \n",
       "2        Review of portal or CBCT images   \n",
       "3  Verification of treatment accessories   \n",
       "4  Verification of treatment accessories   \n",
       "\n",
       "                   safety_barriers_prevented  \\\n",
       "0                                        NaN   \n",
       "1                                       None   \n",
       "2                                        NaN   \n",
       "3  Image-based patient position verification   \n",
       "4                                        NaN   \n",
       "\n",
       "                                 actions_reduce_risk  \n",
       "0      Increase staffing levels or decrease workload  \n",
       "1  Process standardization & Increase staffing le...  \n",
       "2  Improved compliance with existing policies or ...  \n",
       "3                                                NaN  \n",
       "4  Improved compliance with existing policies or ...  "
      ]
     },
     "execution_count": 2,
     "metadata": {},
     "output_type": "execute_result"
    }
   ],
   "source": [
    "fake = pandas.read_csv('fake_data.csv', delimiter=',')\n",
    "fake[:5]"
   ]
  },
  {
   "cell_type": "code",
   "execution_count": 3,
   "metadata": {},
   "outputs": [
    {
     "data": {
      "text/plain": [
       "Index(['incident_id', 'event_type', 'incident_description', 'descriptor',\n",
       "       'coordinator_comments', 'investigation_narrative', 'acute_medical_harm',\n",
       "       'dosimetric_impact', 'latent_medical_harm', 'functional_work_area',\n",
       "       'date_incident_detected', 'time_period_detected',\n",
       "       'date_incident_occurred', 'time_period_occurred', 'individual_detected',\n",
       "       'individual_involved', 'patient_month_birth', 'patient_year_birth',\n",
       "       'patient_gender', 'diagnosis', 'process_step_detected',\n",
       "       'process_step_occurred', 'problem_type', 'contributing_factors',\n",
       "       'number_patients_affected', 'radiation_treatment_techniques',\n",
       "       'total_dose_prescribed', 'number_fractions_prescribed',\n",
       "       'number_fractions_incorrect', 'hardware_manufacturer_model',\n",
       "       'software_manufacturer_model', 'body_region_treated',\n",
       "       'treatment_intent', 'ameliorating_actions', 'safety_barriers_failed',\n",
       "       'safety_barriers_prevented', 'actions_reduce_risk'],\n",
       "      dtype='object')"
      ]
     },
     "execution_count": 3,
     "metadata": {},
     "output_type": "execute_result"
    }
   ],
   "source": [
    "fake.columns"
   ]
  },
  {
   "cell_type": "code",
   "execution_count": 4,
   "metadata": {},
   "outputs": [
    {
     "data": {
      "text/plain": [
       "0    Patient was scheduled for initial treatment fr...\n",
       "1    A patient was to be treated for cord compressi...\n",
       "2    Imaging guidelines were not respected: (1) KV/...\n",
       "3    CT sim setup sheet was missing information per...\n",
       "4    During chart QA, it was noticed that a 0.3cm b...\n",
       "5    During physics chart check it was noticed that...\n",
       "6    Called patient to give appointment for January...\n",
       "7    No stent was indicated on the MRI consent form...\n",
       "8    Patient booked for iso/rx, but treatment cance...\n",
       "9          Patient was treated with their dentures in.\n",
       "Name: incident_description, dtype: object"
      ]
     },
     "execution_count": 4,
     "metadata": {},
     "output_type": "execute_result"
    }
   ],
   "source": [
    "description = fake['incident_description']\n",
    "description"
   ]
  },
  {
   "cell_type": "code",
   "execution_count": 5,
   "metadata": {},
   "outputs": [
    {
     "data": {
      "text/plain": [
       "33.200000000000003"
      ]
     },
     "execution_count": 5,
     "metadata": {},
     "output_type": "execute_result"
    }
   ],
   "source": [
    "def avg_wc(column):\n",
    "    return numpy.mean([len(event.split()) for event in column])\n",
    "\n",
    "avg_wc(description)"
   ]
  },
  {
   "cell_type": "code",
   "execution_count": 6,
   "metadata": {},
   "outputs": [
    {
     "data": {
      "text/plain": [
       "[('Patient', 'NNP'),\n",
       " ('was', 'VBD'),\n",
       " ('scheduled', 'VBN'),\n",
       " ('for', 'IN'),\n",
       " ('initial', 'JJ'),\n",
       " ('treatment', 'NN'),\n",
       " ('fraction', 'NN'),\n",
       " ('at', 'IN'),\n",
       " ('3:00', 'CD'),\n",
       " ('pm.', 'NNS')]"
      ]
     },
     "execution_count": 6,
     "metadata": {},
     "output_type": "execute_result"
    }
   ],
   "source": [
    "def tag_all(column):\n",
    "    return nltk.pos_tag([word for sentence in column for word in sentence.split()])\n",
    "\n",
    "tag_all(description)[:10]"
   ]
  },
  {
   "cell_type": "code",
   "execution_count": 9,
   "metadata": {},
   "outputs": [
    {
     "data": {
      "text/plain": [
       "['treatment',\n",
       " 'fraction',\n",
       " 'pm.',\n",
       " 'plan',\n",
       " 'Patients',\n",
       " 'patient',\n",
       " 'cord',\n",
       " 'compression',\n",
       " 'mask.',\n",
       " 'day']"
      ]
     },
     "execution_count": 9,
     "metadata": {},
     "output_type": "execute_result"
    }
   ],
   "source": [
    "def get_tag(column, tag_list):\n",
    "    return [word for (word, tag) in tag_all(column) if tag in tag_list]\n",
    "\n",
    "get_tag(description, ['NN', 'NNS'])[:10]"
   ]
  },
  {
   "cell_type": "code",
   "execution_count": 8,
   "metadata": {},
   "outputs": [
    {
     "data": {
      "text/plain": [
       "0.2319277108433735"
      ]
     },
     "execution_count": 8,
     "metadata": {},
     "output_type": "execute_result"
    }
   ],
   "source": [
    "def composition(column, tag_list):\n",
    "    return len(get_tag(column, tag_list))/len([word for sentence in column for word in sentence.split()])\n",
    "\n",
    "composition(description, ['NN', 'NNS'])"
   ]
  },
  {
   "cell_type": "code",
   "execution_count": 14,
   "metadata": {},
   "outputs": [
    {
     "data": {
      "text/plain": [
       "['delay.', 'be', 'be', 'be', 'check', 'scan', 'mid', 'give', 'make', 'have']"
      ]
     },
     "execution_count": 14,
     "metadata": {},
     "output_type": "execute_result"
    }
   ],
   "source": [
    "get_tag(description, ['VBS', 'VB'])"
   ]
  },
  {
   "cell_type": "code",
   "execution_count": 16,
   "metadata": {},
   "outputs": [
    {
     "data": {
      "text/plain": [
       "0.030120481927710843"
      ]
     },
     "execution_count": 16,
     "metadata": {},
     "output_type": "execute_result"
    }
   ],
   "source": [
    "composition(description, ['VBS', 'VB'])"
   ]
  },
  {
   "cell_type": "code",
   "execution_count": 45,
   "metadata": {
    "collapsed": true
   },
   "outputs": [],
   "source": [
    "def txt(cl, nm):\n",
    "    f = open(nm,'w') \n",
    "    for row in fake['incident_description']:\n",
    "        f.write(row+' ')\n",
    "    f.close()\n",
    "txt(fake['incident_description'], 'f.txt')"
   ]
  },
  {
   "cell_type": "code",
   "execution_count": 48,
   "metadata": {},
   "outputs": [
    {
     "data": {
      "text/plain": [
       "<Text: Patient was scheduled for initial treatment fraction at...>"
      ]
     },
     "execution_count": 48,
     "metadata": {},
     "output_type": "execute_result"
    }
   ],
   "source": [
    "def nltk_ob(nm):\n",
    "    return nltk.text.Text(nltk.corpus.gutenberg.words(nm))\n",
    "\n",
    "des = nltk_ob('f.txt')\n",
    "des"
   ]
  },
  {
   "cell_type": "code",
   "execution_count": 58,
   "metadata": {},
   "outputs": [
    {
     "data": {
      "text/plain": [
       "[('.', 25),\n",
       " ('was', 21),\n",
       " ('the', 17),\n",
       " ('to', 12),\n",
       " (',', 11),\n",
       " ('a', 9),\n",
       " ('for', 8),\n",
       " ('patient', 7),\n",
       " ('and', 5),\n",
       " ('indicated', 5)]"
      ]
     },
     "execution_count": 58,
     "metadata": {},
     "output_type": "execute_result"
    }
   ],
   "source": [
    "def freq(ob):\n",
    "    return nltk.FreqDist(ob).most_common()\n",
    "\n",
    "freq(des)[:10]"
   ]
  },
  {
   "cell_type": "code",
   "execution_count": 69,
   "metadata": {},
   "outputs": [
    {
     "data": {
      "text/plain": [
       "[('Patient', 'was'),\n",
       " ('was', 'scheduled'),\n",
       " ('scheduled', 'for'),\n",
       " ('for', 'initial'),\n",
       " ('initial', 'treatment'),\n",
       " ('treatment', 'fraction'),\n",
       " ('fraction', 'at'),\n",
       " ('at', '3'),\n",
       " ('3', ':'),\n",
       " (':', '00')]"
      ]
     },
     "execution_count": 69,
     "metadata": {},
     "output_type": "execute_result"
    }
   ],
   "source": [
    "def bigram(ob):\n",
    "    return list(nltk.bigrams(ob))\n",
    "\n",
    "bigram(des)[:10]"
   ]
  }
 ],
 "metadata": {
  "kernelspec": {
   "display_name": "Python 3",
   "language": "python",
   "name": "python3"
  },
  "language_info": {
   "codemirror_mode": {
    "name": "ipython",
    "version": 3
   },
   "file_extension": ".py",
   "mimetype": "text/x-python",
   "name": "python",
   "nbconvert_exporter": "python",
   "pygments_lexer": "ipython3",
   "version": "3.6.2"
  }
 },
 "nbformat": 4,
 "nbformat_minor": 2
}
